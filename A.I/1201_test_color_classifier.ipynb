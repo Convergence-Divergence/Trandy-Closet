{
 "cells": [
  {
   "cell_type": "code",
   "execution_count": 59,
   "metadata": {},
   "outputs": [
    {
     "name": "stdout",
     "output_type": "stream",
     "text": [
      "ready\n"
     ]
    }
   ],
   "source": [
    "import json # import json module\n",
    "import os\n",
    "import os.path as pth\n",
    "from glob import glob\n",
    "import cv2\n",
    "import matplotlib.image as img\n",
    "import numpy as np\n",
    "import pandas as pd \n",
    "import tensorflow as tf\n",
    "import matplotlib.pyplot as plt\n",
    "%matplotlib inline \n",
    "from PIL import Image \n",
    "\n",
    "print('ready')\n"
   ]
  },
  {
   "cell_type": "code",
   "execution_count": 2,
   "metadata": {},
   "outputs": [
    {
     "name": "stdout",
     "output_type": "stream",
     "text": [
      "8081\n",
      "805\n"
     ]
    }
   ],
   "source": [
    "# with statement\n",
    "with open('./data/for_predict_color/list_description_inshop.json') as json_file:\n",
    "    json_data = json.load(json_file)\n",
    "    \n",
    "\n",
    "color_list = []\n",
    "for i in json_data:\n",
    "    color_list.append(i['color'])\n",
    "    \n",
    "color_set = set(color_list)\n",
    "\n",
    "\n",
    "print(len(color_list))\n",
    "print(len(color_set))"
   ]
  },
  {
   "cell_type": "code",
   "execution_count": 3,
   "metadata": {},
   "outputs": [
    {
     "name": "stdout",
     "output_type": "stream",
     "text": [
      "8081\n",
      "7982\n",
      "{'item': 'id_00000004', 'color': 'Black-cream', 'description': ['Made to stun with an effortlessly ethereal, bohemian design, this open-shoulder top is crafted from crinkled gauze with long bell sleeves and a tasseled self-tie neckline. Those details would be enough to lend it a covetable look, but the contrast geo embroidery along its bodice is what makes it classically chic. ', 'Unlined', 'Lightweight, woven', '100% rayon', '24\" full length, 43\" chest, 45\" waist, 26\" sleeve length', 'Measured from Small', 'Hand wash cold', 'Made in China']}\n"
     ]
    }
   ],
   "source": [
    "id_list = []\n",
    "for i in json_data:\n",
    "    id_list.append(i['item'])\n",
    "    \n",
    "id_set = set(id_list)\n",
    "\n",
    "\n",
    "print(len(id_list))\n",
    "print(len(id_set))\n",
    "print(json_data[3])"
   ]
  },
  {
   "cell_type": "code",
   "execution_count": 4,
   "metadata": {
    "scrolled": true
   },
   "outputs": [
    {
     "data": {
      "text/html": [
       "<div>\n",
       "<style scoped>\n",
       "    .dataframe tbody tr th:only-of-type {\n",
       "        vertical-align: middle;\n",
       "    }\n",
       "\n",
       "    .dataframe tbody tr th {\n",
       "        vertical-align: top;\n",
       "    }\n",
       "\n",
       "    .dataframe thead th {\n",
       "        text-align: right;\n",
       "    }\n",
       "</style>\n",
       "<table border=\"1\" class=\"dataframe\">\n",
       "  <thead>\n",
       "    <tr style=\"text-align: right;\">\n",
       "      <th></th>\n",
       "      <th>image_name</th>\n",
       "      <th>clothes_type</th>\n",
       "      <th>pose_type</th>\n",
       "      <th>x_1</th>\n",
       "      <th>y_1</th>\n",
       "      <th>x_2</th>\n",
       "      <th>y_2</th>\n",
       "    </tr>\n",
       "  </thead>\n",
       "  <tbody>\n",
       "    <tr>\n",
       "      <th>0</th>\n",
       "      <td>img/WOMEN/Blouses_Shirts/id_00000001/02_1_fron...</td>\n",
       "      <td>1</td>\n",
       "      <td>1</td>\n",
       "      <td>50</td>\n",
       "      <td>49</td>\n",
       "      <td>208</td>\n",
       "      <td>235</td>\n",
       "    </tr>\n",
       "    <tr>\n",
       "      <th>1</th>\n",
       "      <td>img/WOMEN/Blouses_Shirts/id_00000001/02_2_side...</td>\n",
       "      <td>1</td>\n",
       "      <td>2</td>\n",
       "      <td>119</td>\n",
       "      <td>48</td>\n",
       "      <td>136</td>\n",
       "      <td>234</td>\n",
       "    </tr>\n",
       "    <tr>\n",
       "      <th>2</th>\n",
       "      <td>img/WOMEN/Blouses_Shirts/id_00000001/02_3_back...</td>\n",
       "      <td>1</td>\n",
       "      <td>3</td>\n",
       "      <td>50</td>\n",
       "      <td>42</td>\n",
       "      <td>213</td>\n",
       "      <td>240</td>\n",
       "    </tr>\n",
       "    <tr>\n",
       "      <th>3</th>\n",
       "      <td>img/WOMEN/Blouses_Shirts/id_00000001/02_4_full...</td>\n",
       "      <td>1</td>\n",
       "      <td>4</td>\n",
       "      <td>82</td>\n",
       "      <td>30</td>\n",
       "      <td>162</td>\n",
       "      <td>129</td>\n",
       "    </tr>\n",
       "    <tr>\n",
       "      <th>4</th>\n",
       "      <td>img/WOMEN/Dresses/id_00000002/02_1_front.jpg</td>\n",
       "      <td>3</td>\n",
       "      <td>1</td>\n",
       "      <td>65</td>\n",
       "      <td>45</td>\n",
       "      <td>233</td>\n",
       "      <td>252</td>\n",
       "    </tr>\n",
       "  </tbody>\n",
       "</table>\n",
       "</div>"
      ],
      "text/plain": [
       "                                          image_name  clothes_type  pose_type  \\\n",
       "0  img/WOMEN/Blouses_Shirts/id_00000001/02_1_fron...             1          1   \n",
       "1  img/WOMEN/Blouses_Shirts/id_00000001/02_2_side...             1          2   \n",
       "2  img/WOMEN/Blouses_Shirts/id_00000001/02_3_back...             1          3   \n",
       "3  img/WOMEN/Blouses_Shirts/id_00000001/02_4_full...             1          4   \n",
       "4       img/WOMEN/Dresses/id_00000002/02_1_front.jpg             3          1   \n",
       "\n",
       "   x_1  y_1  x_2  y_2  \n",
       "0   50   49  208  235  \n",
       "1  119   48  136  234  \n",
       "2   50   42  213  240  \n",
       "3   82   30  162  129  \n",
       "4   65   45  233  252  "
      ]
     },
     "metadata": {},
     "output_type": "display_data"
    }
   ],
   "source": [
    "df_cloth_bbox = pd.read_csv('./data/for_predict_color/list_bbox_inshop.txt', sep='\\s+', skiprows=1)\n",
    "display(df_cloth_bbox.head())"
   ]
  },
  {
   "cell_type": "code",
   "execution_count": 60,
   "metadata": {},
   "outputs": [
    {
     "name": "stdout",
     "output_type": "stream",
     "text": [
      "./data/for_predict_color/img/WOMEN/Blouses_Shirts/id_00004151/02_3_back.jpg\n",
      "./data/for_predict_color/img/WOMEN/Blouses_Shirts/id_00004151/02_1_front.jpg\n",
      "./data/for_predict_color/img/WOMEN/Blouses_Shirts/id_00004151/02_7_additional.jpg\n",
      "./data/for_predict_color/img/WOMEN/Blouses_Shirts/id_00004151/02_2_side.jpg\n",
      "./data/for_predict_color/img/WOMEN/Blouses_Shirts/id_00000879/01_1_front.jpg\n",
      "./data/for_predict_color/img/WOMEN/Blouses_Shirts/id_00000879/01_3_back.jpg\n",
      "./data/for_predict_color/img/WOMEN/Blouses_Shirts/id_00000879/01_2_side.jpg\n",
      "./data/for_predict_color/img/WOMEN/Blouses_Shirts/id_00000879/01_7_additional.jpg\n",
      "./data/for_predict_color/img/WOMEN/Blouses_Shirts/id_00003741/03_7_additional.jpg\n",
      "./data/for_predict_color/img/WOMEN/Blouses_Shirts/id_00003741/04_4_full.jpg\n",
      "./data/for_predict_color/img/WOMEN/Blouses_Shirts/id_00003741/04_2_side.jpg\n",
      "./data/for_predict_color/img/WOMEN/Blouses_Shirts/id_00003741/03_4_full.jpg\n",
      "./data/for_predict_color/img/WOMEN/Blouses_Shirts/id_00003741/04_1_front.jpg\n",
      "./data/for_predict_color/img/WOMEN/Blouses_Shirts/id_00003741/03_2_side.jpg\n",
      "./data/for_predict_color/img/WOMEN/Blouses_Shirts/id_00003741/03_1_front.jpg\n",
      "./data/for_predict_color/img/WOMEN/Blouses_Shirts/id_00003741/04_7_additional.jpg\n",
      "./data/for_predict_color/img/WOMEN/Blouses_Shirts/id_00005572/05_1_front.jpg\n",
      "./data/for_predict_color/img/WOMEN/Blouses_Shirts/id_00005572/02_4_full.jpg\n",
      "./data/for_predict_color/img/WOMEN/Blouses_Shirts/id_00005572/02_3_back.jpg\n",
      "./data/for_predict_color/img/WOMEN/Blouses_Shirts/id_00005572/02_1_front.jpg\n"
     ]
    }
   ],
   "source": [
    "path_color_classi = os.path.join('./data/for_predict_color/img')\n",
    "\n",
    "path_list = glob(os.path.join(path_color_classi, '*', '*', '*', '*.jpg'))\n",
    "\n",
    "for i in range(20):\n",
    "    print(path_list[i])"
   ]
  },
  {
   "cell_type": "code",
   "execution_count": 66,
   "metadata": {},
   "outputs": [
    {
     "name": "stdout",
     "output_type": "stream",
     "text": [
      "img/WOMEN/Blouses_Shirts/id_00004151/02_3_back.jpg\n",
      "27277    74\n",
      "Name: x_1, dtype: int64\n"
     ]
    }
   ],
   "source": [
    "def make_crop(file_path, my_bbox_df):\n",
    "    img = Image.open(file_path)\n",
    "    crop_square = (my_bbox_df['x_1'], my_bbox_df['y_1'], my_bbox_df['x_2'], my_bbox_df['y_2'])\n",
    "    \n",
    "    crop_img = img.crop(crop_square)\n",
    "    \n",
    "    return crop_img\n",
    "\n",
    "\n",
    "print('img'+path_list[0][28:])\n",
    "print(df_cloth_bbox.loc[df_cloth_bbox['image_name'] == 'img'+path_list[0][28:]]['x_1'])"
   ]
  },
  {
   "cell_type": "code",
   "execution_count": 67,
   "metadata": {},
   "outputs": [
    {
     "name": "stdout",
     "output_type": "stream",
     "text": [
      "['./data/for_predict_color/img/WOMEN/Blouses_Shirts/id_00004151/02_3_back.jpg', './data/for_predict_color/img/WOMEN/Blouses_Shirts/id_00004151/02_1_front.jpg', './data/for_predict_color/img/WOMEN/Blouses_Shirts/id_00004151/02_7_additional.jpg', './data/for_predict_color/img/WOMEN/Blouses_Shirts/id_00004151/02_2_side.jpg']\n"
     ]
    }
   ],
   "source": [
    "# 이미지들의 id별로 path확보\n",
    "\n",
    "path_color_classi = os.path.join('./data/for_predict_color/img')\n",
    "\n",
    "tmp_list = []\n",
    "img_path_sort_by_id = {}\n",
    "for i in id_set:\n",
    "    tmp_list = glob(os.path.join(path_color_classi, '*', '*', i, '*.jpg'))\n",
    "    img_path_sort_by_id[i] = tmp_list\n",
    "\n",
    "print(img_path_sort_by_id['id_00004151'])"
   ]
  },
  {
   "cell_type": "code",
   "execution_count": 68,
   "metadata": {},
   "outputs": [
    {
     "name": "stdout",
     "output_type": "stream",
     "text": [
      "[('id_00000001', 'Cream'), ('id_00000002', 'Black-blush'), ('id_00000003', 'Heather grey'), ('id_00000004', 'Black-cream'), ('id_00000005', 'Burgundy'), ('id_00000006', 'Heather grey-black'), ('id_00000007', 'Heather grey-black'), ('id_00000008', 'Black'), ('id_00000009', 'Cream-multi'), ('id_00000010', 'Black')]\n"
     ]
    }
   ],
   "source": [
    "# 이미지의 id와 color로 이루어진 튜플로 리스트 만들기\n",
    "\n",
    "id_color_list = []\n",
    "for i in json_data:\n",
    "    id_color_list.append((i['item'], i['color']))\n",
    "    \n",
    "print(id_color_list[0:10])"
   ]
  },
  {
   "cell_type": "code",
   "execution_count": 69,
   "metadata": {},
   "outputs": [],
   "source": [
    "img_color_and_path = {}\n",
    "\n",
    "for i in color_set:\n",
    "    tmplist = []\n",
    "    for j in id_color_list:\n",
    "        if i == j[1]:\n",
    "            paths = glob(os.path.join(path_color_classi, '*', '*', j[0], '*.jpg'))\n",
    "            tmplist = tmplist + paths\n",
    "        else:\n",
    "            pass\n",
    "    img_color_and_path[i] = tmplist"
   ]
  },
  {
   "cell_type": "code",
   "execution_count": 105,
   "metadata": {},
   "outputs": [
    {
     "name": "stdout",
     "output_type": "stream",
     "text": [
      "Wine  :  661\n",
      "Black-grey  :  280\n",
      "Dark denim  :  167\n",
      "White-black  :  1156\n",
      "Light blue  :  367\n",
      "Lime  :  204\n",
      "Lavender  :  185\n",
      "Oatmeal  :  605\n",
      "Seafoam  :  171\n",
      "Burgundy  :  2569\n",
      "White  :  650\n",
      "Black-white  :  953\n",
      "Dark grey  :  114\n",
      "Olive  :  1247\n",
      "Black-pink  :  215\n",
      "Bubble gum  :  187\n",
      "Rose  :  327\n",
      "Navy-red  :  201\n",
      "Blue-white  :  282\n",
      "Khaki  :  335\n",
      "Cream-black  :  1756\n",
      "Rust  :  1016\n",
      "Peacock  :  270\n",
      "Amber  :  654\n",
      "Denim  :  604\n",
      "Red-cream  :  238\n",
      "Heather grey  :  1576\n",
      "Taupe  :  691\n",
      "Blue-black  :  116\n",
      "Grey-black  :  131\n",
      "Indigo  :  533\n",
      "Orange  :  117\n",
      "Cream-grey  :  142\n",
      "Light denim  :  630\n",
      "Cream-multi  :  261\n",
      "Cream-navy  :  189\n",
      "Peach  :  228\n",
      "White-navy  :  116\n",
      "Black-gold  :  171\n",
      "Taupe-cream  :  118\n",
      "Blue-multi  :  133\n",
      "Heather grey-black  :  358\n",
      "Heather grey-white  :  156\n",
      "Hot pink  :  118\n",
      "Cream-blue  :  157\n",
      "Periwinkle  :  261\n",
      "Georgia peach  :  220\n",
      "Blue  :  226\n",
      "Black-taupe  :  178\n",
      "Cream-red  :  128\n",
      "Purple  :  148\n",
      "Black-red  :  270\n",
      "Blush  :  909\n",
      "Taupe-black  :  134\n",
      "Tangerine  :  112\n",
      "Black-multi  :  286\n",
      "White-blue  :  162\n",
      "Black-black  :  193\n",
      "Teal  :  692\n",
      "Mustard  :  861\n",
      "Ivory  :  208\n",
      "Blue-cream  :  417\n",
      "Black-cream  :  1659\n",
      "Yellow  :  137\n",
      "Mauve  :  432\n",
      "Beige  :  225\n",
      "Silver  :  132\n",
      "Red-white  :  111\n",
      "Dusty pink  :  129\n",
      "Dark navy  :  125\n",
      "Eggplant  :  115\n",
      "Black  :  3440\n",
      "Red-black  :  153\n",
      "Aqua  :  316\n",
      "Sunset gold  :  109\n",
      "Brown  :  217\n",
      "Blue-navy  :  116\n",
      "Navy-multi  :  155\n",
      "Navy-white  :  404\n",
      "Royal  :  234\n",
      "Coral  :  497\n",
      "Teal-black  :  133\n",
      "Oatmeal-black  :  160\n",
      "Grey  :  499\n",
      "Medium denim  :  201\n",
      "Navy-cream  :  365\n",
      "Navy  :  895\n",
      "Charcoal  :  164\n",
      "Tomato  :  303\n",
      "Cream  :  3151\n",
      "Light grey  :  139\n",
      "Denim washed  :  472\n",
      "Red  :  226\n",
      "Pink  :  348\n",
      "White-multi  :  153\n",
      "Black-blue  :  198\n",
      "Ivory-black  :  178\n",
      "Black-ivory  :  143\n",
      " \n",
      " \n",
      "43194\n",
      "98\n"
     ]
    }
   ],
   "source": [
    "\n",
    "tmp = 0\n",
    "n = 0 \n",
    "del_list = []\n",
    "for i in img_color_and_path:\n",
    "    if len(img_color_and_path[i]) > 100:\n",
    "        print(i, ' : ',len(img_color_and_path[i]))\n",
    "        tmp += len(img_color_and_path[i])\n",
    "        n += 1\n",
    "    else:\n",
    "        del_list.append(i)\n",
    "    \n",
    "print(' ')\n",
    "print(' ')\n",
    "print(tmp)\n",
    "print(n)\n",
    "\n",
    "for i in del_list:\n",
    "    del img_color_and_path[i]"
   ]
  },
  {
   "cell_type": "code",
   "execution_count": 112,
   "metadata": {},
   "outputs": [
    {
     "name": "stdout",
     "output_type": "stream",
     "text": [
      "                                      image_name  clothes_type  pose_type  \\\n",
      "243  img/WOMEN/Dresses/id_00000041/03_2_side.jpg             3          2   \n",
      "\n",
      "     x_1  y_1  x_2  y_2  \n",
      "243   77    1  179  232  \n",
      "img/WOMEN/Dresses/id_00000041/03_2_side.jpg\n"
     ]
    },
    {
     "data": {
      "text/plain": [
       "<matplotlib.image.AxesImage at 0x7fb174b8a2b0>"
      ]
     },
     "execution_count": 112,
     "metadata": {},
     "output_type": "execute_result"
    },
    {
     "data": {
      "image/png": "[encoded data removed]",
      "text/plain": [
       "<Figure size 432x288 with 1 Axes>"
      ]
     },
     "metadata": {
      "needs_background": "light"
     },
     "output_type": "display_data"
    }
   ],
   "source": [
    "def make_crop(file_path, my_bbox_df):\n",
    "    img = Image.open(file_path)\n",
    "    crop_square = (my_bbox_df['x_1'], my_bbox_df['y_1'], my_bbox_df['x_2'], my_bbox_df['y_2'])\n",
    "    \n",
    "    crop_img = img.crop(crop_square)\n",
    "    \n",
    "    return crop_img\n",
    "\n",
    "\n",
    "filepath = img_color_and_path['Navy'][10]\n",
    "\n",
    "# img = Image.open(filepath)\n",
    "# print(img.size)\n",
    "# print(img.format)\n",
    "\n",
    "print(df_cloth_bbox.loc[df_cloth_bbox['image_name'] == filepath[25:]])\n",
    "print(filepath[25:])\n",
    "\n",
    "\n",
    "img = make_crop(filepath, df_cloth_bbox.loc[df_cloth_bbox['image_name'] == filepath[25:]])\n",
    "npimg = np.array(img)\n",
    "plt.imshow(npimg)\n"
   ]
  },
  {
   "cell_type": "code",
   "execution_count": null,
   "metadata": {},
   "outputs": [],
   "source": [
    "# def make_folder(folder_name): # 폴더 생성 함수\n",
    "\n",
    "#     if not os.path.isdir(folder_name):\n",
    "#         os.mkdir(folder_name)\n",
    "        \n",
    "\n",
    "# for i in my_category_dict:\n",
    "#     make_folder('./data/train_by_category/img_category/' + i + '/')\n",
    "#     print(i)"
   ]
  }
 ],
 "metadata": {
  "kernelspec": {
   "display_name": "Python [conda env:tensorflow2_p36] *",
   "language": "python",
   "name": "conda-env-tensorflow2_p36-py"
  },
  "language_info": {
   "codemirror_mode": {
    "name": "ipython",
    "version": 3
   },
   "file_extension": ".py",
   "mimetype": "text/x-python",
   "name": "python",
   "nbconvert_exporter": "python",
   "pygments_lexer": "ipython3",
   "version": "3.6.10"
  }
 },
 "nbformat": 4,
 "nbformat_minor": 4
}
