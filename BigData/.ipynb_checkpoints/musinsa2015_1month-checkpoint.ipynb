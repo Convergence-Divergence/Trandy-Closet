{
 "cells": [
  {
   "cell_type": "code",
   "execution_count": 1,
   "metadata": {},
   "outputs": [],
   "source": [
    "import requests\n",
    "import datetime\n",
    "import requests\n",
    "from bs4 import BeautifulSoup as bs\n",
    "import numpy as np\n",
    "import time\n",
    "import shutil"
   ]
  },
  {
   "cell_type": "markdown",
   "metadata": {},
   "source": [
    "# 1월 여자"
   ]
  },
  {
   "cell_type": "code",
   "execution_count": 2,
   "metadata": {},
   "outputs": [
    {
     "name": "stderr",
     "output_type": "stream",
     "text": [
      "C:\\Users\\salient\\anaconda3\\envs\\pydatavenv\\lib\\site-packages\\bs4\\__init__.py:181: UserWarning: No parser was explicitly specified, so I'm using the best available HTML parser for this system (\"lxml\"). This usually isn't a problem, but if you run this code on another system, or in a different virtual environment, it may use a different parser and behave differently.\n",
      "\n",
      "The code that caused this warning is on line 193 of the file C:\\Users\\salient\\anaconda3\\envs\\pydatavenv\\lib\\runpy.py. To get rid of this warning, change code that looks like this:\n",
      "\n",
      " BeautifulSoup(YOUR_MARKUP})\n",
      "\n",
      "to this:\n",
      "\n",
      " BeautifulSoup(YOUR_MARKUP, \"lxml\")\n",
      "\n",
      "  markup_type=markup_type))\n"
     ]
    },
    {
     "name": "stdout",
     "output_type": "stream",
     "text": [
      "0 https://www.musinsa.com/index.php?m=street&_y=2018&_mon=1&gender=f&uid=40385\n",
      "1 https://www.musinsa.com/index.php?m=street&_y=2018&_mon=1&gender=f&p=1&uid=40385\n",
      "2 https://www.musinsa.com/index.php?m=street&_y=2018&_mon=1&gender=f&p=2&uid=40106\n",
      "3 https://www.musinsa.com/index.php?m=street&_y=2018&_mon=1&gender=f&p=3&uid=39964\n",
      "4 https://www.musinsa.com/index.php?m=street&_y=2018&_mon=1&gender=f&p=4&uid=40427\n",
      "5 https://www.musinsa.com/index.php?m=street&_y=2018&_mon=1&gender=f&p=5&uid=40657\n",
      "6 https://www.musinsa.com/index.php?m=street&_y=2018&_mon=1&gender=f&p=6&uid=39654\n",
      "7 https://www.musinsa.com/index.php?m=street&_y=2018&_mon=1&gender=f&p=7&uid=39907\n",
      "8 https://www.musinsa.com/index.php?m=street&_y=2018&_mon=1&gender=f&p=8&uid=40275\n",
      "9 https://www.musinsa.com/index.php?m=street&_y=2018&_mon=1&gender=f&p=9&uid=39871\n"
     ]
    }
   ],
   "source": [
    "total_link =[]\n",
    "\n",
    "for page_number in range(100):\n",
    "    data = requests.get('https://www.musinsa.com/index.php?m=street&_y=2018&_mon=1&gender=f&p='+str(page_number)+'#listStart')\n",
    "    time.sleep(0.5)\n",
    "    s = bs(data.text,'html')\n",
    "    time.sleep(0.6)\n",
    "    if len([x.a['href'] for x in s.find_all(\"div\",class_='articleImg')]) ==0:\n",
    "        break\n",
    "    else:\n",
    "        total_link +=['https://www.musinsa.com/' +x.a['href'][1:] for x in s.find_all(\"div\",class_='articleImg')] \n",
    "    print(page_number,total_link[-1])"
   ]
  },
  {
   "cell_type": "code",
   "execution_count": 3,
   "metadata": {},
   "outputs": [],
   "source": [
    "for i,link in enumerate(total_link):\n",
    "    link = requests.get(link)\n",
    "    soup = bs(link.text,'html')\n",
    "    img_link = soup.find('div',class_='snapImg').img['src']\n",
    "    url_img = 'http:'+img_link\n",
    "    new_path ='./data/2018/01/fem/'\n",
    "    response = requests.get(url_img, stream=True)\n",
    "    with open(new_path+str(i)+\".jpg\", 'wb') as out_file:\n",
    "        shutil.copyfileobj(response.raw, out_file)\n",
    "    del response"
   ]
  },
  {
   "cell_type": "markdown",
   "metadata": {},
   "source": [
    "# 1월 남자"
   ]
  },
  {
   "cell_type": "code",
   "execution_count": 4,
   "metadata": {},
   "outputs": [
    {
     "name": "stdout",
     "output_type": "stream",
     "text": [
      "0 https://www.musinsa.com/index.php?m=street&_y=2018&_mon=1&gender=m&uid=40067\n",
      "1 https://www.musinsa.com/index.php?m=street&_y=2018&_mon=1&gender=m&p=1&uid=40067\n",
      "2 https://www.musinsa.com/index.php?m=street&_y=2018&_mon=1&gender=m&p=2&uid=39692\n",
      "3 https://www.musinsa.com/index.php?m=street&_y=2018&_mon=1&gender=m&p=3&uid=40415\n",
      "4 https://www.musinsa.com/index.php?m=street&_y=2018&_mon=1&gender=m&p=4&uid=40370\n",
      "5 https://www.musinsa.com/index.php?m=street&_y=2018&_mon=1&gender=m&p=5&uid=39482\n",
      "6 https://www.musinsa.com/index.php?m=street&_y=2018&_mon=1&gender=m&p=6&uid=40327\n",
      "7 https://www.musinsa.com/index.php?m=street&_y=2018&_mon=1&gender=m&p=7&uid=39876\n",
      "8 https://www.musinsa.com/index.php?m=street&_y=2018&_mon=1&gender=m&p=8&uid=39795\n"
     ]
    }
   ],
   "source": [
    "total_link =[]\n",
    "\n",
    "for page_number in range(100):\n",
    "    data = requests.get('https://www.musinsa.com/index.php?m=street&_y=2018&_mon=1&gender=m&p='+str(page_number)+'#listStart')\n",
    "    time.sleep(0.5)\n",
    "    s = bs(data.text,'html')\n",
    "    time.sleep(0.6)\n",
    "    if len([x.a['href'] for x in s.find_all(\"div\",class_='articleImg')]) ==0:\n",
    "        break\n",
    "    else:\n",
    "        total_link +=['https://www.musinsa.com/' +x.a['href'][1:] for x in s.find_all(\"div\",class_='articleImg')] \n",
    "    print(page_number,total_link[-1])"
   ]
  },
  {
   "cell_type": "code",
   "execution_count": 5,
   "metadata": {},
   "outputs": [],
   "source": [
    "for i,link in enumerate(total_link):\n",
    "    link = requests.get(link)\n",
    "    soup = bs(link.text,'html')\n",
    "    img_link = soup.find('div',class_='snapImg').img['src']\n",
    "    url_img = 'http:'+img_link\n",
    "    new_path ='./data/2018/01/male/'\n",
    "    response = requests.get(url_img, stream=True)\n",
    "    with open(new_path+str(i)+\".jpg\", 'wb') as out_file:\n",
    "        shutil.copyfileobj(response.raw, out_file)\n",
    "    del response"
   ]
  },
  {
   "cell_type": "markdown",
   "metadata": {},
   "source": [
    "# 2월 여자"
   ]
  },
  {
   "cell_type": "code",
   "execution_count": 6,
   "metadata": {},
   "outputs": [
    {
     "name": "stdout",
     "output_type": "stream",
     "text": [
      "0 https://www.musinsa.com/index.php?m=street&_y=2018&_mon=2&gender=f&uid=40967\n",
      "1 https://www.musinsa.com/index.php?m=street&_y=2018&_mon=2&gender=f&p=1&uid=40967\n",
      "2 https://www.musinsa.com/index.php?m=street&_y=2018&_mon=2&gender=f&p=2&uid=41116\n",
      "3 https://www.musinsa.com/index.php?m=street&_y=2018&_mon=2&gender=f&p=3&uid=40955\n",
      "4 https://www.musinsa.com/index.php?m=street&_y=2018&_mon=2&gender=f&p=4&uid=40907\n",
      "5 https://www.musinsa.com/index.php?m=street&_y=2018&_mon=2&gender=f&p=5&uid=41026\n"
     ]
    }
   ],
   "source": [
    "total_link =[]\n",
    "\n",
    "for page_number in range(100):\n",
    "    data = requests.get('https://www.musinsa.com/index.php?m=street&_y=2018&_mon=2&gender=f&p='+str(page_number)+'#listStart')\n",
    "    time.sleep(0.5)\n",
    "    s = bs(data.text,'html')\n",
    "    time.sleep(0.6)\n",
    "    if len([x.a['href'] for x in s.find_all(\"div\",class_='articleImg')]) ==0:\n",
    "        break\n",
    "    else:\n",
    "        total_link +=['https://www.musinsa.com/' +x.a['href'][1:] for x in s.find_all(\"div\",class_='articleImg')] \n",
    "    print(page_number,total_link[-1])"
   ]
  },
  {
   "cell_type": "code",
   "execution_count": 7,
   "metadata": {},
   "outputs": [],
   "source": [
    "for i,link in enumerate(total_link):\n",
    "    link = requests.get(link)\n",
    "    soup = bs(link.text,'html')\n",
    "    img_link = soup.find('div',class_='snapImg').img['src']\n",
    "    url_img = 'http:'+img_link\n",
    "    new_path ='./data/2018/02/fem/'\n",
    "    response = requests.get(url_img, stream=True)\n",
    "    with open(new_path+str(i)+\".jpg\", 'wb') as out_file:\n",
    "        shutil.copyfileobj(response.raw, out_file)\n",
    "    del response"
   ]
  },
  {
   "cell_type": "markdown",
   "metadata": {},
   "source": [
    "# 2월 남자"
   ]
  },
  {
   "cell_type": "code",
   "execution_count": 8,
   "metadata": {},
   "outputs": [
    {
     "name": "stdout",
     "output_type": "stream",
     "text": [
      "0 https://www.musinsa.com/index.php?m=street&_y=2018&_mon=2&gender=m&uid=41058\n",
      "1 https://www.musinsa.com/index.php?m=street&_y=2018&_mon=2&gender=m&p=1&uid=41058\n",
      "2 https://www.musinsa.com/index.php?m=street&_y=2018&_mon=2&gender=m&p=2&uid=40804\n",
      "3 https://www.musinsa.com/index.php?m=street&_y=2018&_mon=2&gender=m&p=3&uid=41125\n",
      "4 https://www.musinsa.com/index.php?m=street&_y=2018&_mon=2&gender=m&p=4&uid=41128\n",
      "5 https://www.musinsa.com/index.php?m=street&_y=2018&_mon=2&gender=m&p=5&uid=41311\n"
     ]
    }
   ],
   "source": [
    "total_link =[]\n",
    "\n",
    "for page_number in range(100):\n",
    "    data = requests.get('https://www.musinsa.com/index.php?m=street&_y=2018&_mon=2&gender=m&p='+str(page_number)+'#listStart')\n",
    "    time.sleep(0.5)\n",
    "    s = bs(data.text,'html')\n",
    "    time.sleep(0.6)\n",
    "    if len([x.a['href'] for x in s.find_all(\"div\",class_='articleImg')]) ==0:\n",
    "        break\n",
    "    else:\n",
    "        total_link +=['https://www.musinsa.com/' +x.a['href'][1:] for x in s.find_all(\"div\",class_='articleImg')] \n",
    "    print(page_number,total_link[-1])"
   ]
  },
  {
   "cell_type": "code",
   "execution_count": 9,
   "metadata": {},
   "outputs": [],
   "source": [
    "for i,link in enumerate(total_link):\n",
    "    link = requests.get(link)\n",
    "    soup = bs(link.text,'html')\n",
    "    img_link = soup.find('div',class_='snapImg').img['src']\n",
    "    url_img = 'http:'+img_link\n",
    "    new_path ='./data/2018/02/male/'\n",
    "    response = requests.get(url_img, stream=True)\n",
    "    with open(new_path+str(i)+\".jpg\", 'wb') as out_file:\n",
    "        shutil.copyfileobj(response.raw, out_file)\n",
    "    del response"
   ]
  },
  {
   "cell_type": "markdown",
   "metadata": {},
   "source": [
    "# 3월 여자"
   ]
  },
  {
   "cell_type": "code",
   "execution_count": 10,
   "metadata": {},
   "outputs": [
    {
     "name": "stdout",
     "output_type": "stream",
     "text": [
      "0 https://www.musinsa.com/index.php?m=street&_y=2018&_mon=3&gender=f&uid=41890\n",
      "1 https://www.musinsa.com/index.php?m=street&_y=2018&_mon=3&gender=f&p=1&uid=41890\n",
      "2 https://www.musinsa.com/index.php?m=street&_y=2018&_mon=3&gender=f&p=2&uid=42794\n",
      "3 https://www.musinsa.com/index.php?m=street&_y=2018&_mon=3&gender=f&p=3&uid=42075\n",
      "4 https://www.musinsa.com/index.php?m=street&_y=2018&_mon=3&gender=f&p=4&uid=41388\n",
      "5 https://www.musinsa.com/index.php?m=street&_y=2018&_mon=3&gender=f&p=5&uid=41641\n",
      "6 https://www.musinsa.com/index.php?m=street&_y=2018&_mon=3&gender=f&p=6&uid=41929\n",
      "7 https://www.musinsa.com/index.php?m=street&_y=2018&_mon=3&gender=f&p=7&uid=41746\n"
     ]
    }
   ],
   "source": [
    "total_link =[]\n",
    "\n",
    "for page_number in range(100):\n",
    "    data = requests.get('https://www.musinsa.com/index.php?m=street&_y=2018&_mon=3&gender=f&p='+str(page_number)+'#listStart')\n",
    "    time.sleep(0.5)\n",
    "    s = bs(data.text,'html')\n",
    "    time.sleep(0.6)\n",
    "    if len([x.a['href'] for x in s.find_all(\"div\",class_='articleImg')]) ==0:\n",
    "        break\n",
    "    else:\n",
    "        total_link +=['https://www.musinsa.com/' +x.a['href'][1:] for x in s.find_all(\"div\",class_='articleImg')] \n",
    "    print(page_number,total_link[-1])"
   ]
  },
  {
   "cell_type": "code",
   "execution_count": 12,
   "metadata": {},
   "outputs": [],
   "source": [
    "for i,link in enumerate(total_link):\n",
    "    link = requests.get(link)\n",
    "    soup = bs(link.text,'html')\n",
    "    img_link = soup.find('div',class_='snapImg').img['src']\n",
    "    url_img = 'http:'+img_link\n",
    "    new_path ='./data/2018/03/fem/'\n",
    "    response = requests.get(url_img, stream=True)\n",
    "    with open(new_path+str(i)+\".jpg\", 'wb') as out_file:\n",
    "        shutil.copyfileobj(response.raw, out_file)\n",
    "    del response"
   ]
  },
  {
   "cell_type": "markdown",
   "metadata": {},
   "source": [
    "# 3월 남자"
   ]
  },
  {
   "cell_type": "code",
   "execution_count": 13,
   "metadata": {},
   "outputs": [
    {
     "name": "stdout",
     "output_type": "stream",
     "text": [
      "0 https://www.musinsa.com/index.php?m=street&_y=2018&_mon=3&gender=m&uid=41451\n",
      "1 https://www.musinsa.com/index.php?m=street&_y=2018&_mon=3&gender=m&p=1&uid=41451\n",
      "2 https://www.musinsa.com/index.php?m=street&_y=2018&_mon=3&gender=m&p=2&uid=42069\n",
      "3 https://www.musinsa.com/index.php?m=street&_y=2018&_mon=3&gender=m&p=3&uid=41438\n",
      "4 https://www.musinsa.com/index.php?m=street&_y=2018&_mon=3&gender=m&p=4&uid=41697\n",
      "5 https://www.musinsa.com/index.php?m=street&_y=2018&_mon=3&gender=m&p=5&uid=42399\n",
      "6 https://www.musinsa.com/index.php?m=street&_y=2018&_mon=3&gender=m&p=6&uid=42216\n"
     ]
    }
   ],
   "source": [
    "total_link =[]\n",
    "\n",
    "for page_number in range(100):\n",
    "    data = requests.get('https://www.musinsa.com/index.php?m=street&_y=2018&_mon=3&gender=m&p='+str(page_number)+'#listStart')\n",
    "    time.sleep(0.5)\n",
    "    s = bs(data.text,'html')\n",
    "    time.sleep(0.6)\n",
    "    if len([x.a['href'] for x in s.find_all(\"div\",class_='articleImg')]) ==0:\n",
    "        break\n",
    "    else:\n",
    "        total_link +=['https://www.musinsa.com/' +x.a['href'][1:] for x in s.find_all(\"div\",class_='articleImg')] \n",
    "    print(page_number,total_link[-1])"
   ]
  },
  {
   "cell_type": "code",
   "execution_count": 14,
   "metadata": {},
   "outputs": [],
   "source": [
    "for i,link in enumerate(total_link):\n",
    "    link = requests.get(link)\n",
    "    soup = bs(link.text,'html')\n",
    "    img_link = soup.find('div',class_='snapImg').img['src']\n",
    "    url_img = 'http:'+img_link\n",
    "    new_path ='./data/2018/03/male/'\n",
    "    response = requests.get(url_img, stream=True)\n",
    "    with open(new_path+str(i)+\".jpg\", 'wb') as out_file:\n",
    "        shutil.copyfileobj(response.raw, out_file)\n",
    "    del response"
   ]
  },
  {
   "cell_type": "markdown",
   "metadata": {},
   "source": [
    "# 4월 여자"
   ]
  },
  {
   "cell_type": "code",
   "execution_count": 15,
   "metadata": {},
   "outputs": [
    {
     "name": "stdout",
     "output_type": "stream",
     "text": [
      "0 https://www.musinsa.com/index.php?m=street&_y=2018&_mon=4&gender=f&uid=43011\n",
      "1 https://www.musinsa.com/index.php?m=street&_y=2018&_mon=4&gender=f&p=1&uid=43011\n",
      "2 https://www.musinsa.com/index.php?m=street&_y=2018&_mon=4&gender=f&p=2&uid=43712\n",
      "3 https://www.musinsa.com/index.php?m=street&_y=2018&_mon=4&gender=f&p=3&uid=42965\n",
      "4 https://www.musinsa.com/index.php?m=street&_y=2018&_mon=4&gender=f&p=4&uid=43722\n",
      "5 https://www.musinsa.com/index.php?m=street&_y=2018&_mon=4&gender=f&p=5&uid=42970\n",
      "6 https://www.musinsa.com/index.php?m=street&_y=2018&_mon=4&gender=f&p=6&uid=41723\n"
     ]
    }
   ],
   "source": [
    "total_link =[]\n",
    "\n",
    "for page_number in range(100):\n",
    "    data = requests.get('https://www.musinsa.com/index.php?m=street&_y=2018&_mon=4&gender=f&p='+str(page_number)+'#listStart')\n",
    "    time.sleep(0.5)\n",
    "    s = bs(data.text,'html')\n",
    "    time.sleep(0.6)\n",
    "    if len([x.a['href'] for x in s.find_all(\"div\",class_='articleImg')]) ==0:\n",
    "        break\n",
    "    else:\n",
    "        total_link +=['https://www.musinsa.com/' +x.a['href'][1:] for x in s.find_all(\"div\",class_='articleImg')] \n",
    "    print(page_number,total_link[-1])"
   ]
  },
  {
   "cell_type": "code",
   "execution_count": 16,
   "metadata": {},
   "outputs": [],
   "source": [
    "for i,link in enumerate(total_link):\n",
    "    link = requests.get(link)\n",
    "    soup = bs(link.text,'html')\n",
    "    img_link = soup.find('div',class_='snapImg').img['src']\n",
    "    url_img = 'http:'+img_link\n",
    "    new_path ='./data/2018/04/fem/'\n",
    "    response = requests.get(url_img, stream=True)\n",
    "    with open(new_path+str(i)+\".jpg\", 'wb') as out_file:\n",
    "        shutil.copyfileobj(response.raw, out_file)\n",
    "    del response"
   ]
  },
  {
   "cell_type": "markdown",
   "metadata": {},
   "source": [
    "# 4월 남자"
   ]
  },
  {
   "cell_type": "code",
   "execution_count": 17,
   "metadata": {},
   "outputs": [
    {
     "name": "stdout",
     "output_type": "stream",
     "text": [
      "0 https://www.musinsa.com/index.php?m=street&_y=2018&_mon=4&gender=m&uid=43375\n",
      "1 https://www.musinsa.com/index.php?m=street&_y=2018&_mon=4&gender=m&p=1&uid=43375\n",
      "2 https://www.musinsa.com/index.php?m=street&_y=2018&_mon=4&gender=m&p=2&uid=43002\n",
      "3 https://www.musinsa.com/index.php?m=street&_y=2018&_mon=4&gender=m&p=3&uid=42575\n",
      "4 https://www.musinsa.com/index.php?m=street&_y=2018&_mon=4&gender=m&p=4&uid=42090\n",
      "5 https://www.musinsa.com/index.php?m=street&_y=2018&_mon=4&gender=m&p=5&uid=41841\n"
     ]
    }
   ],
   "source": [
    "total_link =[]\n",
    "\n",
    "for page_number in range(100):\n",
    "    data = requests.get('https://www.musinsa.com/index.php?m=street&_y=2018&_mon=4&gender=m&p='+str(page_number)+'#listStart')\n",
    "    time.sleep(0.5)\n",
    "    s = bs(data.text,'html')\n",
    "    time.sleep(0.6)\n",
    "    if len([x.a['href'] for x in s.find_all(\"div\",class_='articleImg')]) ==0:\n",
    "        break\n",
    "    else:\n",
    "        total_link +=['https://www.musinsa.com/' +x.a['href'][1:] for x in s.find_all(\"div\",class_='articleImg')] \n",
    "    print(page_number,total_link[-1])"
   ]
  },
  {
   "cell_type": "code",
   "execution_count": 18,
   "metadata": {},
   "outputs": [],
   "source": [
    "for i,link in enumerate(total_link):\n",
    "    link = requests.get(link)\n",
    "    soup = bs(link.text,'html')\n",
    "    img_link = soup.find('div',class_='snapImg').img['src']\n",
    "    url_img = 'http:'+img_link\n",
    "    new_path ='./data/2018/04/male/'\n",
    "    response = requests.get(url_img, stream=True)\n",
    "    with open(new_path+str(i)+\".jpg\", 'wb') as out_file:\n",
    "        shutil.copyfileobj(response.raw, out_file)\n",
    "    del response"
   ]
  },
  {
   "cell_type": "markdown",
   "metadata": {},
   "source": [
    "# 5월 여자"
   ]
  },
  {
   "cell_type": "code",
   "execution_count": 19,
   "metadata": {},
   "outputs": [
    {
     "name": "stdout",
     "output_type": "stream",
     "text": [
      "0 https://www.musinsa.com/index.php?m=street&_y=2018&_mon=5&gender=f&uid=44520\n",
      "1 https://www.musinsa.com/index.php?m=street&_y=2018&_mon=5&gender=f&p=1&uid=44520\n",
      "2 https://www.musinsa.com/index.php?m=street&_y=2018&_mon=5&gender=f&p=2&uid=44511\n",
      "3 https://www.musinsa.com/index.php?m=street&_y=2018&_mon=5&gender=f&p=3&uid=44652\n",
      "4 https://www.musinsa.com/index.php?m=street&_y=2018&_mon=5&gender=f&p=4&uid=44350\n",
      "5 https://www.musinsa.com/index.php?m=street&_y=2018&_mon=5&gender=f&p=5&uid=43905\n",
      "6 https://www.musinsa.com/index.php?m=street&_y=2018&_mon=5&gender=f&p=6&uid=43235\n"
     ]
    }
   ],
   "source": [
    "total_link =[]\n",
    "\n",
    "for page_number in range(100):\n",
    "    data = requests.get('https://www.musinsa.com/index.php?m=street&_y=2018&_mon=5&gender=f&p='+str(page_number)+'#listStart')\n",
    "    time.sleep(0.5)\n",
    "    s = bs(data.text,'html')\n",
    "    time.sleep(0.6)\n",
    "    if len([x.a['href'] for x in s.find_all(\"div\",class_='articleImg')]) ==0:\n",
    "        break\n",
    "    else:\n",
    "        total_link +=['https://www.musinsa.com/' +x.a['href'][1:] for x in s.find_all(\"div\",class_='articleImg')] \n",
    "    print(page_number,total_link[-1])"
   ]
  },
  {
   "cell_type": "code",
   "execution_count": 20,
   "metadata": {},
   "outputs": [],
   "source": [
    "for i,link in enumerate(total_link):\n",
    "    link = requests.get(link)\n",
    "    soup = bs(link.text,'html')\n",
    "    img_link = soup.find('div',class_='snapImg').img['src']\n",
    "    url_img = 'http:'+img_link\n",
    "    new_path ='./data/2018/05/fem/'\n",
    "    response = requests.get(url_img, stream=True)\n",
    "    with open(new_path+str(i)+\".jpg\", 'wb') as out_file:\n",
    "        shutil.copyfileobj(response.raw, out_file)\n",
    "    del response"
   ]
  },
  {
   "cell_type": "markdown",
   "metadata": {},
   "source": [
    "# 5월 남자"
   ]
  },
  {
   "cell_type": "code",
   "execution_count": 21,
   "metadata": {},
   "outputs": [
    {
     "name": "stdout",
     "output_type": "stream",
     "text": [
      "0 https://www.musinsa.com/index.php?m=street&_y=2018&_mon=5&gender=m&uid=44057\n",
      "1 https://www.musinsa.com/index.php?m=street&_y=2018&_mon=5&gender=m&p=1&uid=44057\n",
      "2 https://www.musinsa.com/index.php?m=street&_y=2018&_mon=5&gender=m&p=2&uid=44459\n",
      "3 https://www.musinsa.com/index.php?m=street&_y=2018&_mon=5&gender=m&p=3&uid=44433\n",
      "4 https://www.musinsa.com/index.php?m=street&_y=2018&_mon=5&gender=m&p=4&uid=43290\n"
     ]
    }
   ],
   "source": [
    "total_link =[]\n",
    "\n",
    "for page_number in range(100):\n",
    "    data = requests.get('https://www.musinsa.com/index.php?m=street&_y=2018&_mon=5&gender=m&p='+str(page_number)+'#listStart')\n",
    "    time.sleep(0.5)\n",
    "    s = bs(data.text,'html')\n",
    "    time.sleep(0.6)\n",
    "    if len([x.a['href'] for x in s.find_all(\"div\",class_='articleImg')]) ==0:\n",
    "        break\n",
    "    else:\n",
    "        total_link +=['https://www.musinsa.com/' +x.a['href'][1:] for x in s.find_all(\"div\",class_='articleImg')] \n",
    "    print(page_number,total_link[-1])"
   ]
  },
  {
   "cell_type": "code",
   "execution_count": 22,
   "metadata": {},
   "outputs": [],
   "source": [
    "for i,link in enumerate(total_link):\n",
    "    link = requests.get(link)\n",
    "    soup = bs(link.text,'html')\n",
    "    img_link = soup.find('div',class_='snapImg').img['src']\n",
    "    url_img = 'http:'+img_link\n",
    "    new_path ='./data/2018/05/male/'\n",
    "    response = requests.get(url_img, stream=True)\n",
    "    with open(new_path+str(i)+\".jpg\", 'wb') as out_file:\n",
    "        shutil.copyfileobj(response.raw, out_file)\n",
    "    del response"
   ]
  },
  {
   "cell_type": "markdown",
   "metadata": {},
   "source": [
    "# 6월 여자"
   ]
  },
  {
   "cell_type": "code",
   "execution_count": 23,
   "metadata": {},
   "outputs": [
    {
     "name": "stdout",
     "output_type": "stream",
     "text": [
      "0 https://www.musinsa.com/index.php?m=street&_y=2018&_mon=6&gender=f&uid=44754\n",
      "1 https://www.musinsa.com/index.php?m=street&_y=2018&_mon=6&gender=f&p=1&uid=44754\n",
      "2 https://www.musinsa.com/index.php?m=street&_y=2018&_mon=6&gender=f&p=2&uid=45080\n",
      "3 https://www.musinsa.com/index.php?m=street&_y=2018&_mon=6&gender=f&p=3&uid=44802\n",
      "4 https://www.musinsa.com/index.php?m=street&_y=2018&_mon=6&gender=f&p=4&uid=45129\n",
      "5 https://www.musinsa.com/index.php?m=street&_y=2018&_mon=6&gender=f&p=5&uid=44946\n",
      "6 https://www.musinsa.com/index.php?m=street&_y=2018&_mon=6&gender=f&p=6&uid=44700\n"
     ]
    }
   ],
   "source": [
    "total_link =[]\n",
    "\n",
    "for page_number in range(100):\n",
    "    data = requests.get('https://www.musinsa.com/index.php?m=street&_y=2018&_mon=6&gender=f&p='+str(page_number)+'#listStart')\n",
    "    time.sleep(0.5)\n",
    "    s = bs(data.text,'html')\n",
    "    time.sleep(0.6)\n",
    "    if len([x.a['href'] for x in s.find_all(\"div\",class_='articleImg')]) ==0:\n",
    "        break\n",
    "    else:\n",
    "        total_link +=['https://www.musinsa.com/' +x.a['href'][1:] for x in s.find_all(\"div\",class_='articleImg')] \n",
    "    print(page_number,total_link[-1])"
   ]
  },
  {
   "cell_type": "code",
   "execution_count": 24,
   "metadata": {},
   "outputs": [],
   "source": [
    "for i,link in enumerate(total_link):\n",
    "    link = requests.get(link)\n",
    "    soup = bs(link.text,'html')\n",
    "    img_link = soup.find('div',class_='snapImg').img['src']\n",
    "    url_img = 'http:'+img_link\n",
    "    new_path ='./data/2018/06/fem/'\n",
    "    response = requests.get(url_img, stream=True)\n",
    "    with open(new_path+str(i)+\".jpg\", 'wb') as out_file:\n",
    "        shutil.copyfileobj(response.raw, out_file)\n",
    "    del response"
   ]
  },
  {
   "cell_type": "markdown",
   "metadata": {},
   "source": [
    "# 6월 남자"
   ]
  },
  {
   "cell_type": "code",
   "execution_count": 25,
   "metadata": {},
   "outputs": [
    {
     "name": "stdout",
     "output_type": "stream",
     "text": [
      "0 https://www.musinsa.com/index.php?m=street&_y=2018&_mon=6&gender=m&uid=45306\n",
      "1 https://www.musinsa.com/index.php?m=street&_y=2018&_mon=6&gender=m&p=1&uid=45306\n",
      "2 https://www.musinsa.com/index.php?m=street&_y=2018&_mon=6&gender=m&p=2&uid=44810\n",
      "3 https://www.musinsa.com/index.php?m=street&_y=2018&_mon=6&gender=m&p=3&uid=44595\n"
     ]
    }
   ],
   "source": [
    "total_link =[]\n",
    "\n",
    "for page_number in range(100):\n",
    "    data = requests.get('https://www.musinsa.com/index.php?m=street&_y=2018&_mon=6&gender=m&p='+str(page_number)+'#listStart')\n",
    "    time.sleep(0.5)\n",
    "    s = bs(data.text,'html')\n",
    "    time.sleep(0.6)\n",
    "    if len([x.a['href'] for x in s.find_all(\"div\",class_='articleImg')]) ==0:\n",
    "        break\n",
    "    else:\n",
    "        total_link +=['https://www.musinsa.com/' +x.a['href'][1:] for x in s.find_all(\"div\",class_='articleImg')] \n",
    "    print(page_number,total_link[-1])"
   ]
  },
  {
   "cell_type": "code",
   "execution_count": 26,
   "metadata": {},
   "outputs": [],
   "source": [
    "for i,link in enumerate(total_link):\n",
    "    link = requests.get(link)\n",
    "    soup = bs(link.text,'html')\n",
    "    img_link = soup.find('div',class_='snapImg').img['src']\n",
    "    url_img = 'http:'+img_link\n",
    "    new_path ='./data/2018/06/male/'\n",
    "    response = requests.get(url_img, stream=True)\n",
    "    with open(new_path+str(i)+\".jpg\", 'wb') as out_file:\n",
    "        shutil.copyfileobj(response.raw, out_file)\n",
    "    del response"
   ]
  },
  {
   "cell_type": "markdown",
   "metadata": {},
   "source": [
    "# 7월 여자"
   ]
  },
  {
   "cell_type": "code",
   "execution_count": 27,
   "metadata": {},
   "outputs": [
    {
     "name": "stdout",
     "output_type": "stream",
     "text": [
      "0 https://www.musinsa.com/index.php?m=street&_y=2018&_mon=7&gender=f&uid=45383\n",
      "1 https://www.musinsa.com/index.php?m=street&_y=2018&_mon=7&gender=f&p=1&uid=45383\n",
      "2 https://www.musinsa.com/index.php?m=street&_y=2018&_mon=7&gender=f&p=2&uid=45362\n",
      "3 https://www.musinsa.com/index.php?m=street&_y=2018&_mon=7&gender=f&p=3&uid=45708\n",
      "4 https://www.musinsa.com/index.php?m=street&_y=2018&_mon=7&gender=f&p=4&uid=45698\n",
      "5 https://www.musinsa.com/index.php?m=street&_y=2018&_mon=7&gender=f&p=5&uid=45560\n",
      "6 https://www.musinsa.com/index.php?m=street&_y=2018&_mon=7&gender=f&p=6&uid=45809\n",
      "7 https://www.musinsa.com/index.php?m=street&_y=2018&_mon=7&gender=f&p=7&uid=45798\n"
     ]
    }
   ],
   "source": [
    "total_link =[]\n",
    "\n",
    "for page_number in range(100):\n",
    "    data = requests.get('https://www.musinsa.com/index.php?m=street&_y=2018&_mon=7&gender=f&p='+str(page_number)+'#listStart')\n",
    "    time.sleep(0.5)\n",
    "    s = bs(data.text,'html')\n",
    "    time.sleep(0.6)\n",
    "    if len([x.a['href'] for x in s.find_all(\"div\",class_='articleImg')]) ==0:\n",
    "        break\n",
    "    else:\n",
    "        total_link +=['https://www.musinsa.com/' +x.a['href'][1:] for x in s.find_all(\"div\",class_='articleImg')] \n",
    "    print(page_number,total_link[-1])"
   ]
  },
  {
   "cell_type": "code",
   "execution_count": 28,
   "metadata": {},
   "outputs": [],
   "source": [
    "for i,link in enumerate(total_link):\n",
    "    link = requests.get(link)\n",
    "    soup = bs(link.text,'html')\n",
    "    img_link = soup.find('div',class_='snapImg').img['src']\n",
    "    url_img = 'http:'+img_link\n",
    "    new_path ='./data/2018/07/fem/'\n",
    "    response = requests.get(url_img, stream=True)\n",
    "    with open(new_path+str(i)+\".jpg\", 'wb') as out_file:\n",
    "        shutil.copyfileobj(response.raw, out_file)\n",
    "    del response"
   ]
  },
  {
   "cell_type": "markdown",
   "metadata": {},
   "source": [
    "# 7월 남자"
   ]
  },
  {
   "cell_type": "code",
   "execution_count": 29,
   "metadata": {},
   "outputs": [
    {
     "name": "stdout",
     "output_type": "stream",
     "text": [
      "0 https://www.musinsa.com/index.php?m=street&_y=2018&_mon=7&gender=m&uid=45429\n",
      "1 https://www.musinsa.com/index.php?m=street&_y=2018&_mon=7&gender=m&p=1&uid=45429\n",
      "2 https://www.musinsa.com/index.php?m=street&_y=2018&_mon=7&gender=m&p=2&uid=45464\n",
      "3 https://www.musinsa.com/index.php?m=street&_y=2018&_mon=7&gender=m&p=3&uid=45578\n",
      "4 https://www.musinsa.com/index.php?m=street&_y=2018&_mon=7&gender=m&p=4&uid=45797\n"
     ]
    }
   ],
   "source": [
    "total_link =[]\n",
    "\n",
    "for page_number in range(100):\n",
    "    data = requests.get('https://www.musinsa.com/index.php?m=street&_y=2018&_mon=7&gender=m&p='+str(page_number)+'#listStart')\n",
    "    time.sleep(0.5)\n",
    "    s = bs(data.text,'html')\n",
    "    time.sleep(0.6)\n",
    "    if len([x.a['href'] for x in s.find_all(\"div\",class_='articleImg')]) ==0:\n",
    "        break\n",
    "    else:\n",
    "        total_link +=['https://www.musinsa.com/' +x.a['href'][1:] for x in s.find_all(\"div\",class_='articleImg')] \n",
    "    print(page_number,total_link[-1])"
   ]
  },
  {
   "cell_type": "code",
   "execution_count": 30,
   "metadata": {},
   "outputs": [],
   "source": [
    "for i,link in enumerate(total_link):\n",
    "    link = requests.get(link)\n",
    "    soup = bs(link.text,'html')\n",
    "    img_link = soup.find('div',class_='snapImg').img['src']\n",
    "    url_img = 'http:'+img_link\n",
    "    new_path ='./data/2018/07/male/'\n",
    "    response = requests.get(url_img, stream=True)\n",
    "    with open(new_path+str(i)+\".jpg\", 'wb') as out_file:\n",
    "        shutil.copyfileobj(response.raw, out_file)\n",
    "    del response"
   ]
  },
  {
   "cell_type": "markdown",
   "metadata": {},
   "source": [
    "# 8월 여자"
   ]
  },
  {
   "cell_type": "code",
   "execution_count": 31,
   "metadata": {},
   "outputs": [
    {
     "name": "stdout",
     "output_type": "stream",
     "text": [
      "0 https://www.musinsa.com/index.php?m=street&_y=2018&_mon=8&gender=f&uid=46132\n",
      "1 https://www.musinsa.com/index.php?m=street&_y=2018&_mon=8&gender=f&p=1&uid=46132\n",
      "2 https://www.musinsa.com/index.php?m=street&_y=2018&_mon=8&gender=f&p=2&uid=46558\n",
      "3 https://www.musinsa.com/index.php?m=street&_y=2018&_mon=8&gender=f&p=3&uid=46255\n",
      "4 https://www.musinsa.com/index.php?m=street&_y=2018&_mon=8&gender=f&p=4&uid=46251\n",
      "5 https://www.musinsa.com/index.php?m=street&_y=2018&_mon=8&gender=f&p=5&uid=46185\n",
      "6 https://www.musinsa.com/index.php?m=street&_y=2018&_mon=8&gender=f&p=6&uid=46171\n"
     ]
    }
   ],
   "source": [
    "total_link =[]\n",
    "\n",
    "for page_number in range(100):\n",
    "    data = requests.get('https://www.musinsa.com/index.php?m=street&_y=2018&_mon=8&gender=f&p='+str(page_number)+'#listStart')\n",
    "    time.sleep(0.5)\n",
    "    s = bs(data.text,'html')\n",
    "    time.sleep(0.6)\n",
    "    if len([x.a['href'] for x in s.find_all(\"div\",class_='articleImg')]) ==0:\n",
    "        break\n",
    "    else:\n",
    "        total_link +=['https://www.musinsa.com/' +x.a['href'][1:] for x in s.find_all(\"div\",class_='articleImg')] \n",
    "    print(page_number,total_link[-1])"
   ]
  },
  {
   "cell_type": "code",
   "execution_count": 32,
   "metadata": {},
   "outputs": [],
   "source": [
    "for i,link in enumerate(total_link):\n",
    "    link = requests.get(link)\n",
    "    soup = bs(link.text,'html')\n",
    "    img_link = soup.find('div',class_='snapImg').img['src']\n",
    "    url_img = 'http:'+img_link\n",
    "    new_path ='./data/2018/08/fem/'\n",
    "    response = requests.get(url_img, stream=True)\n",
    "    with open(new_path+str(i)+\".jpg\", 'wb') as out_file:\n",
    "        shutil.copyfileobj(response.raw, out_file)\n",
    "    del response"
   ]
  },
  {
   "cell_type": "markdown",
   "metadata": {},
   "source": [
    "# 8월 남자"
   ]
  },
  {
   "cell_type": "code",
   "execution_count": 33,
   "metadata": {},
   "outputs": [
    {
     "name": "stdout",
     "output_type": "stream",
     "text": [
      "0 https://www.musinsa.com/index.php?m=street&_y=2018&_mon=8&gender=m&uid=46093\n",
      "1 https://www.musinsa.com/index.php?m=street&_y=2018&_mon=8&gender=m&p=1&uid=46093\n",
      "2 https://www.musinsa.com/index.php?m=street&_y=2018&_mon=8&gender=m&p=2&uid=46227\n",
      "3 https://www.musinsa.com/index.php?m=street&_y=2018&_mon=8&gender=m&p=3&uid=46031\n",
      "4 https://www.musinsa.com/index.php?m=street&_y=2018&_mon=8&gender=m&p=4&uid=46183\n"
     ]
    }
   ],
   "source": [
    "total_link =[]\n",
    "\n",
    "for page_number in range(100):\n",
    "    data = requests.get('https://www.musinsa.com/index.php?m=street&_y=2018&_mon=8&gender=m&p='+str(page_number)+'#listStart')\n",
    "    time.sleep(0.5)\n",
    "    s = bs(data.text,'html')\n",
    "    time.sleep(0.6)\n",
    "    if len([x.a['href'] for x in s.find_all(\"div\",class_='articleImg')]) ==0:\n",
    "        break\n",
    "    else:\n",
    "        total_link +=['https://www.musinsa.com/' +x.a['href'][1:] for x in s.find_all(\"div\",class_='articleImg')] \n",
    "    print(page_number,total_link[-1])"
   ]
  },
  {
   "cell_type": "code",
   "execution_count": 34,
   "metadata": {},
   "outputs": [],
   "source": [
    "for i,link in enumerate(total_link):\n",
    "    link = requests.get(link)\n",
    "    soup = bs(link.text,'html')\n",
    "    img_link = soup.find('div',class_='snapImg').img['src']\n",
    "    url_img = 'http:'+img_link\n",
    "    new_path ='./data/2018/08/male/'\n",
    "    response = requests.get(url_img, stream=True)\n",
    "    with open(new_path+str(i)+\".jpg\", 'wb') as out_file:\n",
    "        shutil.copyfileobj(response.raw, out_file)\n",
    "    del response"
   ]
  },
  {
   "cell_type": "markdown",
   "metadata": {},
   "source": [
    "# 9월 여자"
   ]
  },
  {
   "cell_type": "code",
   "execution_count": 35,
   "metadata": {},
   "outputs": [
    {
     "name": "stdout",
     "output_type": "stream",
     "text": [
      "0 https://www.musinsa.com/index.php?m=street&_y=2018&_mon=9&gender=f&uid=47020\n",
      "1 https://www.musinsa.com/index.php?m=street&_y=2018&_mon=9&gender=f&p=1&uid=47020\n",
      "2 https://www.musinsa.com/index.php?m=street&_y=2018&_mon=9&gender=f&p=2&uid=46725\n",
      "3 https://www.musinsa.com/index.php?m=street&_y=2018&_mon=9&gender=f&p=3&uid=46595\n",
      "4 https://www.musinsa.com/index.php?m=street&_y=2018&_mon=9&gender=f&p=4&uid=46495\n"
     ]
    }
   ],
   "source": [
    "total_link =[]\n",
    "\n",
    "for page_number in range(100):\n",
    "    data = requests.get('https://www.musinsa.com/index.php?m=street&_y=2018&_mon=9&gender=f&p='+str(page_number)+'#listStart')\n",
    "    time.sleep(0.5)\n",
    "    s = bs(data.text,'html')\n",
    "    time.sleep(0.6)\n",
    "    if len([x.a['href'] for x in s.find_all(\"div\",class_='articleImg')]) ==0:\n",
    "        break\n",
    "    else:\n",
    "        total_link +=['https://www.musinsa.com/' +x.a['href'][1:] for x in s.find_all(\"div\",class_='articleImg')] \n",
    "    print(page_number,total_link[-1])"
   ]
  },
  {
   "cell_type": "code",
   "execution_count": 36,
   "metadata": {},
   "outputs": [],
   "source": [
    "for i,link in enumerate(total_link):\n",
    "    link = requests.get(link)\n",
    "    soup = bs(link.text,'html')\n",
    "    img_link = soup.find('div',class_='snapImg').img['src']\n",
    "    url_img = 'http:'+img_link\n",
    "    new_path ='./data/2018/09/fem/'\n",
    "    response = requests.get(url_img, stream=True)\n",
    "    with open(new_path+str(i)+\".jpg\", 'wb') as out_file:\n",
    "        shutil.copyfileobj(response.raw, out_file)\n",
    "    del response"
   ]
  },
  {
   "cell_type": "markdown",
   "metadata": {},
   "source": [
    "# 9월 남자"
   ]
  },
  {
   "cell_type": "code",
   "execution_count": 37,
   "metadata": {},
   "outputs": [
    {
     "name": "stdout",
     "output_type": "stream",
     "text": [
      "0 https://www.musinsa.com/index.php?m=street&_y=2018&_mon=9&gender=m&uid=47103\n",
      "1 https://www.musinsa.com/index.php?m=street&_y=2018&_mon=9&gender=m&p=1&uid=47103\n",
      "2 https://www.musinsa.com/index.php?m=street&_y=2018&_mon=9&gender=m&p=2&uid=46741\n",
      "3 https://www.musinsa.com/index.php?m=street&_y=2018&_mon=9&gender=m&p=3&uid=46465\n"
     ]
    }
   ],
   "source": [
    "total_link =[]\n",
    "\n",
    "for page_number in range(100):\n",
    "    data = requests.get('https://www.musinsa.com/index.php?m=street&_y=2018&_mon=9&gender=m&p='+str(page_number)+'#listStart')\n",
    "    time.sleep(0.5)\n",
    "    s = bs(data.text,'html')\n",
    "    time.sleep(0.6)\n",
    "    if len([x.a['href'] for x in s.find_all(\"div\",class_='articleImg')]) ==0:\n",
    "        break\n",
    "    else:\n",
    "        total_link +=['https://www.musinsa.com/' +x.a['href'][1:] for x in s.find_all(\"div\",class_='articleImg')] \n",
    "    print(page_number,total_link[-1])"
   ]
  },
  {
   "cell_type": "code",
   "execution_count": 38,
   "metadata": {},
   "outputs": [],
   "source": [
    "for i,link in enumerate(total_link):\n",
    "    link = requests.get(link)\n",
    "    soup = bs(link.text,'html')\n",
    "    img_link = soup.find('div',class_='snapImg').img['src']\n",
    "    url_img = 'http:'+img_link\n",
    "    new_path ='./data/2018/09/male/'\n",
    "    response = requests.get(url_img, stream=True)\n",
    "    with open(new_path+str(i)+\".jpg\", 'wb') as out_file:\n",
    "        shutil.copyfileobj(response.raw, out_file)\n",
    "    del response"
   ]
  },
  {
   "cell_type": "markdown",
   "metadata": {},
   "source": [
    "# 10월 여자"
   ]
  },
  {
   "cell_type": "code",
   "execution_count": 39,
   "metadata": {},
   "outputs": [
    {
     "name": "stdout",
     "output_type": "stream",
     "text": [
      "0 https://www.musinsa.com/index.php?m=street&_y=2018&_mon=10&gender=f&uid=47186\n",
      "1 https://www.musinsa.com/index.php?m=street&_y=2018&_mon=10&gender=f&p=1&uid=47186\n",
      "2 https://www.musinsa.com/index.php?m=street&_y=2018&_mon=10&gender=f&p=2&uid=47526\n",
      "3 https://www.musinsa.com/index.php?m=street&_y=2018&_mon=10&gender=f&p=3&uid=47387\n",
      "4 https://www.musinsa.com/index.php?m=street&_y=2018&_mon=10&gender=f&p=4&uid=47643\n",
      "5 https://www.musinsa.com/index.php?m=street&_y=2018&_mon=10&gender=f&p=5&uid=47490\n",
      "6 https://www.musinsa.com/index.php?m=street&_y=2018&_mon=10&gender=f&p=6&uid=47140\n",
      "7 https://www.musinsa.com/index.php?m=street&_y=2018&_mon=10&gender=f&p=7&uid=47067\n"
     ]
    }
   ],
   "source": [
    "total_link =[]\n",
    "\n",
    "for page_number in range(100):\n",
    "    data = requests.get('https://www.musinsa.com/index.php?m=street&_y=2018&_mon=10&gender=f&p='+str(page_number)+'#listStart')\n",
    "    time.sleep(0.5)\n",
    "    s = bs(data.text,'html')\n",
    "    time.sleep(0.6)\n",
    "    if len([x.a['href'] for x in s.find_all(\"div\",class_='articleImg')]) ==0:\n",
    "        break\n",
    "    else:\n",
    "        total_link +=['https://www.musinsa.com/' +x.a['href'][1:] for x in s.find_all(\"div\",class_='articleImg')] \n",
    "    print(page_number,total_link[-1])"
   ]
  },
  {
   "cell_type": "code",
   "execution_count": 40,
   "metadata": {},
   "outputs": [],
   "source": [
    "for i,link in enumerate(total_link):\n",
    "    link = requests.get(link)\n",
    "    soup = bs(link.text,'html')\n",
    "    img_link = soup.find('div',class_='snapImg').img['src']\n",
    "    url_img = 'http:'+img_link\n",
    "    new_path ='./data/2018/10/fem/'\n",
    "    response = requests.get(url_img, stream=True)\n",
    "    with open(new_path+str(i)+\".jpg\", 'wb') as out_file:\n",
    "        shutil.copyfileobj(response.raw, out_file)\n",
    "    del response"
   ]
  },
  {
   "cell_type": "markdown",
   "metadata": {},
   "source": [
    "# 10월 남자"
   ]
  },
  {
   "cell_type": "code",
   "execution_count": 41,
   "metadata": {},
   "outputs": [
    {
     "name": "stdout",
     "output_type": "stream",
     "text": [
      "0 https://www.musinsa.com/index.php?m=street&_y=2018&_mon=10&gender=m&uid=47174\n",
      "1 https://www.musinsa.com/index.php?m=street&_y=2018&_mon=10&gender=m&p=1&uid=47174\n",
      "2 https://www.musinsa.com/index.php?m=street&_y=2018&_mon=10&gender=m&p=2&uid=48064\n",
      "3 https://www.musinsa.com/index.php?m=street&_y=2018&_mon=10&gender=m&p=3&uid=47185\n",
      "4 https://www.musinsa.com/index.php?m=street&_y=2018&_mon=10&gender=m&p=4&uid=48008\n",
      "5 https://www.musinsa.com/index.php?m=street&_y=2018&_mon=10&gender=m&p=5&uid=48051\n"
     ]
    }
   ],
   "source": [
    "total_link =[]\n",
    "\n",
    "for page_number in range(100):\n",
    "    data = requests.get('https://www.musinsa.com/index.php?m=street&_y=2018&_mon=10&gender=m&p='+str(page_number)+'#listStart')\n",
    "    time.sleep(0.5)\n",
    "    s = bs(data.text,'html')\n",
    "    time.sleep(0.6)\n",
    "    if len([x.a['href'] for x in s.find_all(\"div\",class_='articleImg')]) ==0:\n",
    "        break\n",
    "    else:\n",
    "        total_link +=['https://www.musinsa.com/' +x.a['href'][1:] for x in s.find_all(\"div\",class_='articleImg')] \n",
    "    print(page_number,total_link[-1])"
   ]
  },
  {
   "cell_type": "code",
   "execution_count": 42,
   "metadata": {},
   "outputs": [],
   "source": [
    "for i,link in enumerate(total_link):\n",
    "    link = requests.get(link)\n",
    "    soup = bs(link.text,'html')\n",
    "    img_link = soup.find('div',class_='snapImg').img['src']\n",
    "    url_img = 'http:'+img_link\n",
    "    new_path ='./data/2018/10/male/'\n",
    "    response = requests.get(url_img, stream=True)\n",
    "    with open(new_path+str(i)+\".jpg\", 'wb') as out_file:\n",
    "        shutil.copyfileobj(response.raw, out_file)\n",
    "    del response"
   ]
  },
  {
   "cell_type": "markdown",
   "metadata": {},
   "source": [
    "# 11월 여자"
   ]
  },
  {
   "cell_type": "code",
   "execution_count": 43,
   "metadata": {},
   "outputs": [
    {
     "name": "stdout",
     "output_type": "stream",
     "text": [
      "0 https://www.musinsa.com/index.php?m=street&_y=2018&_mon=11&gender=f&uid=48343\n",
      "1 https://www.musinsa.com/index.php?m=street&_y=2018&_mon=11&gender=f&p=1&uid=48343\n",
      "2 https://www.musinsa.com/index.php?m=street&_y=2018&_mon=11&gender=f&p=2&uid=48765\n",
      "3 https://www.musinsa.com/index.php?m=street&_y=2018&_mon=11&gender=f&p=3&uid=47691\n",
      "4 https://www.musinsa.com/index.php?m=street&_y=2018&_mon=11&gender=f&p=4&uid=47719\n",
      "5 https://www.musinsa.com/index.php?m=street&_y=2018&_mon=11&gender=f&p=5&uid=48466\n",
      "6 https://www.musinsa.com/index.php?m=street&_y=2018&_mon=11&gender=f&p=6&uid=48469\n"
     ]
    }
   ],
   "source": [
    "total_link =[]\n",
    "\n",
    "for page_number in range(100):\n",
    "    data = requests.get('https://www.musinsa.com/index.php?m=street&_y=2018&_mon=11&gender=f&p='+str(page_number)+'#listStart')\n",
    "    time.sleep(0.5)\n",
    "    s = bs(data.text,'html')\n",
    "    time.sleep(0.6)\n",
    "    if len([x.a['href'] for x in s.find_all(\"div\",class_='articleImg')]) ==0:\n",
    "        break\n",
    "    else:\n",
    "        total_link +=['https://www.musinsa.com/' +x.a['href'][1:] for x in s.find_all(\"div\",class_='articleImg')] \n",
    "    print(page_number,total_link[-1])"
   ]
  },
  {
   "cell_type": "code",
   "execution_count": 44,
   "metadata": {},
   "outputs": [],
   "source": [
    "for i,link in enumerate(total_link):\n",
    "    link = requests.get(link)\n",
    "    soup = bs(link.text,'html')\n",
    "    img_link = soup.find('div',class_='snapImg').img['src']\n",
    "    url_img = 'http:'+img_link\n",
    "    new_path ='./data/2018/11/fem/'\n",
    "    response = requests.get(url_img, stream=True)\n",
    "    with open(new_path+str(i)+\".jpg\", 'wb') as out_file:\n",
    "        shutil.copyfileobj(response.raw, out_file)\n",
    "    del response"
   ]
  },
  {
   "cell_type": "markdown",
   "metadata": {},
   "source": [
    "# 11월 남자"
   ]
  },
  {
   "cell_type": "code",
   "execution_count": 45,
   "metadata": {},
   "outputs": [
    {
     "name": "stdout",
     "output_type": "stream",
     "text": [
      "0 https://www.musinsa.com/index.php?m=street&_y=2018&_mon=11&gender=m&uid=48445\n",
      "1 https://www.musinsa.com/index.php?m=street&_y=2018&_mon=11&gender=m&p=1&uid=48445\n",
      "2 https://www.musinsa.com/index.php?m=street&_y=2018&_mon=11&gender=m&p=2&uid=48324\n",
      "3 https://www.musinsa.com/index.php?m=street&_y=2018&_mon=11&gender=m&p=3&uid=47727\n",
      "4 https://www.musinsa.com/index.php?m=street&_y=2018&_mon=11&gender=m&p=4&uid=47777\n",
      "5 https://www.musinsa.com/index.php?m=street&_y=2018&_mon=11&gender=m&p=5&uid=47760\n"
     ]
    }
   ],
   "source": [
    "total_link =[]\n",
    "\n",
    "for page_number in range(100):\n",
    "    data = requests.get('https://www.musinsa.com/index.php?m=street&_y=2018&_mon=11&gender=m&p='+str(page_number)+'#listStart')\n",
    "    time.sleep(0.5)\n",
    "    s = bs(data.text,'html')\n",
    "    time.sleep(0.6)\n",
    "    if len([x.a['href'] for x in s.find_all(\"div\",class_='articleImg')]) ==0:\n",
    "        break\n",
    "    else:\n",
    "        total_link +=['https://www.musinsa.com/' +x.a['href'][1:] for x in s.find_all(\"div\",class_='articleImg')] \n",
    "    print(page_number,total_link[-1])"
   ]
  },
  {
   "cell_type": "code",
   "execution_count": 46,
   "metadata": {},
   "outputs": [],
   "source": [
    "for i,link in enumerate(total_link):\n",
    "    link = requests.get(link)\n",
    "    soup = bs(link.text,'html')\n",
    "    img_link = soup.find('div',class_='snapImg').img['src']\n",
    "    url_img = 'http:'+img_link\n",
    "    new_path ='./data/2018/11/male/'\n",
    "    response = requests.get(url_img, stream=True)\n",
    "    with open(new_path+str(i)+\".jpg\", 'wb') as out_file:\n",
    "        shutil.copyfileobj(response.raw, out_file)\n",
    "    del response"
   ]
  },
  {
   "cell_type": "markdown",
   "metadata": {},
   "source": [
    "# 12월 여자"
   ]
  },
  {
   "cell_type": "code",
   "execution_count": 47,
   "metadata": {},
   "outputs": [
    {
     "name": "stdout",
     "output_type": "stream",
     "text": [
      "0 https://www.musinsa.com/index.php?m=street&_y=2018&_mon=12&gender=f&uid=49287\n",
      "1 https://www.musinsa.com/index.php?m=street&_y=2018&_mon=12&gender=f&p=1&uid=49287\n",
      "2 https://www.musinsa.com/index.php?m=street&_y=2018&_mon=12&gender=f&p=2&uid=49222\n",
      "3 https://www.musinsa.com/index.php?m=street&_y=2018&_mon=12&gender=f&p=3&uid=49294\n",
      "4 https://www.musinsa.com/index.php?m=street&_y=2018&_mon=12&gender=f&p=4&uid=49254\n",
      "5 https://www.musinsa.com/index.php?m=street&_y=2018&_mon=12&gender=f&p=5&uid=48753\n"
     ]
    }
   ],
   "source": [
    "total_link =[]\n",
    "\n",
    "for page_number in range(100):\n",
    "    data = requests.get('https://www.musinsa.com/index.php?m=street&_y=2018&_mon=12&gender=f&p='+str(page_number)+'#listStart')\n",
    "    time.sleep(0.5)\n",
    "    s = bs(data.text,'html')\n",
    "    time.sleep(0.6)\n",
    "    if len([x.a['href'] for x in s.find_all(\"div\",class_='articleImg')]) ==0:\n",
    "        break\n",
    "    else:\n",
    "        total_link +=['https://www.musinsa.com/' +x.a['href'][1:] for x in s.find_all(\"div\",class_='articleImg')] \n",
    "    print(page_number,total_link[-1])"
   ]
  },
  {
   "cell_type": "code",
   "execution_count": 48,
   "metadata": {},
   "outputs": [],
   "source": [
    "for i,link in enumerate(total_link):\n",
    "    link = requests.get(link)\n",
    "    soup = bs(link.text,'html')\n",
    "    img_link = soup.find('div',class_='snapImg').img['src']\n",
    "    url_img = 'http:'+img_link\n",
    "    new_path ='./data/2018/12/fem/'\n",
    "    response = requests.get(url_img, stream=True)\n",
    "    with open(new_path+str(i)+\".jpg\", 'wb') as out_file:\n",
    "        shutil.copyfileobj(response.raw, out_file)\n",
    "    del response"
   ]
  },
  {
   "cell_type": "markdown",
   "metadata": {},
   "source": [
    "# 12월 남자"
   ]
  },
  {
   "cell_type": "code",
   "execution_count": 49,
   "metadata": {},
   "outputs": [
    {
     "name": "stdout",
     "output_type": "stream",
     "text": [
      "0 https://www.musinsa.com/index.php?m=street&_y=2018&_mon=12&gender=m&uid=48933\n",
      "1 https://www.musinsa.com/index.php?m=street&_y=2018&_mon=12&gender=m&p=1&uid=48933\n",
      "2 https://www.musinsa.com/index.php?m=street&_y=2018&_mon=12&gender=m&p=2&uid=49258\n",
      "3 https://www.musinsa.com/index.php?m=street&_y=2018&_mon=12&gender=m&p=3&uid=49170\n",
      "4 https://www.musinsa.com/index.php?m=street&_y=2018&_mon=12&gender=m&p=4&uid=49316\n",
      "5 https://www.musinsa.com/index.php?m=street&_y=2018&_mon=12&gender=m&p=5&uid=48814\n"
     ]
    }
   ],
   "source": [
    "total_link =[]\n",
    "\n",
    "for page_number in range(100):\n",
    "    data = requests.get('https://www.musinsa.com/index.php?m=street&_y=2018&_mon=12&gender=m&p='+str(page_number)+'#listStart')\n",
    "    time.sleep(0.5)\n",
    "    s = bs(data.text,'html')\n",
    "    time.sleep(0.6)\n",
    "    if len([x.a['href'] for x in s.find_all(\"div\",class_='articleImg')]) ==0:\n",
    "        break\n",
    "    else:\n",
    "        total_link +=['https://www.musinsa.com/' +x.a['href'][1:] for x in s.find_all(\"div\",class_='articleImg')] \n",
    "    print(page_number,total_link[-1])"
   ]
  },
  {
   "cell_type": "code",
   "execution_count": 50,
   "metadata": {},
   "outputs": [],
   "source": [
    "for i,link in enumerate(total_link):\n",
    "    link = requests.get(link)\n",
    "    soup = bs(link.text,'html')\n",
    "    img_link = soup.find('div',class_='snapImg').img['src']\n",
    "    url_img = 'http:'+img_link\n",
    "    new_path ='./data/2018/12/male/'\n",
    "    response = requests.get(url_img, stream=True)\n",
    "    with open(new_path+str(i)+\".jpg\", 'wb') as out_file:\n",
    "        shutil.copyfileobj(response.raw, out_file)\n",
    "    del response"
   ]
  },
  {
   "cell_type": "code",
   "execution_count": null,
   "metadata": {},
   "outputs": [],
   "source": []
  }
 ],
 "metadata": {
  "kernelspec": {
   "display_name": "pydatavenv",
   "language": "python",
   "name": "pydatavenv"
  },
  "language_info": {
   "codemirror_mode": {
    "name": "ipython",
    "version": 3
   },
   "file_extension": ".py",
   "mimetype": "text/x-python",
   "name": "python",
   "nbconvert_exporter": "python",
   "pygments_lexer": "ipython3",
   "version": "3.7.9"
  }
 },
 "nbformat": 4,
 "nbformat_minor": 4
}
