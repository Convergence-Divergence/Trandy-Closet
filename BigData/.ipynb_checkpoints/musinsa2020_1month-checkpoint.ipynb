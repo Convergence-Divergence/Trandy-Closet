{
 "cells": [
  {
   "cell_type": "code",
   "execution_count": 1,
   "metadata": {},
   "outputs": [],
   "source": [
    "import requests\n",
    "import datetime\n",
    "import requests\n",
    "from bs4 import BeautifulSoup as bs\n",
    "import numpy as np\n",
    "import time\n",
    "import shutil"
   ]
  },
  {
   "cell_type": "markdown",
   "metadata": {},
   "source": [
    "# 1월 여자"
   ]
  },
  {
   "cell_type": "code",
   "execution_count": 2,
   "metadata": {},
   "outputs": [
    {
     "name": "stderr",
     "output_type": "stream",
     "text": [
      "C:\\Users\\salient\\anaconda3\\envs\\pydatavenv\\lib\\site-packages\\bs4\\__init__.py:181: UserWarning: No parser was explicitly specified, so I'm using the best available HTML parser for this system (\"lxml\"). This usually isn't a problem, but if you run this code on another system, or in a different virtual environment, it may use a different parser and behave differently.\n",
      "\n",
      "The code that caused this warning is on line 193 of the file C:\\Users\\salient\\anaconda3\\envs\\pydatavenv\\lib\\runpy.py. To get rid of this warning, change code that looks like this:\n",
      "\n",
      " BeautifulSoup(YOUR_MARKUP})\n",
      "\n",
      "to this:\n",
      "\n",
      " BeautifulSoup(YOUR_MARKUP, \"lxml\")\n",
      "\n",
      "  markup_type=markup_type))\n"
     ]
    },
    {
     "name": "stdout",
     "output_type": "stream",
     "text": [
      "0 https://www.musinsa.com/index.php?m=street&_y=2020&_mon=1&gender=f&uid=58428\n",
      "1 https://www.musinsa.com/index.php?m=street&_y=2020&_mon=1&gender=f&p=1&uid=58428\n",
      "2 https://www.musinsa.com/index.php?m=street&_y=2020&_mon=1&gender=f&p=2&uid=58514\n",
      "3 https://www.musinsa.com/index.php?m=street&_y=2020&_mon=1&gender=f&p=3&uid=58450\n",
      "4 https://www.musinsa.com/index.php?m=street&_y=2020&_mon=1&gender=f&p=4&uid=58502\n",
      "5 https://www.musinsa.com/index.php?m=street&_y=2020&_mon=1&gender=f&p=5&uid=58540\n"
     ]
    }
   ],
   "source": [
    "total_link =[]\n",
    "\n",
    "for page_number in range(100):\n",
    "    data = requests.get('https://www.musinsa.com/index.php?m=street&_y=2020&_mon=1&gender=f&p='+str(page_number)+'#listStart')\n",
    "    time.sleep(0.5)\n",
    "    s = bs(data.text,'html')\n",
    "    time.sleep(0.6)\n",
    "    if len([x.a['href'] for x in s.find_all(\"div\",class_='articleImg')]) ==0:\n",
    "        break\n",
    "    else:\n",
    "        total_link +=['https://www.musinsa.com/' +x.a['href'][1:] for x in s.find_all(\"div\",class_='articleImg')] \n",
    "    print(page_number,total_link[-1])"
   ]
  },
  {
   "cell_type": "code",
   "execution_count": 3,
   "metadata": {},
   "outputs": [],
   "source": [
    "for i,link in enumerate(total_link):\n",
    "    link = requests.get(link)\n",
    "    soup = bs(link.text,'html')\n",
    "    img_link = soup.find('div',class_='snapImg').img['src']\n",
    "    url_img = 'http:'+img_link\n",
    "    new_path ='./data/2020/01/fem/'\n",
    "    response = requests.get(url_img, stream=True)\n",
    "    with open(new_path+str(i)+\".jpg\", 'wb') as out_file:\n",
    "        shutil.copyfileobj(response.raw, out_file)\n",
    "    del response"
   ]
  },
  {
   "cell_type": "markdown",
   "metadata": {},
   "source": [
    "# 1월 남자"
   ]
  },
  {
   "cell_type": "code",
   "execution_count": 5,
   "metadata": {},
   "outputs": [
    {
     "name": "stdout",
     "output_type": "stream",
     "text": [
      "0 https://www.musinsa.com/index.php?m=street&_y=2020&_mon=1&gender=m&uid=58485\n",
      "1 https://www.musinsa.com/index.php?m=street&_y=2020&_mon=1&gender=m&p=1&uid=58485\n",
      "2 https://www.musinsa.com/index.php?m=street&_y=2020&_mon=1&gender=m&p=2&uid=58176\n",
      "3 https://www.musinsa.com/index.php?m=street&_y=2020&_mon=1&gender=m&p=3&uid=58244\n"
     ]
    }
   ],
   "source": [
    "total_link =[]\n",
    "\n",
    "for page_number in range(100):\n",
    "    data = requests.get('https://www.musinsa.com/index.php?m=street&_y=2020&_mon=1&gender=m&p='+str(page_number)+'#listStart')\n",
    "    time.sleep(0.5)\n",
    "    s = bs(data.text,'html')\n",
    "    time.sleep(0.6)\n",
    "    if len([x.a['href'] for x in s.find_all(\"div\",class_='articleImg')]) ==0:\n",
    "        break\n",
    "    else:\n",
    "        total_link +=['https://www.musinsa.com/' +x.a['href'][1:] for x in s.find_all(\"div\",class_='articleImg')] \n",
    "    print(page_number,total_link[-1])"
   ]
  },
  {
   "cell_type": "code",
   "execution_count": 6,
   "metadata": {},
   "outputs": [],
   "source": [
    "for i,link in enumerate(total_link):\n",
    "    link = requests.get(link)\n",
    "    soup = bs(link.text,'html')\n",
    "    img_link = soup.find('div',class_='snapImg').img['src']\n",
    "    url_img = 'http:'+img_link\n",
    "    new_path ='./data/2020/01/male/'\n",
    "    response = requests.get(url_img, stream=True)\n",
    "    with open(new_path+str(i)+\".jpg\", 'wb') as out_file:\n",
    "        shutil.copyfileobj(response.raw, out_file)\n",
    "    del response"
   ]
  },
  {
   "cell_type": "markdown",
   "metadata": {},
   "source": [
    "# 2월 여자"
   ]
  },
  {
   "cell_type": "code",
   "execution_count": 7,
   "metadata": {},
   "outputs": [
    {
     "name": "stdout",
     "output_type": "stream",
     "text": [
      "0 https://www.musinsa.com/index.php?m=street&_y=2020&_mon=2&gender=f&uid=58707\n",
      "1 https://www.musinsa.com/index.php?m=street&_y=2020&_mon=2&gender=f&p=1&uid=58707\n",
      "2 https://www.musinsa.com/index.php?m=street&_y=2020&_mon=2&gender=f&p=2&uid=58971\n",
      "3 https://www.musinsa.com/index.php?m=street&_y=2020&_mon=2&gender=f&p=3&uid=59109\n",
      "4 https://www.musinsa.com/index.php?m=street&_y=2020&_mon=2&gender=f&p=4&uid=59174\n",
      "5 https://www.musinsa.com/index.php?m=street&_y=2020&_mon=2&gender=f&p=5&uid=59116\n"
     ]
    }
   ],
   "source": [
    "total_link =[]\n",
    "\n",
    "for page_number in range(100):\n",
    "    data = requests.get('https://www.musinsa.com/index.php?m=street&_y=2020&_mon=2&gender=f&p='+str(page_number)+'#listStart')\n",
    "    time.sleep(0.5)\n",
    "    s = bs(data.text,'html')\n",
    "    time.sleep(0.6)\n",
    "    if len([x.a['href'] for x in s.find_all(\"div\",class_='articleImg')]) ==0:\n",
    "        break\n",
    "    else:\n",
    "        total_link +=['https://www.musinsa.com/' +x.a['href'][1:] for x in s.find_all(\"div\",class_='articleImg')] \n",
    "    print(page_number,total_link[-1])"
   ]
  },
  {
   "cell_type": "code",
   "execution_count": 8,
   "metadata": {},
   "outputs": [],
   "source": [
    "for i,link in enumerate(total_link):\n",
    "    link = requests.get(link)\n",
    "    soup = bs(link.text,'html')\n",
    "    img_link = soup.find('div',class_='snapImg').img['src']\n",
    "    url_img = 'http:'+img_link\n",
    "    new_path ='./data/2020/02/fem/'\n",
    "    response = requests.get(url_img, stream=True)\n",
    "    with open(new_path+str(i)+\".jpg\", 'wb') as out_file:\n",
    "        shutil.copyfileobj(response.raw, out_file)\n",
    "    del response"
   ]
  },
  {
   "cell_type": "markdown",
   "metadata": {},
   "source": [
    "# 2월 남자"
   ]
  },
  {
   "cell_type": "code",
   "execution_count": 9,
   "metadata": {},
   "outputs": [
    {
     "name": "stdout",
     "output_type": "stream",
     "text": [
      "0 https://www.musinsa.com/index.php?m=street&_y=2020&_mon=2&gender=m&uid=58618\n",
      "1 https://www.musinsa.com/index.php?m=street&_y=2020&_mon=2&gender=m&p=1&uid=58618\n",
      "2 https://www.musinsa.com/index.php?m=street&_y=2020&_mon=2&gender=m&p=2&uid=58894\n",
      "3 https://www.musinsa.com/index.php?m=street&_y=2020&_mon=2&gender=m&p=3&uid=58625\n"
     ]
    }
   ],
   "source": [
    "total_link =[]\n",
    "\n",
    "for page_number in range(100):\n",
    "    data = requests.get('https://www.musinsa.com/index.php?m=street&_y=2020&_mon=2&gender=m&p='+str(page_number)+'#listStart')\n",
    "    time.sleep(0.5)\n",
    "    s = bs(data.text,'html')\n",
    "    time.sleep(0.6)\n",
    "    if len([x.a['href'] for x in s.find_all(\"div\",class_='articleImg')]) ==0:\n",
    "        break\n",
    "    else:\n",
    "        total_link +=['https://www.musinsa.com/' +x.a['href'][1:] for x in s.find_all(\"div\",class_='articleImg')] \n",
    "    print(page_number,total_link[-1])"
   ]
  },
  {
   "cell_type": "code",
   "execution_count": 10,
   "metadata": {},
   "outputs": [],
   "source": [
    "for i,link in enumerate(total_link):\n",
    "    link = requests.get(link)\n",
    "    soup = bs(link.text,'html')\n",
    "    img_link = soup.find('div',class_='snapImg').img['src']\n",
    "    url_img = 'http:'+img_link\n",
    "    new_path ='./data/2020/02/male/'\n",
    "    response = requests.get(url_img, stream=True)\n",
    "    with open(new_path+str(i)+\".jpg\", 'wb') as out_file:\n",
    "        shutil.copyfileobj(response.raw, out_file)\n",
    "    del response"
   ]
  },
  {
   "cell_type": "markdown",
   "metadata": {},
   "source": [
    "# 3월 여자"
   ]
  },
  {
   "cell_type": "code",
   "execution_count": 11,
   "metadata": {},
   "outputs": [
    {
     "name": "stdout",
     "output_type": "stream",
     "text": [
      "0 https://www.musinsa.com/index.php?m=street&_y=2020&_mon=3&gender=f&uid=59442\n",
      "1 https://www.musinsa.com/index.php?m=street&_y=2020&_mon=3&gender=f&p=1&uid=59442\n",
      "2 https://www.musinsa.com/index.php?m=street&_y=2020&_mon=3&gender=f&p=2&uid=59386\n",
      "3 https://www.musinsa.com/index.php?m=street&_y=2020&_mon=3&gender=f&p=3&uid=59653\n",
      "4 https://www.musinsa.com/index.php?m=street&_y=2020&_mon=3&gender=f&p=4&uid=59475\n",
      "5 https://www.musinsa.com/index.php?m=street&_y=2020&_mon=3&gender=f&p=5&uid=59906\n",
      "6 https://www.musinsa.com/index.php?m=street&_y=2020&_mon=3&gender=f&p=6&uid=59503\n",
      "7 https://www.musinsa.com/index.php?m=street&_y=2020&_mon=3&gender=f&p=7&uid=59578\n"
     ]
    }
   ],
   "source": [
    "total_link =[]\n",
    "\n",
    "for page_number in range(100):\n",
    "    data = requests.get('https://www.musinsa.com/index.php?m=street&_y=2020&_mon=3&gender=f&p='+str(page_number)+'#listStart')\n",
    "    time.sleep(0.5)\n",
    "    s = bs(data.text,'html')\n",
    "    time.sleep(0.6)\n",
    "    if len([x.a['href'] for x in s.find_all(\"div\",class_='articleImg')]) ==0:\n",
    "        break\n",
    "    else:\n",
    "        total_link +=['https://www.musinsa.com/' +x.a['href'][1:] for x in s.find_all(\"div\",class_='articleImg')] \n",
    "    print(page_number,total_link[-1])"
   ]
  },
  {
   "cell_type": "code",
   "execution_count": 12,
   "metadata": {},
   "outputs": [],
   "source": [
    "for i,link in enumerate(total_link):\n",
    "    link = requests.get(link)\n",
    "    soup = bs(link.text,'html')\n",
    "    img_link = soup.find('div',class_='snapImg').img['src']\n",
    "    url_img = 'http:'+img_link\n",
    "    new_path ='./data/2020/03/fem/'\n",
    "    response = requests.get(url_img, stream=True)\n",
    "    with open(new_path+str(i)+\".jpg\", 'wb') as out_file:\n",
    "        shutil.copyfileobj(response.raw, out_file)\n",
    "    del response"
   ]
  },
  {
   "cell_type": "markdown",
   "metadata": {},
   "source": [
    "# 3월 남자"
   ]
  },
  {
   "cell_type": "code",
   "execution_count": 13,
   "metadata": {},
   "outputs": [
    {
     "name": "stdout",
     "output_type": "stream",
     "text": [
      "0 https://www.musinsa.com/index.php?m=street&_y=2020&_mon=3&gender=m&uid=59887\n",
      "1 https://www.musinsa.com/index.php?m=street&_y=2020&_mon=3&gender=m&p=1&uid=59887\n",
      "2 https://www.musinsa.com/index.php?m=street&_y=2020&_mon=3&gender=m&p=2&uid=60077\n",
      "3 https://www.musinsa.com/index.php?m=street&_y=2020&_mon=3&gender=m&p=3&uid=59586\n",
      "4 https://www.musinsa.com/index.php?m=street&_y=2020&_mon=3&gender=m&p=4&uid=60058\n"
     ]
    }
   ],
   "source": [
    "total_link =[]\n",
    "\n",
    "for page_number in range(100):\n",
    "    data = requests.get('https://www.musinsa.com/index.php?m=street&_y=2020&_mon=3&gender=m&p='+str(page_number)+'#listStart')\n",
    "    time.sleep(0.5)\n",
    "    s = bs(data.text,'html')\n",
    "    time.sleep(0.6)\n",
    "    if len([x.a['href'] for x in s.find_all(\"div\",class_='articleImg')]) ==0:\n",
    "        break\n",
    "    else:\n",
    "        total_link +=['https://www.musinsa.com/' +x.a['href'][1:] for x in s.find_all(\"div\",class_='articleImg')] \n",
    "    print(page_number,total_link[-1])"
   ]
  },
  {
   "cell_type": "code",
   "execution_count": 14,
   "metadata": {},
   "outputs": [],
   "source": [
    "for i,link in enumerate(total_link):\n",
    "    link = requests.get(link)\n",
    "    soup = bs(link.text,'html')\n",
    "    img_link = soup.find('div',class_='snapImg').img['src']\n",
    "    url_img = 'http:'+img_link\n",
    "    new_path ='./data/2020/03/male/'\n",
    "    response = requests.get(url_img, stream=True)\n",
    "    with open(new_path+str(i)+\".jpg\", 'wb') as out_file:\n",
    "        shutil.copyfileobj(response.raw, out_file)\n",
    "    del response"
   ]
  },
  {
   "cell_type": "markdown",
   "metadata": {},
   "source": [
    "# 4월 여자"
   ]
  },
  {
   "cell_type": "code",
   "execution_count": 15,
   "metadata": {},
   "outputs": [
    {
     "name": "stdout",
     "output_type": "stream",
     "text": [
      "0 https://www.musinsa.com/index.php?m=street&_y=2020&_mon=4&gender=f&uid=60189\n",
      "1 https://www.musinsa.com/index.php?m=street&_y=2020&_mon=4&gender=f&p=1&uid=60189\n",
      "2 https://www.musinsa.com/index.php?m=street&_y=2020&_mon=4&gender=f&p=2&uid=60906\n",
      "3 https://www.musinsa.com/index.php?m=street&_y=2020&_mon=4&gender=f&p=3&uid=60298\n",
      "4 https://www.musinsa.com/index.php?m=street&_y=2020&_mon=4&gender=f&p=4&uid=60596\n",
      "5 https://www.musinsa.com/index.php?m=street&_y=2020&_mon=4&gender=f&p=5&uid=59688\n",
      "6 https://www.musinsa.com/index.php?m=street&_y=2020&_mon=4&gender=f&p=6&uid=60409\n"
     ]
    }
   ],
   "source": [
    "total_link =[]\n",
    "\n",
    "for page_number in range(100):\n",
    "    data = requests.get('https://www.musinsa.com/index.php?m=street&_y=2020&_mon=4&gender=f&p='+str(page_number)+'#listStart')\n",
    "    time.sleep(0.5)\n",
    "    s = bs(data.text,'html')\n",
    "    time.sleep(0.6)\n",
    "    if len([x.a['href'] for x in s.find_all(\"div\",class_='articleImg')]) ==0:\n",
    "        break\n",
    "    else:\n",
    "        total_link +=['https://www.musinsa.com/' +x.a['href'][1:] for x in s.find_all(\"div\",class_='articleImg')] \n",
    "    print(page_number,total_link[-1])"
   ]
  },
  {
   "cell_type": "code",
   "execution_count": 16,
   "metadata": {},
   "outputs": [],
   "source": [
    "for i,link in enumerate(total_link):\n",
    "    link = requests.get(link)\n",
    "    soup = bs(link.text,'html')\n",
    "    img_link = soup.find('div',class_='snapImg').img['src']\n",
    "    url_img = 'http:'+img_link\n",
    "    new_path ='./data/2020/04/fem/'\n",
    "    response = requests.get(url_img, stream=True)\n",
    "    with open(new_path+str(i)+\".jpg\", 'wb') as out_file:\n",
    "        shutil.copyfileobj(response.raw, out_file)\n",
    "    del response"
   ]
  },
  {
   "cell_type": "markdown",
   "metadata": {},
   "source": [
    "# 4월 남자"
   ]
  },
  {
   "cell_type": "code",
   "execution_count": 17,
   "metadata": {},
   "outputs": [
    {
     "name": "stdout",
     "output_type": "stream",
     "text": [
      "0 https://www.musinsa.com/index.php?m=street&_y=2020&_mon=4&gender=m&uid=60357\n",
      "1 https://www.musinsa.com/index.php?m=street&_y=2020&_mon=4&gender=m&p=1&uid=60357\n",
      "2 https://www.musinsa.com/index.php?m=street&_y=2020&_mon=4&gender=m&p=2&uid=60493\n",
      "3 https://www.musinsa.com/index.php?m=street&_y=2020&_mon=4&gender=m&p=3&uid=60161\n",
      "4 https://www.musinsa.com/index.php?m=street&_y=2020&_mon=4&gender=m&p=4&uid=60582\n"
     ]
    }
   ],
   "source": [
    "total_link =[]\n",
    "\n",
    "for page_number in range(100):\n",
    "    data = requests.get('https://www.musinsa.com/index.php?m=street&_y=2020&_mon=4&gender=m&p='+str(page_number)+'#listStart')\n",
    "    time.sleep(0.5)\n",
    "    s = bs(data.text,'html')\n",
    "    time.sleep(0.6)\n",
    "    if len([x.a['href'] for x in s.find_all(\"div\",class_='articleImg')]) ==0:\n",
    "        break\n",
    "    else:\n",
    "        total_link +=['https://www.musinsa.com/' +x.a['href'][1:] for x in s.find_all(\"div\",class_='articleImg')] \n",
    "    print(page_number,total_link[-1])"
   ]
  },
  {
   "cell_type": "code",
   "execution_count": 18,
   "metadata": {},
   "outputs": [],
   "source": [
    "for i,link in enumerate(total_link):\n",
    "    link = requests.get(link)\n",
    "    soup = bs(link.text,'html')\n",
    "    img_link = soup.find('div',class_='snapImg').img['src']\n",
    "    url_img = 'http:'+img_link\n",
    "    new_path ='./data/2020/04/male/'\n",
    "    response = requests.get(url_img, stream=True)\n",
    "    with open(new_path+str(i)+\".jpg\", 'wb') as out_file:\n",
    "        shutil.copyfileobj(response.raw, out_file)\n",
    "    del response"
   ]
  },
  {
   "cell_type": "markdown",
   "metadata": {},
   "source": [
    "# 5월 여자"
   ]
  },
  {
   "cell_type": "code",
   "execution_count": 19,
   "metadata": {},
   "outputs": [
    {
     "name": "stdout",
     "output_type": "stream",
     "text": [
      "0 https://www.musinsa.com/index.php?m=street&_y=2020&_mon=5&gender=f&uid=60962\n",
      "1 https://www.musinsa.com/index.php?m=street&_y=2020&_mon=5&gender=f&p=1&uid=60962\n",
      "2 https://www.musinsa.com/index.php?m=street&_y=2020&_mon=5&gender=f&p=2&uid=60969\n",
      "3 https://www.musinsa.com/index.php?m=street&_y=2020&_mon=5&gender=f&p=3&uid=61014\n",
      "4 https://www.musinsa.com/index.php?m=street&_y=2020&_mon=5&gender=f&p=4&uid=61180\n",
      "5 https://www.musinsa.com/index.php?m=street&_y=2020&_mon=5&gender=f&p=5&uid=61270\n",
      "6 https://www.musinsa.com/index.php?m=street&_y=2020&_mon=5&gender=f&p=6&uid=61072\n"
     ]
    }
   ],
   "source": [
    "total_link =[]\n",
    "\n",
    "for page_number in range(100):\n",
    "    data = requests.get('https://www.musinsa.com/index.php?m=street&_y=2020&_mon=5&gender=f&p='+str(page_number)+'#listStart')\n",
    "    time.sleep(0.5)\n",
    "    s = bs(data.text,'html')\n",
    "    time.sleep(0.6)\n",
    "    if len([x.a['href'] for x in s.find_all(\"div\",class_='articleImg')]) ==0:\n",
    "        break\n",
    "    else:\n",
    "        total_link +=['https://www.musinsa.com/' +x.a['href'][1:] for x in s.find_all(\"div\",class_='articleImg')] \n",
    "    print(page_number,total_link[-1])"
   ]
  },
  {
   "cell_type": "code",
   "execution_count": 20,
   "metadata": {},
   "outputs": [],
   "source": [
    "for i,link in enumerate(total_link):\n",
    "    link = requests.get(link)\n",
    "    soup = bs(link.text,'html')\n",
    "    img_link = soup.find('div',class_='snapImg').img['src']\n",
    "    url_img = 'http:'+img_link\n",
    "    new_path ='./data/2020/05/fem/'\n",
    "    response = requests.get(url_img, stream=True)\n",
    "    with open(new_path+str(i)+\".jpg\", 'wb') as out_file:\n",
    "        shutil.copyfileobj(response.raw, out_file)\n",
    "    del response"
   ]
  },
  {
   "cell_type": "markdown",
   "metadata": {},
   "source": [
    "# 5월 남자"
   ]
  },
  {
   "cell_type": "code",
   "execution_count": 21,
   "metadata": {},
   "outputs": [
    {
     "name": "stdout",
     "output_type": "stream",
     "text": [
      "0 https://www.musinsa.com/index.php?m=street&_y=2020&_mon=5&gender=m&uid=61418\n",
      "1 https://www.musinsa.com/index.php?m=street&_y=2020&_mon=5&gender=m&p=1&uid=61418\n",
      "2 https://www.musinsa.com/index.php?m=street&_y=2020&_mon=5&gender=m&p=2&uid=61094\n",
      "3 https://www.musinsa.com/index.php?m=street&_y=2020&_mon=5&gender=m&p=3&uid=61079\n",
      "4 https://www.musinsa.com/index.php?m=street&_y=2020&_mon=5&gender=m&p=4&uid=61123\n"
     ]
    }
   ],
   "source": [
    "total_link =[]\n",
    "\n",
    "for page_number in range(100):\n",
    "    data = requests.get('https://www.musinsa.com/index.php?m=street&_y=2020&_mon=5&gender=m&p='+str(page_number)+'#listStart')\n",
    "    time.sleep(0.5)\n",
    "    s = bs(data.text,'html')\n",
    "    time.sleep(0.6)\n",
    "    if len([x.a['href'] for x in s.find_all(\"div\",class_='articleImg')]) ==0:\n",
    "        break\n",
    "    else:\n",
    "        total_link +=['https://www.musinsa.com/' +x.a['href'][1:] for x in s.find_all(\"div\",class_='articleImg')] \n",
    "    print(page_number,total_link[-1])"
   ]
  },
  {
   "cell_type": "code",
   "execution_count": 22,
   "metadata": {},
   "outputs": [],
   "source": [
    "for i,link in enumerate(total_link):\n",
    "    link = requests.get(link)\n",
    "    soup = bs(link.text,'html')\n",
    "    img_link = soup.find('div',class_='snapImg').img['src']\n",
    "    url_img = 'http:'+img_link\n",
    "    new_path ='./data/2020/05/male/'\n",
    "    response = requests.get(url_img, stream=True)\n",
    "    with open(new_path+str(i)+\".jpg\", 'wb') as out_file:\n",
    "        shutil.copyfileobj(response.raw, out_file)\n",
    "    del response"
   ]
  },
  {
   "cell_type": "markdown",
   "metadata": {},
   "source": [
    "# 6월 여자"
   ]
  },
  {
   "cell_type": "code",
   "execution_count": 23,
   "metadata": {},
   "outputs": [
    {
     "name": "stdout",
     "output_type": "stream",
     "text": [
      "0 https://www.musinsa.com/index.php?m=street&_y=2020&_mon=6&gender=f&uid=62075\n",
      "1 https://www.musinsa.com/index.php?m=street&_y=2020&_mon=6&gender=f&p=1&uid=62075\n",
      "2 https://www.musinsa.com/index.php?m=street&_y=2020&_mon=6&gender=f&p=2&uid=61580\n",
      "3 https://www.musinsa.com/index.php?m=street&_y=2020&_mon=6&gender=f&p=3&uid=61655\n",
      "4 https://www.musinsa.com/index.php?m=street&_y=2020&_mon=6&gender=f&p=4&uid=61953\n",
      "5 https://www.musinsa.com/index.php?m=street&_y=2020&_mon=6&gender=f&p=5&uid=61678\n",
      "6 https://www.musinsa.com/index.php?m=street&_y=2020&_mon=6&gender=f&p=6&uid=62098\n"
     ]
    }
   ],
   "source": [
    "total_link =[]\n",
    "\n",
    "for page_number in range(100):\n",
    "    data = requests.get('https://www.musinsa.com/index.php?m=street&_y=2020&_mon=6&gender=f&p='+str(page_number)+'#listStart')\n",
    "    time.sleep(0.5)\n",
    "    s = bs(data.text,'html')\n",
    "    time.sleep(0.6)\n",
    "    if len([x.a['href'] for x in s.find_all(\"div\",class_='articleImg')]) ==0:\n",
    "        break\n",
    "    else:\n",
    "        total_link +=['https://www.musinsa.com/' +x.a['href'][1:] for x in s.find_all(\"div\",class_='articleImg')] \n",
    "    print(page_number,total_link[-1])"
   ]
  },
  {
   "cell_type": "code",
   "execution_count": 24,
   "metadata": {},
   "outputs": [],
   "source": [
    "for i,link in enumerate(total_link):\n",
    "    link = requests.get(link)\n",
    "    soup = bs(link.text,'html')\n",
    "    img_link = soup.find('div',class_='snapImg').img['src']\n",
    "    url_img = 'http:'+img_link\n",
    "    new_path ='./data/2020/06/fem/'\n",
    "    response = requests.get(url_img, stream=True)\n",
    "    with open(new_path+str(i)+\".jpg\", 'wb') as out_file:\n",
    "        shutil.copyfileobj(response.raw, out_file)\n",
    "    del response"
   ]
  },
  {
   "cell_type": "markdown",
   "metadata": {},
   "source": [
    "# 6월 남자"
   ]
  },
  {
   "cell_type": "code",
   "execution_count": 25,
   "metadata": {},
   "outputs": [
    {
     "name": "stdout",
     "output_type": "stream",
     "text": [
      "0 https://www.musinsa.com/index.php?m=street&_y=2020&_mon=6&gender=m&uid=61926\n",
      "1 https://www.musinsa.com/index.php?m=street&_y=2020&_mon=6&gender=m&p=1&uid=61926\n",
      "2 https://www.musinsa.com/index.php?m=street&_y=2020&_mon=6&gender=m&p=2&uid=61891\n",
      "3 https://www.musinsa.com/index.php?m=street&_y=2020&_mon=6&gender=m&p=3&uid=62135\n"
     ]
    }
   ],
   "source": [
    "total_link =[]\n",
    "\n",
    "for page_number in range(100):\n",
    "    data = requests.get('https://www.musinsa.com/index.php?m=street&_y=2020&_mon=6&gender=m&p='+str(page_number)+'#listStart')\n",
    "    time.sleep(0.5)\n",
    "    s = bs(data.text,'html')\n",
    "    time.sleep(0.6)\n",
    "    if len([x.a['href'] for x in s.find_all(\"div\",class_='articleImg')]) ==0:\n",
    "        break\n",
    "    else:\n",
    "        total_link +=['https://www.musinsa.com/' +x.a['href'][1:] for x in s.find_all(\"div\",class_='articleImg')] \n",
    "    print(page_number,total_link[-1])"
   ]
  },
  {
   "cell_type": "code",
   "execution_count": 26,
   "metadata": {},
   "outputs": [],
   "source": [
    "for i,link in enumerate(total_link):\n",
    "    link = requests.get(link)\n",
    "    soup = bs(link.text,'html')\n",
    "    img_link = soup.find('div',class_='snapImg').img['src']\n",
    "    url_img = 'http:'+img_link\n",
    "    new_path ='./data/2020/06/male/'\n",
    "    response = requests.get(url_img, stream=True)\n",
    "    with open(new_path+str(i)+\".jpg\", 'wb') as out_file:\n",
    "        shutil.copyfileobj(response.raw, out_file)\n",
    "    del response"
   ]
  },
  {
   "cell_type": "markdown",
   "metadata": {},
   "source": [
    "# 7월 여자"
   ]
  },
  {
   "cell_type": "code",
   "execution_count": 27,
   "metadata": {},
   "outputs": [
    {
     "name": "stdout",
     "output_type": "stream",
     "text": [
      "0 https://www.musinsa.com/index.php?m=street&_y=2020&_mon=7&gender=f&uid=62387\n",
      "1 https://www.musinsa.com/index.php?m=street&_y=2020&_mon=7&gender=f&p=1&uid=62387\n",
      "2 https://www.musinsa.com/index.php?m=street&_y=2020&_mon=7&gender=f&p=2&uid=62526\n",
      "3 https://www.musinsa.com/index.php?m=street&_y=2020&_mon=7&gender=f&p=3&uid=62970\n",
      "4 https://www.musinsa.com/index.php?m=street&_y=2020&_mon=7&gender=f&p=4&uid=62519\n",
      "5 https://www.musinsa.com/index.php?m=street&_y=2020&_mon=7&gender=f&p=5&uid=62501\n",
      "6 https://www.musinsa.com/index.php?m=street&_y=2020&_mon=7&gender=f&p=6&uid=62256\n",
      "7 https://www.musinsa.com/index.php?m=street&_y=2020&_mon=7&gender=f&p=7&uid=62257\n"
     ]
    }
   ],
   "source": [
    "total_link =[]\n",
    "\n",
    "for page_number in range(100):\n",
    "    data = requests.get('https://www.musinsa.com/index.php?m=street&_y=2020&_mon=7&gender=f&p='+str(page_number)+'#listStart')\n",
    "    time.sleep(0.5)\n",
    "    s = bs(data.text,'html')\n",
    "    time.sleep(0.6)\n",
    "    if len([x.a['href'] for x in s.find_all(\"div\",class_='articleImg')]) ==0:\n",
    "        break\n",
    "    else:\n",
    "        total_link +=['https://www.musinsa.com/' +x.a['href'][1:] for x in s.find_all(\"div\",class_='articleImg')] \n",
    "    print(page_number,total_link[-1])"
   ]
  },
  {
   "cell_type": "code",
   "execution_count": 28,
   "metadata": {},
   "outputs": [],
   "source": [
    "for i,link in enumerate(total_link):\n",
    "    link = requests.get(link)\n",
    "    soup = bs(link.text,'html')\n",
    "    img_link = soup.find('div',class_='snapImg').img['src']\n",
    "    url_img = 'http:'+img_link\n",
    "    new_path ='./data/2020/07/fem/'\n",
    "    response = requests.get(url_img, stream=True)\n",
    "    with open(new_path+str(i)+\".jpg\", 'wb') as out_file:\n",
    "        shutil.copyfileobj(response.raw, out_file)\n",
    "    del response"
   ]
  },
  {
   "cell_type": "markdown",
   "metadata": {},
   "source": [
    "# 7월 남자"
   ]
  },
  {
   "cell_type": "code",
   "execution_count": 29,
   "metadata": {},
   "outputs": [
    {
     "name": "stdout",
     "output_type": "stream",
     "text": [
      "0 https://www.musinsa.com/index.php?m=street&_y=2020&_mon=7&gender=m&uid=62751\n",
      "1 https://www.musinsa.com/index.php?m=street&_y=2020&_mon=7&gender=m&p=1&uid=62751\n",
      "2 https://www.musinsa.com/index.php?m=street&_y=2020&_mon=7&gender=m&p=2&uid=62505\n",
      "3 https://www.musinsa.com/index.php?m=street&_y=2020&_mon=7&gender=m&p=3&uid=62709\n"
     ]
    }
   ],
   "source": [
    "total_link =[]\n",
    "\n",
    "for page_number in range(100):\n",
    "    data = requests.get('https://www.musinsa.com/index.php?m=street&_y=2020&_mon=7&gender=m&p='+str(page_number)+'#listStart')\n",
    "    time.sleep(0.5)\n",
    "    s = bs(data.text,'html')\n",
    "    time.sleep(0.6)\n",
    "    if len([x.a['href'] for x in s.find_all(\"div\",class_='articleImg')]) ==0:\n",
    "        break\n",
    "    else:\n",
    "        total_link +=['https://www.musinsa.com/' +x.a['href'][1:] for x in s.find_all(\"div\",class_='articleImg')] \n",
    "    print(page_number,total_link[-1])"
   ]
  },
  {
   "cell_type": "code",
   "execution_count": 30,
   "metadata": {},
   "outputs": [],
   "source": [
    "for i,link in enumerate(total_link):\n",
    "    link = requests.get(link)\n",
    "    soup = bs(link.text,'html')\n",
    "    img_link = soup.find('div',class_='snapImg').img['src']\n",
    "    url_img = 'http:'+img_link\n",
    "    new_path ='./data/2020/07/male/'\n",
    "    response = requests.get(url_img, stream=True)\n",
    "    with open(new_path+str(i)+\".jpg\", 'wb') as out_file:\n",
    "        shutil.copyfileobj(response.raw, out_file)\n",
    "    del response"
   ]
  },
  {
   "cell_type": "markdown",
   "metadata": {},
   "source": [
    "# 8월 여자"
   ]
  },
  {
   "cell_type": "code",
   "execution_count": 31,
   "metadata": {},
   "outputs": [
    {
     "name": "stdout",
     "output_type": "stream",
     "text": [
      "0 https://www.musinsa.com/index.php?m=street&_y=2020&_mon=8&gender=f&uid=63180\n",
      "1 https://www.musinsa.com/index.php?m=street&_y=2020&_mon=8&gender=f&p=1&uid=63180\n",
      "2 https://www.musinsa.com/index.php?m=street&_y=2020&_mon=8&gender=f&p=2&uid=63495\n",
      "3 https://www.musinsa.com/index.php?m=street&_y=2020&_mon=8&gender=f&p=3&uid=63230\n",
      "4 https://www.musinsa.com/index.php?m=street&_y=2020&_mon=8&gender=f&p=4&uid=63435\n",
      "5 https://www.musinsa.com/index.php?m=street&_y=2020&_mon=8&gender=f&p=5&uid=63480\n",
      "6 https://www.musinsa.com/index.php?m=street&_y=2020&_mon=8&gender=f&p=6&uid=63165\n"
     ]
    }
   ],
   "source": [
    "total_link =[]\n",
    "\n",
    "for page_number in range(100):\n",
    "    data = requests.get('https://www.musinsa.com/index.php?m=street&_y=2020&_mon=8&gender=f&p='+str(page_number)+'#listStart')\n",
    "    time.sleep(0.5)\n",
    "    s = bs(data.text,'html')\n",
    "    time.sleep(0.6)\n",
    "    if len([x.a['href'] for x in s.find_all(\"div\",class_='articleImg')]) ==0:\n",
    "        break\n",
    "    else:\n",
    "        total_link +=['https://www.musinsa.com/' +x.a['href'][1:] for x in s.find_all(\"div\",class_='articleImg')] \n",
    "    print(page_number,total_link[-1])"
   ]
  },
  {
   "cell_type": "code",
   "execution_count": 32,
   "metadata": {},
   "outputs": [],
   "source": [
    "for i,link in enumerate(total_link):\n",
    "    link = requests.get(link)\n",
    "    soup = bs(link.text,'html')\n",
    "    img_link = soup.find('div',class_='snapImg').img['src']\n",
    "    url_img = 'http:'+img_link\n",
    "    new_path ='./data/2020/08/fem/'\n",
    "    response = requests.get(url_img, stream=True)\n",
    "    with open(new_path+str(i)+\".jpg\", 'wb') as out_file:\n",
    "        shutil.copyfileobj(response.raw, out_file)\n",
    "    del response"
   ]
  },
  {
   "cell_type": "markdown",
   "metadata": {},
   "source": [
    "# 8월 남자"
   ]
  },
  {
   "cell_type": "code",
   "execution_count": 33,
   "metadata": {},
   "outputs": [
    {
     "name": "stdout",
     "output_type": "stream",
     "text": [
      "0 https://www.musinsa.com/index.php?m=street&_y=2020&_mon=8&gender=m&uid=63029\n",
      "1 https://www.musinsa.com/index.php?m=street&_y=2020&_mon=8&gender=m&p=1&uid=63029\n",
      "2 https://www.musinsa.com/index.php?m=street&_y=2020&_mon=8&gender=m&p=2&uid=63142\n",
      "3 https://www.musinsa.com/index.php?m=street&_y=2020&_mon=8&gender=m&p=3&uid=63275\n"
     ]
    }
   ],
   "source": [
    "total_link =[]\n",
    "\n",
    "for page_number in range(100):\n",
    "    data = requests.get('https://www.musinsa.com/index.php?m=street&_y=2020&_mon=8&gender=m&p='+str(page_number)+'#listStart')\n",
    "    time.sleep(0.5)\n",
    "    s = bs(data.text,'html')\n",
    "    time.sleep(0.6)\n",
    "    if len([x.a['href'] for x in s.find_all(\"div\",class_='articleImg')]) ==0:\n",
    "        break\n",
    "    else:\n",
    "        total_link +=['https://www.musinsa.com/' +x.a['href'][1:] for x in s.find_all(\"div\",class_='articleImg')] \n",
    "    print(page_number,total_link[-1])"
   ]
  },
  {
   "cell_type": "code",
   "execution_count": 34,
   "metadata": {},
   "outputs": [],
   "source": [
    "for i,link in enumerate(total_link):\n",
    "    link = requests.get(link)\n",
    "    soup = bs(link.text,'html')\n",
    "    img_link = soup.find('div',class_='snapImg').img['src']\n",
    "    url_img = 'http:'+img_link\n",
    "    new_path ='./data/2020/08/male/'\n",
    "    response = requests.get(url_img, stream=True)\n",
    "    with open(new_path+str(i)+\".jpg\", 'wb') as out_file:\n",
    "        shutil.copyfileobj(response.raw, out_file)\n",
    "    del response"
   ]
  },
  {
   "cell_type": "markdown",
   "metadata": {},
   "source": [
    "# 9월 여자"
   ]
  },
  {
   "cell_type": "code",
   "execution_count": 35,
   "metadata": {},
   "outputs": [
    {
     "name": "stdout",
     "output_type": "stream",
     "text": [
      "0 https://www.musinsa.com/index.php?m=street&_y=2020&_mon=9&gender=f&uid=64545\n",
      "1 https://www.musinsa.com/index.php?m=street&_y=2020&_mon=9&gender=f&p=1&uid=64545\n",
      "2 https://www.musinsa.com/index.php?m=street&_y=2020&_mon=9&gender=f&p=2&uid=64424\n",
      "3 https://www.musinsa.com/index.php?m=street&_y=2020&_mon=9&gender=f&p=3&uid=64255\n",
      "4 https://www.musinsa.com/index.php?m=street&_y=2020&_mon=9&gender=f&p=4&uid=64118\n",
      "5 https://www.musinsa.com/index.php?m=street&_y=2020&_mon=9&gender=f&p=5&uid=63943\n",
      "6 https://www.musinsa.com/index.php?m=street&_y=2020&_mon=9&gender=f&p=6&uid=63670\n"
     ]
    }
   ],
   "source": [
    "total_link =[]\n",
    "\n",
    "for page_number in range(100):\n",
    "    data = requests.get('https://www.musinsa.com/index.php?m=street&_y=2020&_mon=9&gender=f&p='+str(page_number)+'#listStart')\n",
    "    time.sleep(0.5)\n",
    "    s = bs(data.text,'html')\n",
    "    time.sleep(0.6)\n",
    "    if len([x.a['href'] for x in s.find_all(\"div\",class_='articleImg')]) ==0:\n",
    "        break\n",
    "    else:\n",
    "        total_link +=['https://www.musinsa.com/' +x.a['href'][1:] for x in s.find_all(\"div\",class_='articleImg')] \n",
    "    print(page_number,total_link[-1])"
   ]
  },
  {
   "cell_type": "code",
   "execution_count": 36,
   "metadata": {},
   "outputs": [],
   "source": [
    "for i,link in enumerate(total_link):\n",
    "    link = requests.get(link)\n",
    "    soup = bs(link.text,'html')\n",
    "    img_link = soup.find('div',class_='snapImg').img['src']\n",
    "    url_img = 'http:'+img_link\n",
    "    new_path ='./data/2020/09/fem/'\n",
    "    response = requests.get(url_img, stream=True)\n",
    "    with open(new_path+str(i)+\".jpg\", 'wb') as out_file:\n",
    "        shutil.copyfileobj(response.raw, out_file)\n",
    "    del response"
   ]
  },
  {
   "cell_type": "markdown",
   "metadata": {},
   "source": [
    "# 9월 남자"
   ]
  },
  {
   "cell_type": "code",
   "execution_count": 37,
   "metadata": {},
   "outputs": [
    {
     "name": "stdout",
     "output_type": "stream",
     "text": [
      "0 https://www.musinsa.com/index.php?m=street&_y=2020&_mon=9&gender=m&uid=64395\n",
      "1 https://www.musinsa.com/index.php?m=street&_y=2020&_mon=9&gender=m&p=1&uid=64395\n",
      "2 https://www.musinsa.com/index.php?m=street&_y=2020&_mon=9&gender=m&p=2&uid=64098\n",
      "3 https://www.musinsa.com/index.php?m=street&_y=2020&_mon=9&gender=m&p=3&uid=63891\n",
      "4 https://www.musinsa.com/index.php?m=street&_y=2020&_mon=9&gender=m&p=4&uid=63920\n"
     ]
    }
   ],
   "source": [
    "total_link =[]\n",
    "\n",
    "for page_number in range(100):\n",
    "    data = requests.get('https://www.musinsa.com/index.php?m=street&_y=2020&_mon=9&gender=m&p='+str(page_number)+'#listStart')\n",
    "    time.sleep(0.5)\n",
    "    s = bs(data.text,'html')\n",
    "    time.sleep(0.6)\n",
    "    if len([x.a['href'] for x in s.find_all(\"div\",class_='articleImg')]) ==0:\n",
    "        break\n",
    "    else:\n",
    "        total_link +=['https://www.musinsa.com/' +x.a['href'][1:] for x in s.find_all(\"div\",class_='articleImg')] \n",
    "    print(page_number,total_link[-1])"
   ]
  },
  {
   "cell_type": "code",
   "execution_count": 38,
   "metadata": {},
   "outputs": [],
   "source": [
    "for i,link in enumerate(total_link):\n",
    "    link = requests.get(link)\n",
    "    soup = bs(link.text,'html')\n",
    "    img_link = soup.find('div',class_='snapImg').img['src']\n",
    "    url_img = 'http:'+img_link\n",
    "    new_path ='./data/2020/09/male/'\n",
    "    response = requests.get(url_img, stream=True)\n",
    "    with open(new_path+str(i)+\".jpg\", 'wb') as out_file:\n",
    "        shutil.copyfileobj(response.raw, out_file)\n",
    "    del response"
   ]
  },
  {
   "cell_type": "markdown",
   "metadata": {},
   "source": [
    "# 10월 여자"
   ]
  },
  {
   "cell_type": "code",
   "execution_count": 39,
   "metadata": {},
   "outputs": [
    {
     "name": "stdout",
     "output_type": "stream",
     "text": [
      "0 https://www.musinsa.com/index.php?m=street&_y=2020&_mon=10&gender=f&uid=65590\n",
      "1 https://www.musinsa.com/index.php?m=street&_y=2020&_mon=10&gender=f&p=1&uid=65590\n",
      "2 https://www.musinsa.com/index.php?m=street&_y=2020&_mon=10&gender=f&p=2&uid=65349\n",
      "3 https://www.musinsa.com/index.php?m=street&_y=2020&_mon=10&gender=f&p=3&uid=65144\n",
      "4 https://www.musinsa.com/index.php?m=street&_y=2020&_mon=10&gender=f&p=4&uid=64986\n",
      "5 https://www.musinsa.com/index.php?m=street&_y=2020&_mon=10&gender=f&p=5&uid=64830\n",
      "6 https://www.musinsa.com/index.php?m=street&_y=2020&_mon=10&gender=f&p=6&uid=64825\n"
     ]
    }
   ],
   "source": [
    "total_link =[]\n",
    "\n",
    "for page_number in range(100):\n",
    "    data = requests.get('https://www.musinsa.com/index.php?m=street&_y=2020&_mon=10&gender=f&p='+str(page_number)+'#listStart')\n",
    "    time.sleep(0.5)\n",
    "    s = bs(data.text,'html')\n",
    "    time.sleep(0.6)\n",
    "    if len([x.a['href'] for x in s.find_all(\"div\",class_='articleImg')]) ==0:\n",
    "        break\n",
    "    else:\n",
    "        total_link +=['https://www.musinsa.com/' +x.a['href'][1:] for x in s.find_all(\"div\",class_='articleImg')] \n",
    "    print(page_number,total_link[-1])"
   ]
  },
  {
   "cell_type": "code",
   "execution_count": 40,
   "metadata": {},
   "outputs": [],
   "source": [
    "for i,link in enumerate(total_link):\n",
    "    link = requests.get(link)\n",
    "    soup = bs(link.text,'html')\n",
    "    img_link = soup.find('div',class_='snapImg').img['src']\n",
    "    url_img = 'http:'+img_link\n",
    "    new_path ='./data/2020/10/fem/'\n",
    "    response = requests.get(url_img, stream=True)\n",
    "    with open(new_path+str(i)+\".jpg\", 'wb') as out_file:\n",
    "        shutil.copyfileobj(response.raw, out_file)\n",
    "    del response"
   ]
  },
  {
   "cell_type": "markdown",
   "metadata": {},
   "source": [
    "# 10월 남자"
   ]
  },
  {
   "cell_type": "code",
   "execution_count": 41,
   "metadata": {},
   "outputs": [
    {
     "name": "stdout",
     "output_type": "stream",
     "text": [
      "0 https://www.musinsa.com/index.php?m=street&_y=2020&_mon=10&gender=m&uid=65403\n",
      "1 https://www.musinsa.com/index.php?m=street&_y=2020&_mon=10&gender=m&p=1&uid=65403\n",
      "2 https://www.musinsa.com/index.php?m=street&_y=2020&_mon=10&gender=m&p=2&uid=65071\n",
      "3 https://www.musinsa.com/index.php?m=street&_y=2020&_mon=10&gender=m&p=3&uid=64767\n"
     ]
    }
   ],
   "source": [
    "total_link =[]\n",
    "\n",
    "for page_number in range(100):\n",
    "    data = requests.get('https://www.musinsa.com/index.php?m=street&_y=2020&_mon=10&gender=m&p='+str(page_number)+'#listStart')\n",
    "    time.sleep(0.5)\n",
    "    s = bs(data.text,'html')\n",
    "    time.sleep(0.6)\n",
    "    if len([x.a['href'] for x in s.find_all(\"div\",class_='articleImg')]) ==0:\n",
    "        break\n",
    "    else:\n",
    "        total_link +=['https://www.musinsa.com/' +x.a['href'][1:] for x in s.find_all(\"div\",class_='articleImg')] \n",
    "    print(page_number,total_link[-1])"
   ]
  },
  {
   "cell_type": "code",
   "execution_count": 42,
   "metadata": {},
   "outputs": [],
   "source": [
    "for i,link in enumerate(total_link):\n",
    "    link = requests.get(link)\n",
    "    soup = bs(link.text,'html')\n",
    "    img_link = soup.find('div',class_='snapImg').img['src']\n",
    "    url_img = 'http:'+img_link\n",
    "    new_path ='./data/2020/10/male/'\n",
    "    response = requests.get(url_img, stream=True)\n",
    "    with open(new_path+str(i)+\".jpg\", 'wb') as out_file:\n",
    "        shutil.copyfileobj(response.raw, out_file)\n",
    "    del response"
   ]
  },
  {
   "cell_type": "markdown",
   "metadata": {},
   "source": [
    "# 11월 여자"
   ]
  },
  {
   "cell_type": "code",
   "execution_count": 43,
   "metadata": {},
   "outputs": [
    {
     "name": "stdout",
     "output_type": "stream",
     "text": [
      "0 https://www.musinsa.com/index.php?m=street&_y=2020&_mon=11&gender=f&uid=66518\n",
      "1 https://www.musinsa.com/index.php?m=street&_y=2020&_mon=11&gender=f&p=1&uid=66518\n",
      "2 https://www.musinsa.com/index.php?m=street&_y=2020&_mon=11&gender=f&p=2&uid=66342\n",
      "3 https://www.musinsa.com/index.php?m=street&_y=2020&_mon=11&gender=f&p=3&uid=66197\n",
      "4 https://www.musinsa.com/index.php?m=street&_y=2020&_mon=11&gender=f&p=4&uid=66003\n",
      "5 https://www.musinsa.com/index.php?m=street&_y=2020&_mon=11&gender=f&p=5&uid=65750\n",
      "6 https://www.musinsa.com/index.php?m=street&_y=2020&_mon=11&gender=f&p=6&uid=65794\n"
     ]
    }
   ],
   "source": [
    "total_link =[]\n",
    "\n",
    "for page_number in range(100):\n",
    "    data = requests.get('https://www.musinsa.com/index.php?m=street&_y=2020&_mon=11&gender=f&p='+str(page_number)+'#listStart')\n",
    "    time.sleep(0.5)\n",
    "    s = bs(data.text,'html')\n",
    "    time.sleep(0.6)\n",
    "    if len([x.a['href'] for x in s.find_all(\"div\",class_='articleImg')]) ==0:\n",
    "        break\n",
    "    else:\n",
    "        total_link +=['https://www.musinsa.com/' +x.a['href'][1:] for x in s.find_all(\"div\",class_='articleImg')] \n",
    "    print(page_number,total_link[-1])"
   ]
  },
  {
   "cell_type": "code",
   "execution_count": 44,
   "metadata": {},
   "outputs": [],
   "source": [
    "for i,link in enumerate(total_link):\n",
    "    link = requests.get(link)\n",
    "    soup = bs(link.text,'html')\n",
    "    img_link = soup.find('div',class_='snapImg').img['src']\n",
    "    url_img = 'http:'+img_link\n",
    "    new_path ='./data/2020/11/fem/'\n",
    "    response = requests.get(url_img, stream=True)\n",
    "    with open(new_path+str(i)+\".jpg\", 'wb') as out_file:\n",
    "        shutil.copyfileobj(response.raw, out_file)\n",
    "    del response"
   ]
  },
  {
   "cell_type": "markdown",
   "metadata": {},
   "source": [
    "# 11월 남자"
   ]
  },
  {
   "cell_type": "code",
   "execution_count": 45,
   "metadata": {},
   "outputs": [
    {
     "name": "stdout",
     "output_type": "stream",
     "text": [
      "0 https://www.musinsa.com/index.php?m=street&_y=2020&_mon=11&gender=m&uid=66422\n",
      "1 https://www.musinsa.com/index.php?m=street&_y=2020&_mon=11&gender=m&p=1&uid=66422\n",
      "2 https://www.musinsa.com/index.php?m=street&_y=2020&_mon=11&gender=m&p=2&uid=66211\n",
      "3 https://www.musinsa.com/index.php?m=street&_y=2020&_mon=11&gender=m&p=3&uid=65988\n",
      "4 https://www.musinsa.com/index.php?m=street&_y=2020&_mon=11&gender=m&p=4&uid=65752\n"
     ]
    }
   ],
   "source": [
    "total_link =[]\n",
    "\n",
    "for page_number in range(100):\n",
    "    data = requests.get('https://www.musinsa.com/index.php?m=street&_y=2020&_mon=11&gender=m&p='+str(page_number)+'#listStart')\n",
    "    time.sleep(0.5)\n",
    "    s = bs(data.text,'html')\n",
    "    time.sleep(0.6)\n",
    "    if len([x.a['href'] for x in s.find_all(\"div\",class_='articleImg')]) ==0:\n",
    "        break\n",
    "    else:\n",
    "        total_link +=['https://www.musinsa.com/' +x.a['href'][1:] for x in s.find_all(\"div\",class_='articleImg')] \n",
    "    print(page_number,total_link[-1])"
   ]
  },
  {
   "cell_type": "code",
   "execution_count": 46,
   "metadata": {},
   "outputs": [],
   "source": [
    "for i,link in enumerate(total_link):\n",
    "    link = requests.get(link)\n",
    "    soup = bs(link.text,'html')\n",
    "    img_link = soup.find('div',class_='snapImg').img['src']\n",
    "    url_img = 'http:'+img_link\n",
    "    new_path ='./data/2020/11/male/'\n",
    "    response = requests.get(url_img, stream=True)\n",
    "    with open(new_path+str(i)+\".jpg\", 'wb') as out_file:\n",
    "        shutil.copyfileobj(response.raw, out_file)\n",
    "    del response"
   ]
  },
  {
   "cell_type": "markdown",
   "metadata": {},
   "source": [
    "# 12월 여자"
   ]
  },
  {
   "cell_type": "code",
   "execution_count": 47,
   "metadata": {},
   "outputs": [
    {
     "name": "stdout",
     "output_type": "stream",
     "text": [
      "0 https://www.musinsa.com/index.php?m=street&_y=2020&_mon=12&gender=f&uid=66634\n",
      "1 https://www.musinsa.com/index.php?m=street&_y=2020&_mon=12&gender=f&p=1&uid=66634\n",
      "2 https://www.musinsa.com/index.php?m=street&_y=2020&_mon=12&gender=f&p=2&uid=66684\n"
     ]
    }
   ],
   "source": [
    "total_link =[]\n",
    "\n",
    "for page_number in range(100):\n",
    "    data = requests.get('https://www.musinsa.com/index.php?m=street&_y=2020&_mon=12&gender=f&p='+str(page_number)+'#listStart')\n",
    "    time.sleep(0.5)\n",
    "    s = bs(data.text,'html')\n",
    "    time.sleep(0.6)\n",
    "    if len([x.a['href'] for x in s.find_all(\"div\",class_='articleImg')]) ==0:\n",
    "        break\n",
    "    else:\n",
    "        total_link +=['https://www.musinsa.com/' +x.a['href'][1:] for x in s.find_all(\"div\",class_='articleImg')] \n",
    "    print(page_number,total_link[-1])"
   ]
  },
  {
   "cell_type": "code",
   "execution_count": 48,
   "metadata": {},
   "outputs": [],
   "source": [
    "for i,link in enumerate(total_link):\n",
    "    link = requests.get(link)\n",
    "    soup = bs(link.text,'html')\n",
    "    img_link = soup.find('div',class_='snapImg').img['src']\n",
    "    url_img = 'http:'+img_link\n",
    "    new_path ='./data/2020/12/fem/'\n",
    "    response = requests.get(url_img, stream=True)\n",
    "    with open(new_path+str(i)+\".jpg\", 'wb') as out_file:\n",
    "        shutil.copyfileobj(response.raw, out_file)\n",
    "    del response"
   ]
  },
  {
   "cell_type": "markdown",
   "metadata": {},
   "source": [
    "# 12월 남자"
   ]
  },
  {
   "cell_type": "code",
   "execution_count": 49,
   "metadata": {},
   "outputs": [
    {
     "name": "stdout",
     "output_type": "stream",
     "text": [
      "0 https://www.musinsa.com/index.php?m=street&_y=2020&_mon=12&gender=m&uid=66538\n",
      "1 https://www.musinsa.com/index.php?m=street&_y=2020&_mon=12&gender=m&p=1&uid=66538\n"
     ]
    }
   ],
   "source": [
    "total_link =[]\n",
    "\n",
    "for page_number in range(100):\n",
    "    data = requests.get('https://www.musinsa.com/index.php?m=street&_y=2020&_mon=12&gender=m&p='+str(page_number)+'#listStart')\n",
    "    time.sleep(0.5)\n",
    "    s = bs(data.text,'html')\n",
    "    time.sleep(0.6)\n",
    "    if len([x.a['href'] for x in s.find_all(\"div\",class_='articleImg')]) ==0:\n",
    "        break\n",
    "    else:\n",
    "        total_link +=['https://www.musinsa.com/' +x.a['href'][1:] for x in s.find_all(\"div\",class_='articleImg')] \n",
    "    print(page_number,total_link[-1])"
   ]
  },
  {
   "cell_type": "code",
   "execution_count": 50,
   "metadata": {},
   "outputs": [],
   "source": [
    "for i,link in enumerate(total_link):\n",
    "    link = requests.get(link)\n",
    "    soup = bs(link.text,'html')\n",
    "    img_link = soup.find('div',class_='snapImg').img['src']\n",
    "    url_img = 'http:'+img_link\n",
    "    new_path ='./data/2020/12/male/'\n",
    "    response = requests.get(url_img, stream=True)\n",
    "    with open(new_path+str(i)+\".jpg\", 'wb') as out_file:\n",
    "        shutil.copyfileobj(response.raw, out_file)\n",
    "    del response"
   ]
  },
  {
   "cell_type": "code",
   "execution_count": null,
   "metadata": {},
   "outputs": [],
   "source": []
  }
 ],
 "metadata": {
  "kernelspec": {
   "display_name": "pydatavenv",
   "language": "python",
   "name": "pydatavenv"
  },
  "language_info": {
   "codemirror_mode": {
    "name": "ipython",
    "version": 3
   },
   "file_extension": ".py",
   "mimetype": "text/x-python",
   "name": "python",
   "nbconvert_exporter": "python",
   "pygments_lexer": "ipython3",
   "version": "3.7.9"
  }
 },
 "nbformat": 4,
 "nbformat_minor": 4
}
