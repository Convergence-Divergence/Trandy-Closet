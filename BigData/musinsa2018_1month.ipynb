{
 "cells": [
  {
   "cell_type": "code",
   "execution_count": 1,
   "metadata": {},
   "outputs": [],
   "source": [
    "import requests\n",
    "import datetime\n",
    "import requests\n",
    "from bs4 import BeautifulSoup as bs\n",
    "import numpy as np\n",
    "import time\n",
    "import shutil"
   ]
  },
  {
   "cell_type": "markdown",
   "metadata": {},
   "source": [
    "# 1월 여자"
   ]
  },
  {
   "cell_type": "code",
   "execution_count": 2,
   "metadata": {},
   "outputs": [
    {
     "name": "stderr",
     "output_type": "stream",
     "text": [
      "C:\\Users\\salient\\anaconda3\\envs\\pydatavenv\\lib\\site-packages\\bs4\\__init__.py:181: UserWarning: No parser was explicitly specified, so I'm using the best available HTML parser for this system (\"lxml\"). This usually isn't a problem, but if you run this code on another system, or in a different virtual environment, it may use a different parser and behave differently.\n",
      "\n",
      "The code that caused this warning is on line 193 of the file C:\\Users\\salient\\anaconda3\\envs\\pydatavenv\\lib\\runpy.py. To get rid of this warning, change code that looks like this:\n",
      "\n",
      " BeautifulSoup(YOUR_MARKUP})\n",
      "\n",
      "to this:\n",
      "\n",
      " BeautifulSoup(YOUR_MARKUP, \"lxml\")\n",
      "\n",
      "  markup_type=markup_type))\n"
     ]
    },
    {
     "name": "stdout",
     "output_type": "stream",
     "text": [
      "0 https://www.musinsa.com/index.php?m=street&_y=2018&_mon=1&gender=f&uid=40385\n",
      "1 https://www.musinsa.com/index.php?m=street&_y=2018&_mon=1&gender=f&p=1&uid=40385\n",
      "2 https://www.musinsa.com/index.php?m=street&_y=2018&_mon=1&gender=f&p=2&uid=40106\n",
      "3 https://www.musinsa.com/index.php?m=street&_y=2018&_mon=1&gender=f&p=3&uid=39964\n",
      "4 https://www.musinsa.com/index.php?m=street&_y=2018&_mon=1&gender=f&p=4&uid=40427\n",
      "5 https://www.musinsa.com/index.php?m=street&_y=2018&_mon=1&gender=f&p=5&uid=40657\n",
      "6 https://www.musinsa.com/index.php?m=street&_y=2018&_mon=1&gender=f&p=6&uid=39654\n",
      "7 https://www.musinsa.com/index.php?m=street&_y=2018&_mon=1&gender=f&p=7&uid=39907\n",
      "8 https://www.musinsa.com/index.php?m=street&_y=2018&_mon=1&gender=f&p=8&uid=40275\n",
      "9 https://www.musinsa.com/index.php?m=street&_y=2018&_mon=1&gender=f&p=9&uid=39871\n"
     ]
    }
   ],
   "source": [
    "total_link =[]\n",
    "\n",
    "for page_number in range(100):\n",
    "    data = requests.get('https://www.musinsa.com/index.php?m=street&_y=2018&_mon=1&gender=f&p='+str(page_number)+'#listStart')\n",
    "    time.sleep(0.5)\n",
    "    s = bs(data.text,'html')\n",
    "    time.sleep(0.6)\n",
    "    if len([x.a['href'] for x in s.find_all(\"div\",class_='articleImg')]) ==0:\n",
    "        break\n",
    "    else:\n",
    "        total_link +=['https://www.musinsa.com/' +x.a['href'][1:] for x in s.find_all(\"div\",class_='articleImg')] \n",
    "    print(page_number,total_link[-1])"
   ]
  },
  {
   "cell_type": "code",
   "execution_count": null,
   "metadata": {},
   "outputs": [],
   "source": [
    "for i,link in enumerate(total_link):\n",
    "    link = requests.get(link)\n",
    "    soup = bs(link.text,'html')\n",
    "    img_link = soup.find('div',class_='snapImg').img['src']\n",
    "    url_img = 'http:'+img_link\n",
    "    new_path ='./data/2018/01/fem/'\n",
    "    response = requests.get(url_img, stream=True)\n",
    "    with open(new_path+str(i)+\".jpg\", 'wb') as out_file:\n",
    "        shutil.copyfileobj(response.raw, out_file)\n",
    "    del response"
   ]
  },
  {
   "cell_type": "markdown",
   "metadata": {},
   "source": [
    "# 1월 남자"
   ]
  },
  {
   "cell_type": "code",
   "execution_count": null,
   "metadata": {},
   "outputs": [],
   "source": [
    "total_link =[]\n",
    "\n",
    "for page_number in range(100):\n",
    "    data = requests.get('https://www.musinsa.com/index.php?m=street&_y=2018&_mon=1&gender=m&p='+str(page_number)+'#listStart')\n",
    "    time.sleep(0.5)\n",
    "    s = bs(data.text,'html')\n",
    "    time.sleep(0.6)\n",
    "    if len([x.a['href'] for x in s.find_all(\"div\",class_='articleImg')]) ==0:\n",
    "        break\n",
    "    else:\n",
    "        total_link +=['https://www.musinsa.com/' +x.a['href'][1:] for x in s.find_all(\"div\",class_='articleImg')] \n",
    "    print(page_number,total_link[-1])"
   ]
  },
  {
   "cell_type": "code",
   "execution_count": null,
   "metadata": {},
   "outputs": [],
   "source": [
    "for i,link in enumerate(total_link):\n",
    "    link = requests.get(link)\n",
    "    soup = bs(link.text,'html')\n",
    "    img_link = soup.find('div',class_='snapImg').img['src']\n",
    "    url_img = 'http:'+img_link\n",
    "    new_path ='./data/2018/01/male/'\n",
    "    response = requests.get(url_img, stream=True)\n",
    "    with open(new_path+str(i)+\".jpg\", 'wb') as out_file:\n",
    "        shutil.copyfileobj(response.raw, out_file)\n",
    "    del response"
   ]
  },
  {
   "cell_type": "markdown",
   "metadata": {},
   "source": [
    "# 2월 여자"
   ]
  },
  {
   "cell_type": "code",
   "execution_count": null,
   "metadata": {},
   "outputs": [],
   "source": [
    "total_link =[]\n",
    "\n",
    "for page_number in range(100):\n",
    "    data = requests.get('https://www.musinsa.com/index.php?m=street&_y=2018&_mon=2&gender=f&p='+str(page_number)+'#listStart')\n",
    "    time.sleep(0.5)\n",
    "    s = bs(data.text,'html')\n",
    "    time.sleep(0.6)\n",
    "    if len([x.a['href'] for x in s.find_all(\"div\",class_='articleImg')]) ==0:\n",
    "        break\n",
    "    else:\n",
    "        total_link +=['https://www.musinsa.com/' +x.a['href'][1:] for x in s.find_all(\"div\",class_='articleImg')] \n",
    "    print(page_number,total_link[-1])"
   ]
  },
  {
   "cell_type": "code",
   "execution_count": null,
   "metadata": {},
   "outputs": [],
   "source": [
    "for i,link in enumerate(total_link):\n",
    "    link = requests.get(link)\n",
    "    soup = bs(link.text,'html')\n",
    "    img_link = soup.find('div',class_='snapImg').img['src']\n",
    "    url_img = 'http:'+img_link\n",
    "    new_path ='./data/2018/02/fem/'\n",
    "    response = requests.get(url_img, stream=True)\n",
    "    with open(new_path+str(i)+\".jpg\", 'wb') as out_file:\n",
    "        shutil.copyfileobj(response.raw, out_file)\n",
    "    del response"
   ]
  },
  {
   "cell_type": "markdown",
   "metadata": {},
   "source": [
    "# 2월 남자"
   ]
  },
  {
   "cell_type": "code",
   "execution_count": null,
   "metadata": {},
   "outputs": [],
   "source": [
    "total_link =[]\n",
    "\n",
    "for page_number in range(100):\n",
    "    data = requests.get('https://www.musinsa.com/index.php?m=street&_y=2018&_mon=2&gender=m&p='+str(page_number)+'#listStart')\n",
    "    time.sleep(0.5)\n",
    "    s = bs(data.text,'html')\n",
    "    time.sleep(0.6)\n",
    "    if len([x.a['href'] for x in s.find_all(\"div\",class_='articleImg')]) ==0:\n",
    "        break\n",
    "    else:\n",
    "        total_link +=['https://www.musinsa.com/' +x.a['href'][1:] for x in s.find_all(\"div\",class_='articleImg')] \n",
    "    print(page_number,total_link[-1])"
   ]
  },
  {
   "cell_type": "code",
   "execution_count": null,
   "metadata": {},
   "outputs": [],
   "source": [
    "for i,link in enumerate(total_link):\n",
    "    link = requests.get(link)\n",
    "    soup = bs(link.text,'html')\n",
    "    img_link = soup.find('div',class_='snapImg').img['src']\n",
    "    url_img = 'http:'+img_link\n",
    "    new_path ='./data/2018/02/male/'\n",
    "    response = requests.get(url_img, stream=True)\n",
    "    with open(new_path+str(i)+\".jpg\", 'wb') as out_file:\n",
    "        shutil.copyfileobj(response.raw, out_file)\n",
    "    del response"
   ]
  },
  {
   "cell_type": "markdown",
   "metadata": {},
   "source": [
    "# 3월 여자"
   ]
  },
  {
   "cell_type": "code",
   "execution_count": null,
   "metadata": {},
   "outputs": [],
   "source": [
    "total_link =[]\n",
    "\n",
    "for page_number in range(100):\n",
    "    data = requests.get('https://www.musinsa.com/index.php?m=street&_y=2018&_mon=3&gender=f&p='+str(page_number)+'#listStart')\n",
    "    time.sleep(0.5)\n",
    "    s = bs(data.text,'html')\n",
    "    time.sleep(0.6)\n",
    "    if len([x.a['href'] for x in s.find_all(\"div\",class_='articleImg')]) ==0:\n",
    "        break\n",
    "    else:\n",
    "        total_link +=['https://www.musinsa.com/' +x.a['href'][1:] for x in s.find_all(\"div\",class_='articleImg')] \n",
    "    print(page_number,total_link[-1])"
   ]
  },
  {
   "cell_type": "code",
   "execution_count": null,
   "metadata": {},
   "outputs": [],
   "source": [
    "for i,link in enumerate(total_link):\n",
    "    link = requests.get(link)\n",
    "    soup = bs(link.text,'html')\n",
    "    img_link = soup.find('div',class_='snapImg').img['src']\n",
    "    url_img = 'http:'+img_link\n",
    "    new_path ='./data/2018/03/fem/'\n",
    "    response = requests.get(url_img, stream=True)\n",
    "    with open(new_path+str(i)+\".jpg\", 'wb') as out_file:\n",
    "        shutil.copyfileobj(response.raw, out_file)\n",
    "    del response"
   ]
  },
  {
   "cell_type": "markdown",
   "metadata": {},
   "source": [
    "# 3월 남자"
   ]
  },
  {
   "cell_type": "code",
   "execution_count": null,
   "metadata": {},
   "outputs": [],
   "source": [
    "total_link =[]\n",
    "\n",
    "for page_number in range(100):\n",
    "    data = requests.get('https://www.musinsa.com/index.php?m=street&_y=2018&_mon=3&gender=m&p='+str(page_number)+'#listStart')\n",
    "    time.sleep(0.5)\n",
    "    s = bs(data.text,'html')\n",
    "    time.sleep(0.6)\n",
    "    if len([x.a['href'] for x in s.find_all(\"div\",class_='articleImg')]) ==0:\n",
    "        break\n",
    "    else:\n",
    "        total_link +=['https://www.musinsa.com/' +x.a['href'][1:] for x in s.find_all(\"div\",class_='articleImg')] \n",
    "    print(page_number,total_link[-1])"
   ]
  },
  {
   "cell_type": "code",
   "execution_count": null,
   "metadata": {},
   "outputs": [],
   "source": [
    "for i,link in enumerate(total_link):\n",
    "    link = requests.get(link)\n",
    "    soup = bs(link.text,'html')\n",
    "    img_link = soup.find('div',class_='snapImg').img['src']\n",
    "    url_img = 'http:'+img_link\n",
    "    new_path ='./data/2018/03/male/'\n",
    "    response = requests.get(url_img, stream=True)\n",
    "    with open(new_path+str(i)+\".jpg\", 'wb') as out_file:\n",
    "        shutil.copyfileobj(response.raw, out_file)\n",
    "    del response"
   ]
  },
  {
   "cell_type": "markdown",
   "metadata": {},
   "source": [
    "# 4월 여자"
   ]
  },
  {
   "cell_type": "code",
   "execution_count": null,
   "metadata": {},
   "outputs": [],
   "source": [
    "total_link =[]\n",
    "\n",
    "for page_number in range(100):\n",
    "    data = requests.get('https://www.musinsa.com/index.php?m=street&_y=2018&_mon=4&gender=f&p='+str(page_number)+'#listStart')\n",
    "    time.sleep(0.5)\n",
    "    s = bs(data.text,'html')\n",
    "    time.sleep(0.6)\n",
    "    if len([x.a['href'] for x in s.find_all(\"div\",class_='articleImg')]) ==0:\n",
    "        break\n",
    "    else:\n",
    "        total_link +=['https://www.musinsa.com/' +x.a['href'][1:] for x in s.find_all(\"div\",class_='articleImg')] \n",
    "    print(page_number,total_link[-1])"
   ]
  },
  {
   "cell_type": "code",
   "execution_count": null,
   "metadata": {},
   "outputs": [],
   "source": [
    "for i,link in enumerate(total_link):\n",
    "    link = requests.get(link)\n",
    "    soup = bs(link.text,'html')\n",
    "    img_link = soup.find('div',class_='snapImg').img['src']\n",
    "    url_img = 'http:'+img_link\n",
    "    new_path ='./data/2018/04/fem/'\n",
    "    response = requests.get(url_img, stream=True)\n",
    "    with open(new_path+str(i)+\".jpg\", 'wb') as out_file:\n",
    "        shutil.copyfileobj(response.raw, out_file)\n",
    "    del response"
   ]
  },
  {
   "cell_type": "markdown",
   "metadata": {},
   "source": [
    "# 4월 남자"
   ]
  },
  {
   "cell_type": "code",
   "execution_count": null,
   "metadata": {},
   "outputs": [],
   "source": [
    "total_link =[]\n",
    "\n",
    "for page_number in range(100):\n",
    "    data = requests.get('https://www.musinsa.com/index.php?m=street&_y=2018&_mon=4&gender=m&p='+str(page_number)+'#listStart')\n",
    "    time.sleep(0.5)\n",
    "    s = bs(data.text,'html')\n",
    "    time.sleep(0.6)\n",
    "    if len([x.a['href'] for x in s.find_all(\"div\",class_='articleImg')]) ==0:\n",
    "        break\n",
    "    else:\n",
    "        total_link +=['https://www.musinsa.com/' +x.a['href'][1:] for x in s.find_all(\"div\",class_='articleImg')] \n",
    "    print(page_number,total_link[-1])"
   ]
  },
  {
   "cell_type": "code",
   "execution_count": null,
   "metadata": {},
   "outputs": [],
   "source": [
    "for i,link in enumerate(total_link):\n",
    "    link = requests.get(link)\n",
    "    soup = bs(link.text,'html')\n",
    "    img_link = soup.find('div',class_='snapImg').img['src']\n",
    "    url_img = 'http:'+img_link\n",
    "    new_path ='./data/2018/04/male/'\n",
    "    response = requests.get(url_img, stream=True)\n",
    "    with open(new_path+str(i)+\".jpg\", 'wb') as out_file:\n",
    "        shutil.copyfileobj(response.raw, out_file)\n",
    "    del response"
   ]
  },
  {
   "cell_type": "markdown",
   "metadata": {},
   "source": [
    "# 5월 여자"
   ]
  },
  {
   "cell_type": "code",
   "execution_count": null,
   "metadata": {},
   "outputs": [],
   "source": [
    "total_link =[]\n",
    "\n",
    "for page_number in range(100):\n",
    "    data = requests.get('https://www.musinsa.com/index.php?m=street&_y=2018&_mon=5&gender=f&p='+str(page_number)+'#listStart')\n",
    "    time.sleep(0.5)\n",
    "    s = bs(data.text,'html')\n",
    "    time.sleep(0.6)\n",
    "    if len([x.a['href'] for x in s.find_all(\"div\",class_='articleImg')]) ==0:\n",
    "        break\n",
    "    else:\n",
    "        total_link +=['https://www.musinsa.com/' +x.a['href'][1:] for x in s.find_all(\"div\",class_='articleImg')] \n",
    "    print(page_number,total_link[-1])"
   ]
  },
  {
   "cell_type": "code",
   "execution_count": null,
   "metadata": {},
   "outputs": [],
   "source": [
    "for i,link in enumerate(total_link):\n",
    "    link = requests.get(link)\n",
    "    soup = bs(link.text,'html')\n",
    "    img_link = soup.find('div',class_='snapImg').img['src']\n",
    "    url_img = 'http:'+img_link\n",
    "    new_path ='./data/2018/05/fem/'\n",
    "    response = requests.get(url_img, stream=True)\n",
    "    with open(new_path+str(i)+\".jpg\", 'wb') as out_file:\n",
    "        shutil.copyfileobj(response.raw, out_file)\n",
    "    del response"
   ]
  },
  {
   "cell_type": "markdown",
   "metadata": {},
   "source": [
    "# 5월 남자"
   ]
  },
  {
   "cell_type": "code",
   "execution_count": null,
   "metadata": {},
   "outputs": [],
   "source": [
    "total_link =[]\n",
    "\n",
    "for page_number in range(100):\n",
    "    data = requests.get('https://www.musinsa.com/index.php?m=street&_y=2018&_mon=5&gender=m&p='+str(page_number)+'#listStart')\n",
    "    time.sleep(0.5)\n",
    "    s = bs(data.text,'html')\n",
    "    time.sleep(0.6)\n",
    "    if len([x.a['href'] for x in s.find_all(\"div\",class_='articleImg')]) ==0:\n",
    "        break\n",
    "    else:\n",
    "        total_link +=['https://www.musinsa.com/' +x.a['href'][1:] for x in s.find_all(\"div\",class_='articleImg')] \n",
    "    print(page_number,total_link[-1])"
   ]
  },
  {
   "cell_type": "code",
   "execution_count": null,
   "metadata": {},
   "outputs": [],
   "source": [
    "for i,link in enumerate(total_link):\n",
    "    link = requests.get(link)\n",
    "    soup = bs(link.text,'html')\n",
    "    img_link = soup.find('div',class_='snapImg').img['src']\n",
    "    url_img = 'http:'+img_link\n",
    "    new_path ='./data/2018/05/male/'\n",
    "    response = requests.get(url_img, stream=True)\n",
    "    with open(new_path+str(i)+\".jpg\", 'wb') as out_file:\n",
    "        shutil.copyfileobj(response.raw, out_file)\n",
    "    del response"
   ]
  },
  {
   "cell_type": "markdown",
   "metadata": {},
   "source": [
    "# 6월 여자"
   ]
  },
  {
   "cell_type": "code",
   "execution_count": null,
   "metadata": {},
   "outputs": [],
   "source": [
    "total_link =[]\n",
    "\n",
    "for page_number in range(100):\n",
    "    data = requests.get('https://www.musinsa.com/index.php?m=street&_y=2018&_mon=6&gender=f&p='+str(page_number)+'#listStart')\n",
    "    time.sleep(0.5)\n",
    "    s = bs(data.text,'html')\n",
    "    time.sleep(0.6)\n",
    "    if len([x.a['href'] for x in s.find_all(\"div\",class_='articleImg')]) ==0:\n",
    "        break\n",
    "    else:\n",
    "        total_link +=['https://www.musinsa.com/' +x.a['href'][1:] for x in s.find_all(\"div\",class_='articleImg')] \n",
    "    print(page_number,total_link[-1])"
   ]
  },
  {
   "cell_type": "code",
   "execution_count": null,
   "metadata": {},
   "outputs": [],
   "source": [
    "for i,link in enumerate(total_link):\n",
    "    link = requests.get(link)\n",
    "    soup = bs(link.text,'html')\n",
    "    img_link = soup.find('div',class_='snapImg').img['src']\n",
    "    url_img = 'http:'+img_link\n",
    "    new_path ='./data/2018/06/fem/'\n",
    "    response = requests.get(url_img, stream=True)\n",
    "    with open(new_path+str(i)+\".jpg\", 'wb') as out_file:\n",
    "        shutil.copyfileobj(response.raw, out_file)\n",
    "    del response"
   ]
  },
  {
   "cell_type": "markdown",
   "metadata": {},
   "source": [
    "# 6월 남자"
   ]
  },
  {
   "cell_type": "code",
   "execution_count": null,
   "metadata": {},
   "outputs": [],
   "source": [
    "total_link =[]\n",
    "\n",
    "for page_number in range(100):\n",
    "    data = requests.get('https://www.musinsa.com/index.php?m=street&_y=2018&_mon=6&gender=m&p='+str(page_number)+'#listStart')\n",
    "    time.sleep(0.5)\n",
    "    s = bs(data.text,'html')\n",
    "    time.sleep(0.6)\n",
    "    if len([x.a['href'] for x in s.find_all(\"div\",class_='articleImg')]) ==0:\n",
    "        break\n",
    "    else:\n",
    "        total_link +=['https://www.musinsa.com/' +x.a['href'][1:] for x in s.find_all(\"div\",class_='articleImg')] \n",
    "    print(page_number,total_link[-1])"
   ]
  },
  {
   "cell_type": "code",
   "execution_count": null,
   "metadata": {},
   "outputs": [],
   "source": [
    "for i,link in enumerate(total_link):\n",
    "    link = requests.get(link)\n",
    "    soup = bs(link.text,'html')\n",
    "    img_link = soup.find('div',class_='snapImg').img['src']\n",
    "    url_img = 'http:'+img_link\n",
    "    new_path ='./data/2018/06/male/'\n",
    "    response = requests.get(url_img, stream=True)\n",
    "    with open(new_path+str(i)+\".jpg\", 'wb') as out_file:\n",
    "        shutil.copyfileobj(response.raw, out_file)\n",
    "    del response"
   ]
  },
  {
   "cell_type": "markdown",
   "metadata": {},
   "source": [
    "# 7월 여자"
   ]
  },
  {
   "cell_type": "code",
   "execution_count": null,
   "metadata": {},
   "outputs": [],
   "source": [
    "total_link =[]\n",
    "\n",
    "for page_number in range(100):\n",
    "    data = requests.get('https://www.musinsa.com/index.php?m=street&_y=2018&_mon=7&gender=f&p='+str(page_number)+'#listStart')\n",
    "    time.sleep(0.5)\n",
    "    s = bs(data.text,'html')\n",
    "    time.sleep(0.6)\n",
    "    if len([x.a['href'] for x in s.find_all(\"div\",class_='articleImg')]) ==0:\n",
    "        break\n",
    "    else:\n",
    "        total_link +=['https://www.musinsa.com/' +x.a['href'][1:] for x in s.find_all(\"div\",class_='articleImg')] \n",
    "    print(page_number,total_link[-1])"
   ]
  },
  {
   "cell_type": "code",
   "execution_count": null,
   "metadata": {},
   "outputs": [],
   "source": [
    "for i,link in enumerate(total_link):\n",
    "    link = requests.get(link)\n",
    "    soup = bs(link.text,'html')\n",
    "    img_link = soup.find('div',class_='snapImg').img['src']\n",
    "    url_img = 'http:'+img_link\n",
    "    new_path ='./data/2018/07/fem/'\n",
    "    response = requests.get(url_img, stream=True)\n",
    "    with open(new_path+str(i)+\".jpg\", 'wb') as out_file:\n",
    "        shutil.copyfileobj(response.raw, out_file)\n",
    "    del response"
   ]
  },
  {
   "cell_type": "markdown",
   "metadata": {},
   "source": [
    "# 7월 남자"
   ]
  },
  {
   "cell_type": "code",
   "execution_count": null,
   "metadata": {},
   "outputs": [],
   "source": [
    "total_link =[]\n",
    "\n",
    "for page_number in range(100):\n",
    "    data = requests.get('https://www.musinsa.com/index.php?m=street&_y=2018&_mon=7&gender=m&p='+str(page_number)+'#listStart')\n",
    "    time.sleep(0.5)\n",
    "    s = bs(data.text,'html')\n",
    "    time.sleep(0.6)\n",
    "    if len([x.a['href'] for x in s.find_all(\"div\",class_='articleImg')]) ==0:\n",
    "        break\n",
    "    else:\n",
    "        total_link +=['https://www.musinsa.com/' +x.a['href'][1:] for x in s.find_all(\"div\",class_='articleImg')] \n",
    "    print(page_number,total_link[-1])"
   ]
  },
  {
   "cell_type": "code",
   "execution_count": null,
   "metadata": {},
   "outputs": [],
   "source": [
    "for i,link in enumerate(total_link):\n",
    "    link = requests.get(link)\n",
    "    soup = bs(link.text,'html')\n",
    "    img_link = soup.find('div',class_='snapImg').img['src']\n",
    "    url_img = 'http:'+img_link\n",
    "    new_path ='./data/2018/07/male/'\n",
    "    response = requests.get(url_img, stream=True)\n",
    "    with open(new_path+str(i)+\".jpg\", 'wb') as out_file:\n",
    "        shutil.copyfileobj(response.raw, out_file)\n",
    "    del response"
   ]
  },
  {
   "cell_type": "markdown",
   "metadata": {},
   "source": [
    "# 8월 여자"
   ]
  },
  {
   "cell_type": "code",
   "execution_count": null,
   "metadata": {},
   "outputs": [],
   "source": [
    "total_link =[]\n",
    "\n",
    "for page_number in range(100):\n",
    "    data = requests.get('https://www.musinsa.com/index.php?m=street&_y=2018&_mon=8&gender=f&p='+str(page_number)+'#listStart')\n",
    "    time.sleep(0.5)\n",
    "    s = bs(data.text,'html')\n",
    "    time.sleep(0.6)\n",
    "    if len([x.a['href'] for x in s.find_all(\"div\",class_='articleImg')]) ==0:\n",
    "        break\n",
    "    else:\n",
    "        total_link +=['https://www.musinsa.com/' +x.a['href'][1:] for x in s.find_all(\"div\",class_='articleImg')] \n",
    "    print(page_number,total_link[-1])"
   ]
  },
  {
   "cell_type": "code",
   "execution_count": null,
   "metadata": {},
   "outputs": [],
   "source": [
    "for i,link in enumerate(total_link):\n",
    "    link = requests.get(link)\n",
    "    soup = bs(link.text,'html')\n",
    "    img_link = soup.find('div',class_='snapImg').img['src']\n",
    "    url_img = 'http:'+img_link\n",
    "    new_path ='./data/2018/08/fem/'\n",
    "    response = requests.get(url_img, stream=True)\n",
    "    with open(new_path+str(i)+\".jpg\", 'wb') as out_file:\n",
    "        shutil.copyfileobj(response.raw, out_file)\n",
    "    del response"
   ]
  },
  {
   "cell_type": "markdown",
   "metadata": {},
   "source": [
    "# 8월 남자"
   ]
  },
  {
   "cell_type": "code",
   "execution_count": null,
   "metadata": {},
   "outputs": [],
   "source": [
    "total_link =[]\n",
    "\n",
    "for page_number in range(100):\n",
    "    data = requests.get('https://www.musinsa.com/index.php?m=street&_y=2018&_mon=8&gender=m&p='+str(page_number)+'#listStart')\n",
    "    time.sleep(0.5)\n",
    "    s = bs(data.text,'html')\n",
    "    time.sleep(0.6)\n",
    "    if len([x.a['href'] for x in s.find_all(\"div\",class_='articleImg')]) ==0:\n",
    "        break\n",
    "    else:\n",
    "        total_link +=['https://www.musinsa.com/' +x.a['href'][1:] for x in s.find_all(\"div\",class_='articleImg')] \n",
    "    print(page_number,total_link[-1])"
   ]
  },
  {
   "cell_type": "code",
   "execution_count": null,
   "metadata": {},
   "outputs": [],
   "source": [
    "for i,link in enumerate(total_link):\n",
    "    link = requests.get(link)\n",
    "    soup = bs(link.text,'html')\n",
    "    img_link = soup.find('div',class_='snapImg').img['src']\n",
    "    url_img = 'http:'+img_link\n",
    "    new_path ='./data/2018/08/male/'\n",
    "    response = requests.get(url_img, stream=True)\n",
    "    with open(new_path+str(i)+\".jpg\", 'wb') as out_file:\n",
    "        shutil.copyfileobj(response.raw, out_file)\n",
    "    del response"
   ]
  },
  {
   "cell_type": "markdown",
   "metadata": {},
   "source": [
    "# 9월 여자"
   ]
  },
  {
   "cell_type": "code",
   "execution_count": null,
   "metadata": {},
   "outputs": [],
   "source": [
    "total_link =[]\n",
    "\n",
    "for page_number in range(100):\n",
    "    data = requests.get('https://www.musinsa.com/index.php?m=street&_y=2018&_mon=9&gender=f&p='+str(page_number)+'#listStart')\n",
    "    time.sleep(0.5)\n",
    "    s = bs(data.text,'html')\n",
    "    time.sleep(0.6)\n",
    "    if len([x.a['href'] for x in s.find_all(\"div\",class_='articleImg')]) ==0:\n",
    "        break\n",
    "    else:\n",
    "        total_link +=['https://www.musinsa.com/' +x.a['href'][1:] for x in s.find_all(\"div\",class_='articleImg')] \n",
    "    print(page_number,total_link[-1])"
   ]
  },
  {
   "cell_type": "code",
   "execution_count": null,
   "metadata": {},
   "outputs": [],
   "source": [
    "for i,link in enumerate(total_link):\n",
    "    link = requests.get(link)\n",
    "    soup = bs(link.text,'html')\n",
    "    img_link = soup.find('div',class_='snapImg').img['src']\n",
    "    url_img = 'http:'+img_link\n",
    "    new_path ='./data/2018/09/fem/'\n",
    "    response = requests.get(url_img, stream=True)\n",
    "    with open(new_path+str(i)+\".jpg\", 'wb') as out_file:\n",
    "        shutil.copyfileobj(response.raw, out_file)\n",
    "    del response"
   ]
  },
  {
   "cell_type": "markdown",
   "metadata": {},
   "source": [
    "# 9월 남자"
   ]
  },
  {
   "cell_type": "code",
   "execution_count": null,
   "metadata": {},
   "outputs": [],
   "source": [
    "total_link =[]\n",
    "\n",
    "for page_number in range(100):\n",
    "    data = requests.get('https://www.musinsa.com/index.php?m=street&_y=2018&_mon=9&gender=m&p='+str(page_number)+'#listStart')\n",
    "    time.sleep(0.5)\n",
    "    s = bs(data.text,'html')\n",
    "    time.sleep(0.6)\n",
    "    if len([x.a['href'] for x in s.find_all(\"div\",class_='articleImg')]) ==0:\n",
    "        break\n",
    "    else:\n",
    "        total_link +=['https://www.musinsa.com/' +x.a['href'][1:] for x in s.find_all(\"div\",class_='articleImg')] \n",
    "    print(page_number,total_link[-1])"
   ]
  },
  {
   "cell_type": "code",
   "execution_count": null,
   "metadata": {},
   "outputs": [],
   "source": [
    "for i,link in enumerate(total_link):\n",
    "    link = requests.get(link)\n",
    "    soup = bs(link.text,'html')\n",
    "    img_link = soup.find('div',class_='snapImg').img['src']\n",
    "    url_img = 'http:'+img_link\n",
    "    new_path ='./data/2018/09/male/'\n",
    "    response = requests.get(url_img, stream=True)\n",
    "    with open(new_path+str(i)+\".jpg\", 'wb') as out_file:\n",
    "        shutil.copyfileobj(response.raw, out_file)\n",
    "    del response"
   ]
  },
  {
   "cell_type": "markdown",
   "metadata": {},
   "source": [
    "# 10월 여자"
   ]
  },
  {
   "cell_type": "code",
   "execution_count": null,
   "metadata": {},
   "outputs": [],
   "source": [
    "total_link =[]\n",
    "\n",
    "for page_number in range(100):\n",
    "    data = requests.get('https://www.musinsa.com/index.php?m=street&_y=2018&_mon=10&gender=f&p='+str(page_number)+'#listStart')\n",
    "    time.sleep(0.5)\n",
    "    s = bs(data.text,'html')\n",
    "    time.sleep(0.6)\n",
    "    if len([x.a['href'] for x in s.find_all(\"div\",class_='articleImg')]) ==0:\n",
    "        break\n",
    "    else:\n",
    "        total_link +=['https://www.musinsa.com/' +x.a['href'][1:] for x in s.find_all(\"div\",class_='articleImg')] \n",
    "    print(page_number,total_link[-1])"
   ]
  },
  {
   "cell_type": "code",
   "execution_count": null,
   "metadata": {},
   "outputs": [],
   "source": [
    "for i,link in enumerate(total_link):\n",
    "    link = requests.get(link)\n",
    "    soup = bs(link.text,'html')\n",
    "    img_link = soup.find('div',class_='snapImg').img['src']\n",
    "    url_img = 'http:'+img_link\n",
    "    new_path ='./data/2018/10/fem/'\n",
    "    response = requests.get(url_img, stream=True)\n",
    "    with open(new_path+str(i)+\".jpg\", 'wb') as out_file:\n",
    "        shutil.copyfileobj(response.raw, out_file)\n",
    "    del response"
   ]
  },
  {
   "cell_type": "markdown",
   "metadata": {},
   "source": [
    "# 10월 남자"
   ]
  },
  {
   "cell_type": "code",
   "execution_count": null,
   "metadata": {},
   "outputs": [],
   "source": [
    "total_link =[]\n",
    "\n",
    "for page_number in range(100):\n",
    "    data = requests.get('https://www.musinsa.com/index.php?m=street&_y=2018&_mon=10&gender=m&p='+str(page_number)+'#listStart')\n",
    "    time.sleep(0.5)\n",
    "    s = bs(data.text,'html')\n",
    "    time.sleep(0.6)\n",
    "    if len([x.a['href'] for x in s.find_all(\"div\",class_='articleImg')]) ==0:\n",
    "        break\n",
    "    else:\n",
    "        total_link +=['https://www.musinsa.com/' +x.a['href'][1:] for x in s.find_all(\"div\",class_='articleImg')] \n",
    "    print(page_number,total_link[-1])"
   ]
  },
  {
   "cell_type": "code",
   "execution_count": null,
   "metadata": {},
   "outputs": [],
   "source": [
    "for i,link in enumerate(total_link):\n",
    "    link = requests.get(link)\n",
    "    soup = bs(link.text,'html')\n",
    "    img_link = soup.find('div',class_='snapImg').img['src']\n",
    "    url_img = 'http:'+img_link\n",
    "    new_path ='./data/2018/10/male/'\n",
    "    response = requests.get(url_img, stream=True)\n",
    "    with open(new_path+str(i)+\".jpg\", 'wb') as out_file:\n",
    "        shutil.copyfileobj(response.raw, out_file)\n",
    "    del response"
   ]
  },
  {
   "cell_type": "markdown",
   "metadata": {},
   "source": [
    "# 11월 여자"
   ]
  },
  {
   "cell_type": "code",
   "execution_count": null,
   "metadata": {},
   "outputs": [],
   "source": [
    "total_link =[]\n",
    "\n",
    "for page_number in range(100):\n",
    "    data = requests.get('https://www.musinsa.com/index.php?m=street&_y=2018&_mon=11&gender=f&p='+str(page_number)+'#listStart')\n",
    "    time.sleep(0.5)\n",
    "    s = bs(data.text,'html')\n",
    "    time.sleep(0.6)\n",
    "    if len([x.a['href'] for x in s.find_all(\"div\",class_='articleImg')]) ==0:\n",
    "        break\n",
    "    else:\n",
    "        total_link +=['https://www.musinsa.com/' +x.a['href'][1:] for x in s.find_all(\"div\",class_='articleImg')] \n",
    "    print(page_number,total_link[-1])"
   ]
  },
  {
   "cell_type": "code",
   "execution_count": null,
   "metadata": {},
   "outputs": [],
   "source": [
    "for i,link in enumerate(total_link):\n",
    "    link = requests.get(link)\n",
    "    soup = bs(link.text,'html')\n",
    "    img_link = soup.find('div',class_='snapImg').img['src']\n",
    "    url_img = 'http:'+img_link\n",
    "    new_path ='./data/2018/11/fem/'\n",
    "    response = requests.get(url_img, stream=True)\n",
    "    with open(new_path+str(i)+\".jpg\", 'wb') as out_file:\n",
    "        shutil.copyfileobj(response.raw, out_file)\n",
    "    del response"
   ]
  },
  {
   "cell_type": "markdown",
   "metadata": {},
   "source": [
    "# 11월 남자"
   ]
  },
  {
   "cell_type": "code",
   "execution_count": null,
   "metadata": {},
   "outputs": [],
   "source": [
    "total_link =[]\n",
    "\n",
    "for page_number in range(100):\n",
    "    data = requests.get('https://www.musinsa.com/index.php?m=street&_y=2018&_mon=11&gender=m&p='+str(page_number)+'#listStart')\n",
    "    time.sleep(0.5)\n",
    "    s = bs(data.text,'html')\n",
    "    time.sleep(0.6)\n",
    "    if len([x.a['href'] for x in s.find_all(\"div\",class_='articleImg')]) ==0:\n",
    "        break\n",
    "    else:\n",
    "        total_link +=['https://www.musinsa.com/' +x.a['href'][1:] for x in s.find_all(\"div\",class_='articleImg')] \n",
    "    print(page_number,total_link[-1])"
   ]
  },
  {
   "cell_type": "code",
   "execution_count": null,
   "metadata": {},
   "outputs": [],
   "source": [
    "for i,link in enumerate(total_link):\n",
    "    link = requests.get(link)\n",
    "    soup = bs(link.text,'html')\n",
    "    img_link = soup.find('div',class_='snapImg').img['src']\n",
    "    url_img = 'http:'+img_link\n",
    "    new_path ='./data/2018/11/male/'\n",
    "    response = requests.get(url_img, stream=True)\n",
    "    with open(new_path+str(i)+\".jpg\", 'wb') as out_file:\n",
    "        shutil.copyfileobj(response.raw, out_file)\n",
    "    del response"
   ]
  },
  {
   "cell_type": "markdown",
   "metadata": {},
   "source": [
    "# 12월 여자"
   ]
  },
  {
   "cell_type": "code",
   "execution_count": null,
   "metadata": {},
   "outputs": [],
   "source": [
    "total_link =[]\n",
    "\n",
    "for page_number in range(100):\n",
    "    data = requests.get('https://www.musinsa.com/index.php?m=street&_y=2018&_mon=12&gender=f&p='+str(page_number)+'#listStart')\n",
    "    time.sleep(0.5)\n",
    "    s = bs(data.text,'html')\n",
    "    time.sleep(0.6)\n",
    "    if len([x.a['href'] for x in s.find_all(\"div\",class_='articleImg')]) ==0:\n",
    "        break\n",
    "    else:\n",
    "        total_link +=['https://www.musinsa.com/' +x.a['href'][1:] for x in s.find_all(\"div\",class_='articleImg')] \n",
    "    print(page_number,total_link[-1])"
   ]
  },
  {
   "cell_type": "code",
   "execution_count": null,
   "metadata": {},
   "outputs": [],
   "source": [
    "for i,link in enumerate(total_link):\n",
    "    link = requests.get(link)\n",
    "    soup = bs(link.text,'html')\n",
    "    img_link = soup.find('div',class_='snapImg').img['src']\n",
    "    url_img = 'http:'+img_link\n",
    "    new_path ='./data/2018/12/fem/'\n",
    "    response = requests.get(url_img, stream=True)\n",
    "    with open(new_path+str(i)+\".jpg\", 'wb') as out_file:\n",
    "        shutil.copyfileobj(response.raw, out_file)\n",
    "    del response"
   ]
  },
  {
   "cell_type": "markdown",
   "metadata": {},
   "source": [
    "# 12월 남자"
   ]
  },
  {
   "cell_type": "code",
   "execution_count": null,
   "metadata": {},
   "outputs": [],
   "source": [
    "total_link =[]\n",
    "\n",
    "for page_number in range(100):\n",
    "    data = requests.get('https://www.musinsa.com/index.php?m=street&_y=2018&_mon=12&gender=m&p='+str(page_number)+'#listStart')\n",
    "    time.sleep(0.5)\n",
    "    s = bs(data.text,'html')\n",
    "    time.sleep(0.6)\n",
    "    if len([x.a['href'] for x in s.find_all(\"div\",class_='articleImg')]) ==0:\n",
    "        break\n",
    "    else:\n",
    "        total_link +=['https://www.musinsa.com/' +x.a['href'][1:] for x in s.find_all(\"div\",class_='articleImg')] \n",
    "    print(page_number,total_link[-1])"
   ]
  },
  {
   "cell_type": "code",
   "execution_count": null,
   "metadata": {},
   "outputs": [],
   "source": [
    "for i,link in enumerate(total_link):\n",
    "    link = requests.get(link)\n",
    "    soup = bs(link.text,'html')\n",
    "    img_link = soup.find('div',class_='snapImg').img['src']\n",
    "    url_img = 'http:'+img_link\n",
    "    new_path ='./data/2018/12/male/'\n",
    "    response = requests.get(url_img, stream=True)\n",
    "    with open(new_path+str(i)+\".jpg\", 'wb') as out_file:\n",
    "        shutil.copyfileobj(response.raw, out_file)\n",
    "    del response"
   ]
  },
  {
   "cell_type": "code",
   "execution_count": null,
   "metadata": {},
   "outputs": [],
   "source": []
  }
 ],
 "metadata": {
  "kernelspec": {
   "display_name": "pydatavenv",
   "language": "python",
   "name": "pydatavenv"
  },
  "language_info": {
   "codemirror_mode": {
    "name": "ipython",
    "version": 3
   },
   "file_extension": ".py",
   "mimetype": "text/x-python",
   "name": "python",
   "nbconvert_exporter": "python",
   "pygments_lexer": "ipython3",
   "version": "3.7.9"
  }
 },
 "nbformat": 4,
 "nbformat_minor": 4
}
