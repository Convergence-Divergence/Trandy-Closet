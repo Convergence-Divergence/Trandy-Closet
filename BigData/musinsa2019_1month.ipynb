{
 "cells": [
  {
   "cell_type": "code",
   "execution_count": 2,
   "metadata": {},
   "outputs": [],
   "source": [
    "import requests\n",
    "import datetime\n",
    "import requests\n",
    "from bs4 import BeautifulSoup as bs\n",
    "import numpy as np\n",
    "import time\n",
    "import shutil"
   ]
  },
  {
   "cell_type": "markdown",
   "metadata": {},
   "source": [
    "# 1월 여자"
   ]
  },
  {
   "cell_type": "code",
   "execution_count": 6,
   "metadata": {},
   "outputs": [
    {
     "name": "stdout",
     "output_type": "stream",
     "text": [
      "0 https://www.musinsa.com/index.php?m=street&_y=2019&_mon=1&gender=f&uid=49801\n",
      "1 https://www.musinsa.com/index.php?m=street&_y=2019&_mon=1&gender=f&p=1&uid=49801\n",
      "2 https://www.musinsa.com/index.php?m=street&_y=2019&_mon=1&gender=f&p=2&uid=49669\n",
      "3 https://www.musinsa.com/index.php?m=street&_y=2019&_mon=1&gender=f&p=3&uid=49659\n",
      "4 https://www.musinsa.com/index.php?m=street&_y=2019&_mon=1&gender=f&p=4&uid=49471\n",
      "5 https://www.musinsa.com/index.php?m=street&_y=2019&_mon=1&gender=f&p=5&uid=49658\n"
     ]
    }
   ],
   "source": [
    "total_link =[]\n",
    "\n",
    "for page_number in range(100):\n",
    "    data = requests.get('https://www.musinsa.com/index.php?m=street&_y=2019&_mon=1&gender=f&p='+str(page_number)+'#listStart')\n",
    "    time.sleep(0.5)\n",
    "    s = bs(data.text,'html')\n",
    "    time.sleep(0.6)\n",
    "    if len([x.a['href'] for x in s.find_all(\"div\",class_='articleImg')]) ==0:\n",
    "        break\n",
    "    else:\n",
    "        total_link +=['https://www.musinsa.com/' +x.a['href'][1:] for x in s.find_all(\"div\",class_='articleImg')] \n",
    "    print(page_number,total_link[-1])"
   ]
  },
  {
   "cell_type": "code",
   "execution_count": 7,
   "metadata": {},
   "outputs": [],
   "source": [
    "for i,link in enumerate(total_link):\n",
    "    link = requests.get(link)\n",
    "    soup = bs(link.text,'html')\n",
    "    img_link = soup.find('div',class_='snapImg').img['src']\n",
    "    url_img = 'http:'+img_link\n",
    "    new_path ='./data/2019/01/fem/'\n",
    "    response = requests.get(url_img, stream=True)\n",
    "    with open(new_path+str(i)+\".jpg\", 'wb') as out_file:\n",
    "        shutil.copyfileobj(response.raw, out_file)\n",
    "    del response"
   ]
  },
  {
   "cell_type": "markdown",
   "metadata": {},
   "source": [
    "# 1월 남자"
   ]
  },
  {
   "cell_type": "code",
   "execution_count": 8,
   "metadata": {},
   "outputs": [
    {
     "name": "stdout",
     "output_type": "stream",
     "text": [
      "0 https://www.musinsa.com/index.php?m=street&_y=2019&_mon=1&gender=m&uid=49633\n",
      "1 https://www.musinsa.com/index.php?m=street&_y=2019&_mon=1&gender=m&p=1&uid=49633\n",
      "2 https://www.musinsa.com/index.php?m=street&_y=2019&_mon=1&gender=m&p=2&uid=49707\n",
      "3 https://www.musinsa.com/index.php?m=street&_y=2019&_mon=1&gender=m&p=3&uid=49439\n",
      "4 https://www.musinsa.com/index.php?m=street&_y=2019&_mon=1&gender=m&p=4&uid=49717\n",
      "5 https://www.musinsa.com/index.php?m=street&_y=2019&_mon=1&gender=m&p=5&uid=49657\n"
     ]
    }
   ],
   "source": [
    "total_link =[]\n",
    "\n",
    "for page_number in range(100):\n",
    "    data = requests.get('https://www.musinsa.com/index.php?m=street&_y=2019&_mon=1&gender=m&p='+str(page_number)+'#listStart')\n",
    "    time.sleep(0.5)\n",
    "    s = bs(data.text,'html')\n",
    "    time.sleep(0.6)\n",
    "    if len([x.a['href'] for x in s.find_all(\"div\",class_='articleImg')]) ==0:\n",
    "        break\n",
    "    else:\n",
    "        total_link +=['https://www.musinsa.com/' +x.a['href'][1:] for x in s.find_all(\"div\",class_='articleImg')] \n",
    "    print(page_number,total_link[-1])"
   ]
  },
  {
   "cell_type": "code",
   "execution_count": 9,
   "metadata": {},
   "outputs": [],
   "source": [
    "for i,link in enumerate(total_link):\n",
    "    link = requests.get(link)\n",
    "    soup = bs(link.text,'html')\n",
    "    img_link = soup.find('div',class_='snapImg').img['src']\n",
    "    url_img = 'http:'+img_link\n",
    "    new_path ='./data/2019/01/male/'\n",
    "    response = requests.get(url_img, stream=True)\n",
    "    with open(new_path+str(i)+\".jpg\", 'wb') as out_file:\n",
    "        shutil.copyfileobj(response.raw, out_file)\n",
    "    del response"
   ]
  },
  {
   "cell_type": "markdown",
   "metadata": {},
   "source": [
    "# 2월 여자"
   ]
  },
  {
   "cell_type": "code",
   "execution_count": 10,
   "metadata": {},
   "outputs": [
    {
     "name": "stdout",
     "output_type": "stream",
     "text": [
      "0 https://www.musinsa.com/index.php?m=street&_y=2019&_mon=2&gender=f&uid=50475\n",
      "1 https://www.musinsa.com/index.php?m=street&_y=2019&_mon=2&gender=f&p=1&uid=50475\n",
      "2 https://www.musinsa.com/index.php?m=street&_y=2019&_mon=2&gender=f&p=2&uid=50090\n",
      "3 https://www.musinsa.com/index.php?m=street&_y=2019&_mon=2&gender=f&p=3&uid=49932\n",
      "4 https://www.musinsa.com/index.php?m=street&_y=2019&_mon=2&gender=f&p=4&uid=49850\n"
     ]
    }
   ],
   "source": [
    "total_link =[]\n",
    "\n",
    "for page_number in range(100):\n",
    "    data = requests.get('https://www.musinsa.com/index.php?m=street&_y=2019&_mon=2&gender=f&p='+str(page_number)+'#listStart')\n",
    "    time.sleep(0.5)\n",
    "    s = bs(data.text,'html')\n",
    "    time.sleep(0.6)\n",
    "    if len([x.a['href'] for x in s.find_all(\"div\",class_='articleImg')]) ==0:\n",
    "        break\n",
    "    else:\n",
    "        total_link +=['https://www.musinsa.com/' +x.a['href'][1:] for x in s.find_all(\"div\",class_='articleImg')] \n",
    "    print(page_number,total_link[-1])"
   ]
  },
  {
   "cell_type": "code",
   "execution_count": 11,
   "metadata": {},
   "outputs": [],
   "source": [
    "for i,link in enumerate(total_link):\n",
    "    link = requests.get(link)\n",
    "    soup = bs(link.text,'html')\n",
    "    img_link = soup.find('div',class_='snapImg').img['src']\n",
    "    url_img = 'http:'+img_link\n",
    "    new_path ='./data/2019/02/fem/'\n",
    "    response = requests.get(url_img, stream=True)\n",
    "    with open(new_path+str(i)+\".jpg\", 'wb') as out_file:\n",
    "        shutil.copyfileobj(response.raw, out_file)\n",
    "    del response"
   ]
  },
  {
   "cell_type": "markdown",
   "metadata": {},
   "source": [
    "# 2월 남자"
   ]
  },
  {
   "cell_type": "code",
   "execution_count": 12,
   "metadata": {},
   "outputs": [
    {
     "name": "stdout",
     "output_type": "stream",
     "text": [
      "0 https://www.musinsa.com/index.php?m=street&_y=2019&_mon=2&gender=m&uid=50181\n",
      "1 https://www.musinsa.com/index.php?m=street&_y=2019&_mon=2&gender=m&p=1&uid=50181\n",
      "2 https://www.musinsa.com/index.php?m=street&_y=2019&_mon=2&gender=m&p=2&uid=50023\n",
      "3 https://www.musinsa.com/index.php?m=street&_y=2019&_mon=2&gender=m&p=3&uid=50019\n",
      "4 https://www.musinsa.com/index.php?m=street&_y=2019&_mon=2&gender=m&p=4&uid=50246\n"
     ]
    }
   ],
   "source": [
    "total_link =[]\n",
    "\n",
    "for page_number in range(100):\n",
    "    data = requests.get('https://www.musinsa.com/index.php?m=street&_y=2019&_mon=2&gender=m&p='+str(page_number)+'#listStart')\n",
    "    time.sleep(0.5)\n",
    "    s = bs(data.text,'html')\n",
    "    time.sleep(0.6)\n",
    "    if len([x.a['href'] for x in s.find_all(\"div\",class_='articleImg')]) ==0:\n",
    "        break\n",
    "    else:\n",
    "        total_link +=['https://www.musinsa.com/' +x.a['href'][1:] for x in s.find_all(\"div\",class_='articleImg')] \n",
    "    print(page_number,total_link[-1])"
   ]
  },
  {
   "cell_type": "code",
   "execution_count": 13,
   "metadata": {},
   "outputs": [],
   "source": [
    "for i,link in enumerate(total_link):\n",
    "    link = requests.get(link)\n",
    "    soup = bs(link.text,'html')\n",
    "    img_link = soup.find('div',class_='snapImg').img['src']\n",
    "    url_img = 'http:'+img_link\n",
    "    new_path ='./data/2019/02/male/'\n",
    "    response = requests.get(url_img, stream=True)\n",
    "    with open(new_path+str(i)+\".jpg\", 'wb') as out_file:\n",
    "        shutil.copyfileobj(response.raw, out_file)\n",
    "    del response"
   ]
  },
  {
   "cell_type": "markdown",
   "metadata": {},
   "source": [
    "# 3월 여자"
   ]
  },
  {
   "cell_type": "code",
   "execution_count": 14,
   "metadata": {},
   "outputs": [
    {
     "name": "stdout",
     "output_type": "stream",
     "text": [
      "0 https://www.musinsa.com/index.php?m=street&_y=2019&_mon=3&gender=f&uid=50731\n",
      "1 https://www.musinsa.com/index.php?m=street&_y=2019&_mon=3&gender=f&p=1&uid=50731\n",
      "2 https://www.musinsa.com/index.php?m=street&_y=2019&_mon=3&gender=f&p=2&uid=50720\n",
      "3 https://www.musinsa.com/index.php?m=street&_y=2019&_mon=3&gender=f&p=3&uid=50743\n",
      "4 https://www.musinsa.com/index.php?m=street&_y=2019&_mon=3&gender=f&p=4&uid=50972\n",
      "5 https://www.musinsa.com/index.php?m=street&_y=2019&_mon=3&gender=f&p=5&uid=50849\n",
      "6 https://www.musinsa.com/index.php?m=street&_y=2019&_mon=3&gender=f&p=6&uid=51258\n",
      "7 https://www.musinsa.com/index.php?m=street&_y=2019&_mon=3&gender=f&p=7&uid=50984\n",
      "8 https://www.musinsa.com/index.php?m=street&_y=2019&_mon=3&gender=f&p=8&uid=51155\n"
     ]
    }
   ],
   "source": [
    "total_link =[]\n",
    "\n",
    "for page_number in range(100):\n",
    "    data = requests.get('https://www.musinsa.com/index.php?m=street&_y=2019&_mon=3&gender=f&p='+str(page_number)+'#listStart')\n",
    "    time.sleep(0.5)\n",
    "    s = bs(data.text,'html')\n",
    "    time.sleep(0.6)\n",
    "    if len([x.a['href'] for x in s.find_all(\"div\",class_='articleImg')]) ==0:\n",
    "        break\n",
    "    else:\n",
    "        total_link +=['https://www.musinsa.com/' +x.a['href'][1:] for x in s.find_all(\"div\",class_='articleImg')] \n",
    "    print(page_number,total_link[-1])"
   ]
  },
  {
   "cell_type": "code",
   "execution_count": 15,
   "metadata": {},
   "outputs": [],
   "source": [
    "for i,link in enumerate(total_link):\n",
    "    link = requests.get(link)\n",
    "    soup = bs(link.text,'html')\n",
    "    img_link = soup.find('div',class_='snapImg').img['src']\n",
    "    url_img = 'http:'+img_link\n",
    "    new_path ='./data/2019/03/fem/'\n",
    "    response = requests.get(url_img, stream=True)\n",
    "    with open(new_path+str(i)+\".jpg\", 'wb') as out_file:\n",
    "        shutil.copyfileobj(response.raw, out_file)\n",
    "    del response"
   ]
  },
  {
   "cell_type": "markdown",
   "metadata": {},
   "source": [
    "# 3월 남자"
   ]
  },
  {
   "cell_type": "code",
   "execution_count": 16,
   "metadata": {},
   "outputs": [
    {
     "name": "stdout",
     "output_type": "stream",
     "text": [
      "0 https://www.musinsa.com/index.php?m=street&_y=2019&_mon=3&gender=m&uid=51478\n",
      "1 https://www.musinsa.com/index.php?m=street&_y=2019&_mon=3&gender=m&p=1&uid=51478\n",
      "2 https://www.musinsa.com/index.php?m=street&_y=2019&_mon=3&gender=m&p=2&uid=50271\n",
      "3 https://www.musinsa.com/index.php?m=street&_y=2019&_mon=3&gender=m&p=3&uid=51091\n",
      "4 https://www.musinsa.com/index.php?m=street&_y=2019&_mon=3&gender=m&p=4&uid=51459\n",
      "5 https://www.musinsa.com/index.php?m=street&_y=2019&_mon=3&gender=m&p=5&uid=51122\n"
     ]
    }
   ],
   "source": [
    "total_link =[]\n",
    "\n",
    "for page_number in range(100):\n",
    "    data = requests.get('https://www.musinsa.com/index.php?m=street&_y=2019&_mon=3&gender=m&p='+str(page_number)+'#listStart')\n",
    "    time.sleep(0.5)\n",
    "    s = bs(data.text,'html')\n",
    "    time.sleep(0.6)\n",
    "    if len([x.a['href'] for x in s.find_all(\"div\",class_='articleImg')]) ==0:\n",
    "        break\n",
    "    else:\n",
    "        total_link +=['https://www.musinsa.com/' +x.a['href'][1:] for x in s.find_all(\"div\",class_='articleImg')] \n",
    "    print(page_number,total_link[-1])"
   ]
  },
  {
   "cell_type": "code",
   "execution_count": 17,
   "metadata": {},
   "outputs": [],
   "source": [
    "for i,link in enumerate(total_link):\n",
    "    link = requests.get(link)\n",
    "    soup = bs(link.text,'html')\n",
    "    img_link = soup.find('div',class_='snapImg').img['src']\n",
    "    url_img = 'http:'+img_link\n",
    "    new_path ='./data/2019/03/male/'\n",
    "    response = requests.get(url_img, stream=True)\n",
    "    with open(new_path+str(i)+\".jpg\", 'wb') as out_file:\n",
    "        shutil.copyfileobj(response.raw, out_file)\n",
    "    del response"
   ]
  },
  {
   "cell_type": "markdown",
   "metadata": {},
   "source": [
    "# 4월 여자"
   ]
  },
  {
   "cell_type": "code",
   "execution_count": 20,
   "metadata": {},
   "outputs": [
    {
     "name": "stdout",
     "output_type": "stream",
     "text": [
      "0 https://www.musinsa.com/index.php?m=street&_y=2019&_mon=4&gender=f&uid=51865\n",
      "1 https://www.musinsa.com/index.php?m=street&_y=2019&_mon=4&gender=f&p=1&uid=51865\n",
      "2 https://www.musinsa.com/index.php?m=street&_y=2019&_mon=4&gender=f&p=2&uid=51807\n",
      "3 https://www.musinsa.com/index.php?m=street&_y=2019&_mon=4&gender=f&p=3&uid=51840\n",
      "4 https://www.musinsa.com/index.php?m=street&_y=2019&_mon=4&gender=f&p=4&uid=51489\n",
      "5 https://www.musinsa.com/index.php?m=street&_y=2019&_mon=4&gender=f&p=5&uid=50886\n",
      "6 https://www.musinsa.com/index.php?m=street&_y=2019&_mon=4&gender=f&p=6&uid=51921\n"
     ]
    }
   ],
   "source": [
    "total_link =[]\n",
    "\n",
    "for page_number in range(100):\n",
    "    data = requests.get('https://www.musinsa.com/index.php?m=street&_y=2019&_mon=4&gender=f&p='+str(page_number)+'#listStart')\n",
    "    time.sleep(0.5)\n",
    "    s = bs(data.text,'html')\n",
    "    time.sleep(0.6)\n",
    "    if len([x.a['href'] for x in s.find_all(\"div\",class_='articleImg')]) ==0:\n",
    "        break\n",
    "    else:\n",
    "        total_link +=['https://www.musinsa.com/' +x.a['href'][1:] for x in s.find_all(\"div\",class_='articleImg')] \n",
    "    print(page_number,total_link[-1])"
   ]
  },
  {
   "cell_type": "code",
   "execution_count": 21,
   "metadata": {},
   "outputs": [],
   "source": [
    "for i,link in enumerate(total_link):\n",
    "    link = requests.get(link)\n",
    "    soup = bs(link.text,'html')\n",
    "    img_link = soup.find('div',class_='snapImg').img['src']\n",
    "    url_img = 'http:'+img_link\n",
    "    new_path ='./data/2019/04/fem/'\n",
    "    response = requests.get(url_img, stream=True)\n",
    "    with open(new_path+str(i)+\".jpg\", 'wb') as out_file:\n",
    "        shutil.copyfileobj(response.raw, out_file)\n",
    "    del response"
   ]
  },
  {
   "cell_type": "markdown",
   "metadata": {},
   "source": [
    "# 4월 남자"
   ]
  },
  {
   "cell_type": "code",
   "execution_count": 22,
   "metadata": {},
   "outputs": [
    {
     "name": "stdout",
     "output_type": "stream",
     "text": [
      "0 https://www.musinsa.com/index.php?m=street&_y=2019&_mon=4&gender=m&uid=51639\n",
      "1 https://www.musinsa.com/index.php?m=street&_y=2019&_mon=4&gender=m&p=1&uid=51639\n",
      "2 https://www.musinsa.com/index.php?m=street&_y=2019&_mon=4&gender=m&p=2&uid=51905\n",
      "3 https://www.musinsa.com/index.php?m=street&_y=2019&_mon=4&gender=m&p=3&uid=50883\n",
      "4 https://www.musinsa.com/index.php?m=street&_y=2019&_mon=4&gender=m&p=4&uid=51792\n",
      "5 https://www.musinsa.com/index.php?m=street&_y=2019&_mon=4&gender=m&p=5&uid=50900\n"
     ]
    }
   ],
   "source": [
    "total_link =[]\n",
    "\n",
    "for page_number in range(100):\n",
    "    data = requests.get('https://www.musinsa.com/index.php?m=street&_y=2019&_mon=4&gender=m&p='+str(page_number)+'#listStart')\n",
    "    time.sleep(0.5)\n",
    "    s = bs(data.text,'html')\n",
    "    time.sleep(0.6)\n",
    "    if len([x.a['href'] for x in s.find_all(\"div\",class_='articleImg')]) ==0:\n",
    "        break\n",
    "    else:\n",
    "        total_link +=['https://www.musinsa.com/' +x.a['href'][1:] for x in s.find_all(\"div\",class_='articleImg')] \n",
    "    print(page_number,total_link[-1])"
   ]
  },
  {
   "cell_type": "code",
   "execution_count": 23,
   "metadata": {},
   "outputs": [],
   "source": [
    "for i,link in enumerate(total_link):\n",
    "    link = requests.get(link)\n",
    "    soup = bs(link.text,'html')\n",
    "    img_link = soup.find('div',class_='snapImg').img['src']\n",
    "    url_img = 'http:'+img_link\n",
    "    new_path ='./data/2019/04/male/'\n",
    "    response = requests.get(url_img, stream=True)\n",
    "    with open(new_path+str(i)+\".jpg\", 'wb') as out_file:\n",
    "        shutil.copyfileobj(response.raw, out_file)\n",
    "    del response"
   ]
  },
  {
   "cell_type": "markdown",
   "metadata": {},
   "source": [
    "# 5월 여자"
   ]
  },
  {
   "cell_type": "code",
   "execution_count": 24,
   "metadata": {},
   "outputs": [
    {
     "name": "stdout",
     "output_type": "stream",
     "text": [
      "0 https://www.musinsa.com/index.php?m=street&_y=2019&_mon=5&gender=f&uid=52407\n",
      "1 https://www.musinsa.com/index.php?m=street&_y=2019&_mon=5&gender=f&p=1&uid=52407\n",
      "2 https://www.musinsa.com/index.php?m=street&_y=2019&_mon=5&gender=f&p=2&uid=52377\n",
      "3 https://www.musinsa.com/index.php?m=street&_y=2019&_mon=5&gender=f&p=3&uid=52485\n",
      "4 https://www.musinsa.com/index.php?m=street&_y=2019&_mon=5&gender=f&p=4&uid=52503\n",
      "5 https://www.musinsa.com/index.php?m=street&_y=2019&_mon=5&gender=f&p=5&uid=52627\n",
      "6 https://www.musinsa.com/index.php?m=street&_y=2019&_mon=5&gender=f&p=6&uid=52724\n",
      "7 https://www.musinsa.com/index.php?m=street&_y=2019&_mon=5&gender=f&p=7&uid=52386\n"
     ]
    }
   ],
   "source": [
    "total_link =[]\n",
    "\n",
    "for page_number in range(100):\n",
    "    data = requests.get('https://www.musinsa.com/index.php?m=street&_y=2019&_mon=5&gender=f&p='+str(page_number)+'#listStart')\n",
    "    time.sleep(0.5)\n",
    "    s = bs(data.text,'html')\n",
    "    time.sleep(0.6)\n",
    "    if len([x.a['href'] for x in s.find_all(\"div\",class_='articleImg')]) ==0:\n",
    "        break\n",
    "    else:\n",
    "        total_link +=['https://www.musinsa.com/' +x.a['href'][1:] for x in s.find_all(\"div\",class_='articleImg')] \n",
    "    print(page_number,total_link[-1])"
   ]
  },
  {
   "cell_type": "code",
   "execution_count": 25,
   "metadata": {},
   "outputs": [],
   "source": [
    "for i,link in enumerate(total_link):\n",
    "    link = requests.get(link)\n",
    "    soup = bs(link.text,'html')\n",
    "    img_link = soup.find('div',class_='snapImg').img['src']\n",
    "    url_img = 'http:'+img_link\n",
    "    new_path ='./data/2019/05/fem/'\n",
    "    response = requests.get(url_img, stream=True)\n",
    "    with open(new_path+str(i)+\".jpg\", 'wb') as out_file:\n",
    "        shutil.copyfileobj(response.raw, out_file)\n",
    "    del response"
   ]
  },
  {
   "cell_type": "markdown",
   "metadata": {},
   "source": [
    "# 5월 남자"
   ]
  },
  {
   "cell_type": "code",
   "execution_count": 26,
   "metadata": {},
   "outputs": [
    {
     "name": "stdout",
     "output_type": "stream",
     "text": [
      "0 https://www.musinsa.com/index.php?m=street&_y=2019&_mon=5&gender=m&uid=52649\n",
      "1 https://www.musinsa.com/index.php?m=street&_y=2019&_mon=5&gender=m&p=1&uid=52649\n",
      "2 https://www.musinsa.com/index.php?m=street&_y=2019&_mon=5&gender=m&p=2&uid=52495\n",
      "3 https://www.musinsa.com/index.php?m=street&_y=2019&_mon=5&gender=m&p=3&uid=52758\n",
      "4 https://www.musinsa.com/index.php?m=street&_y=2019&_mon=5&gender=m&p=4&uid=52242\n"
     ]
    }
   ],
   "source": [
    "total_link =[]\n",
    "\n",
    "for page_number in range(100):\n",
    "    data = requests.get('https://www.musinsa.com/index.php?m=street&_y=2019&_mon=5&gender=m&p='+str(page_number)+'#listStart')\n",
    "    time.sleep(0.5)\n",
    "    s = bs(data.text,'html')\n",
    "    time.sleep(0.6)\n",
    "    if len([x.a['href'] for x in s.find_all(\"div\",class_='articleImg')]) ==0:\n",
    "        break\n",
    "    else:\n",
    "        total_link +=['https://www.musinsa.com/' +x.a['href'][1:] for x in s.find_all(\"div\",class_='articleImg')] \n",
    "    print(page_number,total_link[-1])"
   ]
  },
  {
   "cell_type": "code",
   "execution_count": 27,
   "metadata": {},
   "outputs": [],
   "source": [
    "for i,link in enumerate(total_link):\n",
    "    link = requests.get(link)\n",
    "    soup = bs(link.text,'html')\n",
    "    img_link = soup.find('div',class_='snapImg').img['src']\n",
    "    url_img = 'http:'+img_link\n",
    "    new_path ='./data/2019/05/male/'\n",
    "    response = requests.get(url_img, stream=True)\n",
    "    with open(new_path+str(i)+\".jpg\", 'wb') as out_file:\n",
    "        shutil.copyfileobj(response.raw, out_file)\n",
    "    del response"
   ]
  },
  {
   "cell_type": "markdown",
   "metadata": {},
   "source": [
    "# 6월 여자"
   ]
  },
  {
   "cell_type": "code",
   "execution_count": 28,
   "metadata": {},
   "outputs": [
    {
     "name": "stdout",
     "output_type": "stream",
     "text": [
      "0 https://www.musinsa.com/index.php?m=street&_y=2019&_mon=6&gender=f&uid=53058\n",
      "1 https://www.musinsa.com/index.php?m=street&_y=2019&_mon=6&gender=f&p=1&uid=53058\n",
      "2 https://www.musinsa.com/index.php?m=street&_y=2019&_mon=6&gender=f&p=2&uid=52875\n",
      "3 https://www.musinsa.com/index.php?m=street&_y=2019&_mon=6&gender=f&p=3&uid=53125\n",
      "4 https://www.musinsa.com/index.php?m=street&_y=2019&_mon=6&gender=f&p=4&uid=53272\n",
      "5 https://www.musinsa.com/index.php?m=street&_y=2019&_mon=6&gender=f&p=5&uid=53006\n",
      "6 https://www.musinsa.com/index.php?m=street&_y=2019&_mon=6&gender=f&p=6&uid=52978\n"
     ]
    }
   ],
   "source": [
    "total_link =[]\n",
    "\n",
    "for page_number in range(100):\n",
    "    data = requests.get('https://www.musinsa.com/index.php?m=street&_y=2019&_mon=6&gender=f&p='+str(page_number)+'#listStart')\n",
    "    time.sleep(0.5)\n",
    "    s = bs(data.text,'html')\n",
    "    time.sleep(0.6)\n",
    "    if len([x.a['href'] for x in s.find_all(\"div\",class_='articleImg')]) ==0:\n",
    "        break\n",
    "    else:\n",
    "        total_link +=['https://www.musinsa.com/' +x.a['href'][1:] for x in s.find_all(\"div\",class_='articleImg')] \n",
    "    print(page_number,total_link[-1])"
   ]
  },
  {
   "cell_type": "code",
   "execution_count": 29,
   "metadata": {},
   "outputs": [],
   "source": [
    "for i,link in enumerate(total_link):\n",
    "    link = requests.get(link)\n",
    "    soup = bs(link.text,'html')\n",
    "    img_link = soup.find('div',class_='snapImg').img['src']\n",
    "    url_img = 'http:'+img_link\n",
    "    new_path ='./data/2019/06/fem/'\n",
    "    response = requests.get(url_img, stream=True)\n",
    "    with open(new_path+str(i)+\".jpg\", 'wb') as out_file:\n",
    "        shutil.copyfileobj(response.raw, out_file)\n",
    "    del response"
   ]
  },
  {
   "cell_type": "markdown",
   "metadata": {},
   "source": [
    "# 6월 남자"
   ]
  },
  {
   "cell_type": "code",
   "execution_count": 30,
   "metadata": {},
   "outputs": [
    {
     "name": "stdout",
     "output_type": "stream",
     "text": [
      "0 https://www.musinsa.com/index.php?m=street&_y=2019&_mon=6&gender=m&uid=53216\n",
      "1 https://www.musinsa.com/index.php?m=street&_y=2019&_mon=6&gender=m&p=1&uid=53216\n",
      "2 https://www.musinsa.com/index.php?m=street&_y=2019&_mon=6&gender=m&p=2&uid=53140\n",
      "3 https://www.musinsa.com/index.php?m=street&_y=2019&_mon=6&gender=m&p=3&uid=53171\n",
      "4 https://www.musinsa.com/index.php?m=street&_y=2019&_mon=6&gender=m&p=4&uid=52864\n"
     ]
    }
   ],
   "source": [
    "total_link =[]\n",
    "\n",
    "for page_number in range(100):\n",
    "    data = requests.get('https://www.musinsa.com/index.php?m=street&_y=2019&_mon=6&gender=m&p='+str(page_number)+'#listStart')\n",
    "    time.sleep(0.5)\n",
    "    s = bs(data.text,'html')\n",
    "    time.sleep(0.6)\n",
    "    if len([x.a['href'] for x in s.find_all(\"div\",class_='articleImg')]) ==0:\n",
    "        break\n",
    "    else:\n",
    "        total_link +=['https://www.musinsa.com/' +x.a['href'][1:] for x in s.find_all(\"div\",class_='articleImg')] \n",
    "    print(page_number,total_link[-1])"
   ]
  },
  {
   "cell_type": "code",
   "execution_count": 31,
   "metadata": {},
   "outputs": [],
   "source": [
    "for i,link in enumerate(total_link):\n",
    "    link = requests.get(link)\n",
    "    soup = bs(link.text,'html')\n",
    "    img_link = soup.find('div',class_='snapImg').img['src']\n",
    "    url_img = 'http:'+img_link\n",
    "    new_path ='./data/2019/06/male/'\n",
    "    response = requests.get(url_img, stream=True)\n",
    "    with open(new_path+str(i)+\".jpg\", 'wb') as out_file:\n",
    "        shutil.copyfileobj(response.raw, out_file)\n",
    "    del response"
   ]
  },
  {
   "cell_type": "markdown",
   "metadata": {},
   "source": [
    "# 7월 여자"
   ]
  },
  {
   "cell_type": "code",
   "execution_count": 32,
   "metadata": {},
   "outputs": [
    {
     "name": "stdout",
     "output_type": "stream",
     "text": [
      "0 https://www.musinsa.com/index.php?m=street&_y=2019&_mon=7&gender=f&uid=54002\n",
      "1 https://www.musinsa.com/index.php?m=street&_y=2019&_mon=7&gender=f&p=1&uid=54002\n",
      "2 https://www.musinsa.com/index.php?m=street&_y=2019&_mon=7&gender=f&p=2&uid=53801\n",
      "3 https://www.musinsa.com/index.php?m=street&_y=2019&_mon=7&gender=f&p=3&uid=54107\n",
      "4 https://www.musinsa.com/index.php?m=street&_y=2019&_mon=7&gender=f&p=4&uid=53487\n",
      "5 https://www.musinsa.com/index.php?m=street&_y=2019&_mon=7&gender=f&p=5&uid=53989\n",
      "6 https://www.musinsa.com/index.php?m=street&_y=2019&_mon=7&gender=f&p=6&uid=53470\n"
     ]
    }
   ],
   "source": [
    "total_link =[]\n",
    "\n",
    "for page_number in range(100):\n",
    "    data = requests.get('https://www.musinsa.com/index.php?m=street&_y=2019&_mon=7&gender=f&p='+str(page_number)+'#listStart')\n",
    "    time.sleep(0.5)\n",
    "    s = bs(data.text,'html')\n",
    "    time.sleep(0.6)\n",
    "    if len([x.a['href'] for x in s.find_all(\"div\",class_='articleImg')]) ==0:\n",
    "        break\n",
    "    else:\n",
    "        total_link +=['https://www.musinsa.com/' +x.a['href'][1:] for x in s.find_all(\"div\",class_='articleImg')] \n",
    "    print(page_number,total_link[-1])"
   ]
  },
  {
   "cell_type": "code",
   "execution_count": 33,
   "metadata": {},
   "outputs": [],
   "source": [
    "for i,link in enumerate(total_link):\n",
    "    link = requests.get(link)\n",
    "    soup = bs(link.text,'html')\n",
    "    img_link = soup.find('div',class_='snapImg').img['src']\n",
    "    url_img = 'http:'+img_link\n",
    "    new_path ='./data/2019/07/fem/'\n",
    "    response = requests.get(url_img, stream=True)\n",
    "    with open(new_path+str(i)+\".jpg\", 'wb') as out_file:\n",
    "        shutil.copyfileobj(response.raw, out_file)\n",
    "    del response"
   ]
  },
  {
   "cell_type": "markdown",
   "metadata": {},
   "source": [
    "# 7월 남자"
   ]
  },
  {
   "cell_type": "code",
   "execution_count": 34,
   "metadata": {},
   "outputs": [
    {
     "name": "stdout",
     "output_type": "stream",
     "text": [
      "0 https://www.musinsa.com/index.php?m=street&_y=2019&_mon=7&gender=m&uid=53865\n",
      "1 https://www.musinsa.com/index.php?m=street&_y=2019&_mon=7&gender=m&p=1&uid=53865\n",
      "2 https://www.musinsa.com/index.php?m=street&_y=2019&_mon=7&gender=m&p=2&uid=53789\n",
      "3 https://www.musinsa.com/index.php?m=street&_y=2019&_mon=7&gender=m&p=3&uid=53564\n",
      "4 https://www.musinsa.com/index.php?m=street&_y=2019&_mon=7&gender=m&p=4&uid=53842\n",
      "5 https://www.musinsa.com/index.php?m=street&_y=2019&_mon=7&gender=m&p=5&uid=53698\n"
     ]
    }
   ],
   "source": [
    "total_link =[]\n",
    "\n",
    "for page_number in range(100):\n",
    "    data = requests.get('https://www.musinsa.com/index.php?m=street&_y=2019&_mon=7&gender=m&p='+str(page_number)+'#listStart')\n",
    "    time.sleep(0.5)\n",
    "    s = bs(data.text,'html')\n",
    "    time.sleep(0.6)\n",
    "    if len([x.a['href'] for x in s.find_all(\"div\",class_='articleImg')]) ==0:\n",
    "        break\n",
    "    else:\n",
    "        total_link +=['https://www.musinsa.com/' +x.a['href'][1:] for x in s.find_all(\"div\",class_='articleImg')] \n",
    "    print(page_number,total_link[-1])"
   ]
  },
  {
   "cell_type": "code",
   "execution_count": 35,
   "metadata": {},
   "outputs": [],
   "source": [
    "for i,link in enumerate(total_link):\n",
    "    link = requests.get(link)\n",
    "    soup = bs(link.text,'html')\n",
    "    img_link = soup.find('div',class_='snapImg').img['src']\n",
    "    url_img = 'http:'+img_link\n",
    "    new_path ='./data/2019/07/male/'\n",
    "    response = requests.get(url_img, stream=True)\n",
    "    with open(new_path+str(i)+\".jpg\", 'wb') as out_file:\n",
    "        shutil.copyfileobj(response.raw, out_file)\n",
    "    del response"
   ]
  },
  {
   "cell_type": "markdown",
   "metadata": {},
   "source": [
    "# 8월 여자"
   ]
  },
  {
   "cell_type": "code",
   "execution_count": 56,
   "metadata": {},
   "outputs": [
    {
     "name": "stdout",
     "output_type": "stream",
     "text": [
      "0 https://www.musinsa.com/index.php?m=street&_y=2019&_mon=8&gender=f&uid=54232\n",
      "1 https://www.musinsa.com/index.php?m=street&_y=2019&_mon=8&gender=f&p=1&uid=54232\n",
      "2 https://www.musinsa.com/index.php?m=street&_y=2019&_mon=8&gender=f&p=2&uid=54300\n",
      "3 https://www.musinsa.com/index.php?m=street&_y=2019&_mon=8&gender=f&p=3&uid=54115\n",
      "4 https://www.musinsa.com/index.php?m=street&_y=2019&_mon=8&gender=f&p=4&uid=54407\n",
      "5 https://www.musinsa.com/index.php?m=street&_y=2019&_mon=8&gender=f&p=5&uid=54230\n",
      "6 https://www.musinsa.com/index.php?m=street&_y=2019&_mon=8&gender=f&p=6&uid=54576\n"
     ]
    }
   ],
   "source": [
    "total_link =[]\n",
    "\n",
    "for page_number in range(100):\n",
    "    data = requests.get('https://www.musinsa.com/index.php?m=street&_y=2019&_mon=8&gender=f&p='+str(page_number)+'#listStart')\n",
    "    time.sleep(0.5)\n",
    "    s = bs(data.text,'html')\n",
    "    time.sleep(0.6)\n",
    "    if len([x.a['href'] for x in s.find_all(\"div\",class_='articleImg')]) ==0:\n",
    "        break\n",
    "    else:\n",
    "        total_link +=['https://www.musinsa.com/' +x.a['href'][1:] for x in s.find_all(\"div\",class_='articleImg')] \n",
    "    print(page_number,total_link[-1])"
   ]
  },
  {
   "cell_type": "code",
   "execution_count": 57,
   "metadata": {},
   "outputs": [],
   "source": [
    "for i,link in enumerate(total_link):\n",
    "    link = requests.get(link)\n",
    "    soup = bs(link.text,'html')\n",
    "    img_link = soup.find('div',class_='snapImg').img['src']\n",
    "    url_img = 'http:'+img_link\n",
    "    new_path ='./data/2019/08/fem/'\n",
    "    response = requests.get(url_img, stream=True)\n",
    "    with open(new_path+str(i)+\".jpg\", 'wb') as out_file:\n",
    "        shutil.copyfileobj(response.raw, out_file)\n",
    "    del response"
   ]
  },
  {
   "cell_type": "markdown",
   "metadata": {},
   "source": [
    "# 8월 남자"
   ]
  },
  {
   "cell_type": "code",
   "execution_count": 58,
   "metadata": {},
   "outputs": [
    {
     "name": "stdout",
     "output_type": "stream",
     "text": [
      "0 https://www.musinsa.com/index.php?m=street&_y=2019&_mon=8&gender=m&uid=54292\n",
      "1 https://www.musinsa.com/index.php?m=street&_y=2019&_mon=8&gender=m&p=1&uid=54292\n",
      "2 https://www.musinsa.com/index.php?m=street&_y=2019&_mon=8&gender=m&p=2&uid=54628\n",
      "3 https://www.musinsa.com/index.php?m=street&_y=2019&_mon=8&gender=m&p=3&uid=54073\n",
      "4 https://www.musinsa.com/index.php?m=street&_y=2019&_mon=8&gender=m&p=4&uid=53460\n"
     ]
    }
   ],
   "source": [
    "total_link =[]\n",
    "\n",
    "for page_number in range(100):\n",
    "    data = requests.get('https://www.musinsa.com/index.php?m=street&_y=2019&_mon=8&gender=m&p='+str(page_number)+'#listStart')\n",
    "    time.sleep(0.5)\n",
    "    s = bs(data.text,'html')\n",
    "    time.sleep(0.6)\n",
    "    if len([x.a['href'] for x in s.find_all(\"div\",class_='articleImg')]) ==0:\n",
    "        break\n",
    "    else:\n",
    "        total_link +=['https://www.musinsa.com/' +x.a['href'][1:] for x in s.find_all(\"div\",class_='articleImg')] \n",
    "    print(page_number,total_link[-1])"
   ]
  },
  {
   "cell_type": "code",
   "execution_count": 59,
   "metadata": {},
   "outputs": [],
   "source": [
    "for i,link in enumerate(total_link):\n",
    "    link = requests.get(link)\n",
    "    soup = bs(link.text,'html')\n",
    "    img_link = soup.find('div',class_='snapImg').img['src']\n",
    "    url_img = 'http:'+img_link\n",
    "    new_path ='./data/2019/08/male/'\n",
    "    response = requests.get(url_img, stream=True)\n",
    "    with open(new_path+str(i)+\".jpg\", 'wb') as out_file:\n",
    "        shutil.copyfileobj(response.raw, out_file)\n",
    "    del response"
   ]
  },
  {
   "cell_type": "markdown",
   "metadata": {},
   "source": [
    "# 9월 여자"
   ]
  },
  {
   "cell_type": "code",
   "execution_count": 60,
   "metadata": {},
   "outputs": [
    {
     "name": "stdout",
     "output_type": "stream",
     "text": [
      "0 https://www.musinsa.com/index.php?m=street&_y=2019&_mon=9&gender=f&uid=54968\n",
      "1 https://www.musinsa.com/index.php?m=street&_y=2019&_mon=9&gender=f&p=1&uid=54968\n",
      "2 https://www.musinsa.com/index.php?m=street&_y=2019&_mon=9&gender=f&p=2&uid=55095\n",
      "3 https://www.musinsa.com/index.php?m=street&_y=2019&_mon=9&gender=f&p=3&uid=54923\n",
      "4 https://www.musinsa.com/index.php?m=street&_y=2019&_mon=9&gender=f&p=4&uid=54886\n",
      "5 https://www.musinsa.com/index.php?m=street&_y=2019&_mon=9&gender=f&p=5&uid=55443\n",
      "6 https://www.musinsa.com/index.php?m=street&_y=2019&_mon=9&gender=f&p=6&uid=54878\n",
      "7 https://www.musinsa.com/index.php?m=street&_y=2019&_mon=9&gender=f&p=7&uid=54604\n"
     ]
    }
   ],
   "source": [
    "total_link =[]\n",
    "\n",
    "for page_number in range(100):\n",
    "    data = requests.get('https://www.musinsa.com/index.php?m=street&_y=2019&_mon=9&gender=f&p='+str(page_number)+'#listStart')\n",
    "    time.sleep(0.5)\n",
    "    s = bs(data.text,'html')\n",
    "    time.sleep(0.6)\n",
    "    if len([x.a['href'] for x in s.find_all(\"div\",class_='articleImg')]) ==0:\n",
    "        break\n",
    "    else:\n",
    "        total_link +=['https://www.musinsa.com/' +x.a['href'][1:] for x in s.find_all(\"div\",class_='articleImg')] \n",
    "    print(page_number,total_link[-1])"
   ]
  },
  {
   "cell_type": "code",
   "execution_count": 61,
   "metadata": {},
   "outputs": [],
   "source": [
    "for i,link in enumerate(total_link):\n",
    "    link = requests.get(link)\n",
    "    soup = bs(link.text,'html')\n",
    "    img_link = soup.find('div',class_='snapImg').img['src']\n",
    "    url_img = 'http:'+img_link\n",
    "    new_path ='./data/2019/09/fem/'\n",
    "    response = requests.get(url_img, stream=True)\n",
    "    with open(new_path+str(i)+\".jpg\", 'wb') as out_file:\n",
    "        shutil.copyfileobj(response.raw, out_file)\n",
    "    del response"
   ]
  },
  {
   "cell_type": "markdown",
   "metadata": {},
   "source": [
    "# 9월 남자"
   ]
  },
  {
   "cell_type": "code",
   "execution_count": 62,
   "metadata": {},
   "outputs": [
    {
     "name": "stdout",
     "output_type": "stream",
     "text": [
      "0 https://www.musinsa.com/index.php?m=street&_y=2019&_mon=9&gender=m&uid=55044\n",
      "1 https://www.musinsa.com/index.php?m=street&_y=2019&_mon=9&gender=m&p=1&uid=55044\n",
      "2 https://www.musinsa.com/index.php?m=street&_y=2019&_mon=9&gender=m&p=2&uid=54772\n",
      "3 https://www.musinsa.com/index.php?m=street&_y=2019&_mon=9&gender=m&p=3&uid=54834\n",
      "4 https://www.musinsa.com/index.php?m=street&_y=2019&_mon=9&gender=m&p=4&uid=54064\n"
     ]
    }
   ],
   "source": [
    "total_link =[]\n",
    "\n",
    "for page_number in range(100):\n",
    "    data = requests.get('https://www.musinsa.com/index.php?m=street&_y=2019&_mon=9&gender=m&p='+str(page_number)+'#listStart')\n",
    "    time.sleep(0.5)\n",
    "    s = bs(data.text,'html')\n",
    "    time.sleep(0.6)\n",
    "    if len([x.a['href'] for x in s.find_all(\"div\",class_='articleImg')]) ==0:\n",
    "        break\n",
    "    else:\n",
    "        total_link +=['https://www.musinsa.com/' +x.a['href'][1:] for x in s.find_all(\"div\",class_='articleImg')] \n",
    "    print(page_number,total_link[-1])"
   ]
  },
  {
   "cell_type": "code",
   "execution_count": 63,
   "metadata": {},
   "outputs": [],
   "source": [
    "for i,link in enumerate(total_link):\n",
    "    link = requests.get(link)\n",
    "    soup = bs(link.text,'html')\n",
    "    img_link = soup.find('div',class_='snapImg').img['src']\n",
    "    url_img = 'http:'+img_link\n",
    "    new_path ='./data/2019/09/male/'\n",
    "    response = requests.get(url_img, stream=True)\n",
    "    with open(new_path+str(i)+\".jpg\", 'wb') as out_file:\n",
    "        shutil.copyfileobj(response.raw, out_file)\n",
    "    del response"
   ]
  },
  {
   "cell_type": "markdown",
   "metadata": {},
   "source": [
    "# 10월 여자"
   ]
  },
  {
   "cell_type": "code",
   "execution_count": 64,
   "metadata": {},
   "outputs": [
    {
     "name": "stdout",
     "output_type": "stream",
     "text": [
      "0 https://www.musinsa.com/index.php?m=street&_y=2019&_mon=10&gender=f&uid=56643\n",
      "1 https://www.musinsa.com/index.php?m=street&_y=2019&_mon=10&gender=f&p=1&uid=56643\n",
      "2 https://www.musinsa.com/index.php?m=street&_y=2019&_mon=10&gender=f&p=2&uid=55670\n",
      "3 https://www.musinsa.com/index.php?m=street&_y=2019&_mon=10&gender=f&p=3&uid=55881\n",
      "4 https://www.musinsa.com/index.php?m=street&_y=2019&_mon=10&gender=f&p=4&uid=56215\n",
      "5 https://www.musinsa.com/index.php?m=street&_y=2019&_mon=10&gender=f&p=5&uid=55534\n",
      "6 https://www.musinsa.com/index.php?m=street&_y=2019&_mon=10&gender=f&p=6&uid=56187\n",
      "7 https://www.musinsa.com/index.php?m=street&_y=2019&_mon=10&gender=f&p=7&uid=56247\n",
      "8 https://www.musinsa.com/index.php?m=street&_y=2019&_mon=10&gender=f&p=8&uid=56593\n",
      "9 https://www.musinsa.com/index.php?m=street&_y=2019&_mon=10&gender=f&p=9&uid=56151\n"
     ]
    }
   ],
   "source": [
    "total_link =[]\n",
    "\n",
    "for page_number in range(100):\n",
    "    data = requests.get('https://www.musinsa.com/index.php?m=street&_y=2019&_mon=10&gender=f&p='+str(page_number)+'#listStart')\n",
    "    time.sleep(0.5)\n",
    "    s = bs(data.text,'html')\n",
    "    time.sleep(0.6)\n",
    "    if len([x.a['href'] for x in s.find_all(\"div\",class_='articleImg')]) ==0:\n",
    "        break\n",
    "    else:\n",
    "        total_link +=['https://www.musinsa.com/' +x.a['href'][1:] for x in s.find_all(\"div\",class_='articleImg')] \n",
    "    print(page_number,total_link[-1])"
   ]
  },
  {
   "cell_type": "code",
   "execution_count": 65,
   "metadata": {},
   "outputs": [],
   "source": [
    "for i,link in enumerate(total_link):\n",
    "    link = requests.get(link)\n",
    "    soup = bs(link.text,'html')\n",
    "    img_link = soup.find('div',class_='snapImg').img['src']\n",
    "    url_img = 'http:'+img_link\n",
    "    new_path ='./data/2019/10/fem/'\n",
    "    response = requests.get(url_img, stream=True)\n",
    "    with open(new_path+str(i)+\".jpg\", 'wb') as out_file:\n",
    "        shutil.copyfileobj(response.raw, out_file)\n",
    "    del response"
   ]
  },
  {
   "cell_type": "markdown",
   "metadata": {},
   "source": [
    "# 10월 남자"
   ]
  },
  {
   "cell_type": "code",
   "execution_count": 66,
   "metadata": {},
   "outputs": [
    {
     "name": "stdout",
     "output_type": "stream",
     "text": [
      "0 https://www.musinsa.com/index.php?m=street&_y=2019&_mon=10&gender=m&uid=56139\n",
      "1 https://www.musinsa.com/index.php?m=street&_y=2019&_mon=10&gender=m&p=1&uid=56139\n",
      "2 https://www.musinsa.com/index.php?m=street&_y=2019&_mon=10&gender=m&p=2&uid=55303\n",
      "3 https://www.musinsa.com/index.php?m=street&_y=2019&_mon=10&gender=m&p=3&uid=55475\n",
      "4 https://www.musinsa.com/index.php?m=street&_y=2019&_mon=10&gender=m&p=4&uid=56196\n",
      "5 https://www.musinsa.com/index.php?m=street&_y=2019&_mon=10&gender=m&p=5&uid=56072\n"
     ]
    }
   ],
   "source": [
    "total_link =[]\n",
    "\n",
    "for page_number in range(100):\n",
    "    data = requests.get('https://www.musinsa.com/index.php?m=street&_y=2019&_mon=10&gender=m&p='+str(page_number)+'#listStart')\n",
    "    time.sleep(0.5)\n",
    "    s = bs(data.text,'html')\n",
    "    time.sleep(0.6)\n",
    "    if len([x.a['href'] for x in s.find_all(\"div\",class_='articleImg')]) ==0:\n",
    "        break\n",
    "    else:\n",
    "        total_link +=['https://www.musinsa.com/' +x.a['href'][1:] for x in s.find_all(\"div\",class_='articleImg')] \n",
    "    print(page_number,total_link[-1])"
   ]
  },
  {
   "cell_type": "code",
   "execution_count": 67,
   "metadata": {},
   "outputs": [],
   "source": [
    "for i,link in enumerate(total_link):\n",
    "    link = requests.get(link)\n",
    "    soup = bs(link.text,'html')\n",
    "    img_link = soup.find('div',class_='snapImg').img['src']\n",
    "    url_img = 'http:'+img_link\n",
    "    new_path ='./data/2019/10/male/'\n",
    "    response = requests.get(url_img, stream=True)\n",
    "    with open(new_path+str(i)+\".jpg\", 'wb') as out_file:\n",
    "        shutil.copyfileobj(response.raw, out_file)\n",
    "    del response"
   ]
  },
  {
   "cell_type": "markdown",
   "metadata": {},
   "source": [
    "# 11월 여자"
   ]
  },
  {
   "cell_type": "code",
   "execution_count": 3,
   "metadata": {},
   "outputs": [
    {
     "name": "stderr",
     "output_type": "stream",
     "text": [
      "C:\\Users\\salient\\anaconda3\\envs\\pydatavenv\\lib\\site-packages\\bs4\\__init__.py:181: UserWarning: No parser was explicitly specified, so I'm using the best available HTML parser for this system (\"lxml\"). This usually isn't a problem, but if you run this code on another system, or in a different virtual environment, it may use a different parser and behave differently.\n",
      "\n",
      "The code that caused this warning is on line 193 of the file C:\\Users\\salient\\anaconda3\\envs\\pydatavenv\\lib\\runpy.py. To get rid of this warning, change code that looks like this:\n",
      "\n",
      " BeautifulSoup(YOUR_MARKUP})\n",
      "\n",
      "to this:\n",
      "\n",
      " BeautifulSoup(YOUR_MARKUP, \"lxml\")\n",
      "\n",
      "  markup_type=markup_type))\n"
     ]
    },
    {
     "name": "stdout",
     "output_type": "stream",
     "text": [
      "0 https://www.musinsa.com/index.php?m=street&_y=2019&_mon=11&gender=f&uid=56897\n",
      "1 https://www.musinsa.com/index.php?m=street&_y=2019&_mon=11&gender=f&p=1&uid=56897\n",
      "2 https://www.musinsa.com/index.php?m=street&_y=2019&_mon=11&gender=f&p=2&uid=57095\n",
      "3 https://www.musinsa.com/index.php?m=street&_y=2019&_mon=11&gender=f&p=3&uid=57221\n",
      "4 https://www.musinsa.com/index.php?m=street&_y=2019&_mon=11&gender=f&p=4&uid=57512\n",
      "5 https://www.musinsa.com/index.php?m=street&_y=2019&_mon=11&gender=f&p=5&uid=57107\n",
      "6 https://www.musinsa.com/index.php?m=street&_y=2019&_mon=11&gender=f&p=6&uid=55397\n",
      "7 https://www.musinsa.com/index.php?m=street&_y=2019&_mon=11&gender=f&p=7&uid=55536\n"
     ]
    }
   ],
   "source": [
    "total_link =[]\n",
    "\n",
    "for page_number in range(100):\n",
    "    data = requests.get('https://www.musinsa.com/index.php?m=street&_y=2019&_mon=11&gender=f&p='+str(page_number)+'#listStart')\n",
    "    time.sleep(0.5)\n",
    "    s = bs(data.text,'html')\n",
    "    time.sleep(0.6)\n",
    "    if len([x.a['href'] for x in s.find_all(\"div\",class_='articleImg')]) ==0:\n",
    "        break\n",
    "    else:\n",
    "        total_link +=['https://www.musinsa.com/' +x.a['href'][1:] for x in s.find_all(\"div\",class_='articleImg')] \n",
    "    print(page_number,total_link[-1])"
   ]
  },
  {
   "cell_type": "code",
   "execution_count": 4,
   "metadata": {},
   "outputs": [],
   "source": [
    "for i,link in enumerate(total_link):\n",
    "    link = requests.get(link)\n",
    "    soup = bs(link.text,'html')\n",
    "    img_link = soup.find('div',class_='snapImg').img['src']\n",
    "    url_img = 'http:'+img_link\n",
    "    new_path ='./data/2019/11/fem/'\n",
    "    response = requests.get(url_img, stream=True)\n",
    "    with open(new_path+str(i)+\".jpg\", 'wb') as out_file:\n",
    "        shutil.copyfileobj(response.raw, out_file)\n",
    "    del response"
   ]
  },
  {
   "cell_type": "markdown",
   "metadata": {},
   "source": [
    "# 11월 남자"
   ]
  },
  {
   "cell_type": "code",
   "execution_count": 5,
   "metadata": {},
   "outputs": [
    {
     "name": "stdout",
     "output_type": "stream",
     "text": [
      "0 https://www.musinsa.com/index.php?m=street&_y=2019&_mon=11&gender=m&uid=57109\n",
      "1 https://www.musinsa.com/index.php?m=street&_y=2019&_mon=11&gender=m&p=1&uid=57109\n",
      "2 https://www.musinsa.com/index.php?m=street&_y=2019&_mon=11&gender=m&p=2&uid=57412\n",
      "3 https://www.musinsa.com/index.php?m=street&_y=2019&_mon=11&gender=m&p=3&uid=56928\n",
      "4 https://www.musinsa.com/index.php?m=street&_y=2019&_mon=11&gender=m&p=4&uid=55351\n"
     ]
    }
   ],
   "source": [
    "total_link =[]\n",
    "\n",
    "for page_number in range(100):\n",
    "    data = requests.get('https://www.musinsa.com/index.php?m=street&_y=2019&_mon=11&gender=m&p='+str(page_number)+'#listStart')\n",
    "    time.sleep(0.5)\n",
    "    s = bs(data.text,'html')\n",
    "    time.sleep(0.6)\n",
    "    if len([x.a['href'] for x in s.find_all(\"div\",class_='articleImg')]) ==0:\n",
    "        break\n",
    "    else:\n",
    "        total_link +=['https://www.musinsa.com/' +x.a['href'][1:] for x in s.find_all(\"div\",class_='articleImg')] \n",
    "    print(page_number,total_link[-1])"
   ]
  },
  {
   "cell_type": "code",
   "execution_count": 6,
   "metadata": {},
   "outputs": [],
   "source": [
    "for i,link in enumerate(total_link):\n",
    "    link = requests.get(link)\n",
    "    soup = bs(link.text,'html')\n",
    "    img_link = soup.find('div',class_='snapImg').img['src']\n",
    "    url_img = 'http:'+img_link\n",
    "    new_path ='./data/2019/11/male/'\n",
    "    response = requests.get(url_img, stream=True)\n",
    "    with open(new_path+str(i)+\".jpg\", 'wb') as out_file:\n",
    "        shutil.copyfileobj(response.raw, out_file)\n",
    "    del response"
   ]
  },
  {
   "cell_type": "markdown",
   "metadata": {},
   "source": [
    "# 12월 여자"
   ]
  },
  {
   "cell_type": "code",
   "execution_count": 7,
   "metadata": {},
   "outputs": [
    {
     "name": "stdout",
     "output_type": "stream",
     "text": [
      "0 https://www.musinsa.com/index.php?m=street&_y=2019&_mon=12&gender=f&uid=57589\n",
      "1 https://www.musinsa.com/index.php?m=street&_y=2019&_mon=12&gender=f&p=1&uid=57589\n",
      "2 https://www.musinsa.com/index.php?m=street&_y=2019&_mon=12&gender=f&p=2&uid=57853\n",
      "3 https://www.musinsa.com/index.php?m=street&_y=2019&_mon=12&gender=f&p=3&uid=57552\n",
      "4 https://www.musinsa.com/index.php?m=street&_y=2019&_mon=12&gender=f&p=4&uid=57740\n",
      "5 https://www.musinsa.com/index.php?m=street&_y=2019&_mon=12&gender=f&p=5&uid=57548\n"
     ]
    }
   ],
   "source": [
    "total_link =[]\n",
    "\n",
    "for page_number in range(100):\n",
    "    data = requests.get('https://www.musinsa.com/index.php?m=street&_y=2019&_mon=12&gender=f&p='+str(page_number)+'#listStart')\n",
    "    time.sleep(0.5)\n",
    "    s = bs(data.text,'html')\n",
    "    time.sleep(0.6)\n",
    "    if len([x.a['href'] for x in s.find_all(\"div\",class_='articleImg')]) ==0:\n",
    "        break\n",
    "    else:\n",
    "        total_link +=['https://www.musinsa.com/' +x.a['href'][1:] for x in s.find_all(\"div\",class_='articleImg')] \n",
    "    print(page_number,total_link[-1])"
   ]
  },
  {
   "cell_type": "code",
   "execution_count": 8,
   "metadata": {},
   "outputs": [],
   "source": [
    "for i,link in enumerate(total_link):\n",
    "    link = requests.get(link)\n",
    "    soup = bs(link.text,'html')\n",
    "    img_link = soup.find('div',class_='snapImg').img['src']\n",
    "    url_img = 'http:'+img_link\n",
    "    new_path ='./data/2019/12/fem/'\n",
    "    response = requests.get(url_img, stream=True)\n",
    "    with open(new_path+str(i)+\".jpg\", 'wb') as out_file:\n",
    "        shutil.copyfileobj(response.raw, out_file)\n",
    "    del response"
   ]
  },
  {
   "cell_type": "markdown",
   "metadata": {},
   "source": [
    "# 12월 남자"
   ]
  },
  {
   "cell_type": "code",
   "execution_count": 9,
   "metadata": {},
   "outputs": [
    {
     "name": "stdout",
     "output_type": "stream",
     "text": [
      "0 https://www.musinsa.com/index.php?m=street&_y=2019&_mon=12&gender=m&uid=57646\n",
      "1 https://www.musinsa.com/index.php?m=street&_y=2019&_mon=12&gender=m&p=1&uid=57646\n",
      "2 https://www.musinsa.com/index.php?m=street&_y=2019&_mon=12&gender=m&p=2&uid=57576\n",
      "3 https://www.musinsa.com/index.php?m=street&_y=2019&_mon=12&gender=m&p=3&uid=58059\n"
     ]
    }
   ],
   "source": [
    "total_link =[]\n",
    "\n",
    "for page_number in range(100):\n",
    "    data = requests.get('https://www.musinsa.com/index.php?m=street&_y=2019&_mon=12&gender=m&p='+str(page_number)+'#listStart')\n",
    "    time.sleep(0.5)\n",
    "    s = bs(data.text,'html')\n",
    "    time.sleep(0.6)\n",
    "    if len([x.a['href'] for x in s.find_all(\"div\",class_='articleImg')]) ==0:\n",
    "        break\n",
    "    else:\n",
    "        total_link +=['https://www.musinsa.com/' +x.a['href'][1:] for x in s.find_all(\"div\",class_='articleImg')] \n",
    "    print(page_number,total_link[-1])"
   ]
  },
  {
   "cell_type": "code",
   "execution_count": 10,
   "metadata": {},
   "outputs": [],
   "source": [
    "for i,link in enumerate(total_link):\n",
    "    link = requests.get(link)\n",
    "    soup = bs(link.text,'html')\n",
    "    img_link = soup.find('div',class_='snapImg').img['src']\n",
    "    url_img = 'http:'+img_link\n",
    "    new_path ='./data/2019/12/male/'\n",
    "    response = requests.get(url_img, stream=True)\n",
    "    with open(new_path+str(i)+\".jpg\", 'wb') as out_file:\n",
    "        shutil.copyfileobj(response.raw, out_file)\n",
    "    del response"
   ]
  },
  {
   "cell_type": "code",
   "execution_count": null,
   "metadata": {},
   "outputs": [],
   "source": []
  },
  {
   "cell_type": "code",
   "execution_count": null,
   "metadata": {},
   "outputs": [],
   "source": []
  }
 ],
 "metadata": {
  "kernelspec": {
   "display_name": "pydatavenv",
   "language": "python",
   "name": "pydatavenv"
  },
  "language_info": {
   "codemirror_mode": {
    "name": "ipython",
    "version": 3
   },
   "file_extension": ".py",
   "mimetype": "text/x-python",
   "name": "python",
   "nbconvert_exporter": "python",
   "pygments_lexer": "ipython3",
   "version": "3.7.9"
  }
 },
 "nbformat": 4,
 "nbformat_minor": 4
}
