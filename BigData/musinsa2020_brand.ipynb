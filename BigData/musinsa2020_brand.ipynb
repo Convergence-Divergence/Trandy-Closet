{
 "cells": [
  {
   "cell_type": "code",
   "execution_count": 1,
   "metadata": {},
   "outputs": [],
   "source": [
    "import requests\n",
    "import datetime\n",
    "import requests\n",
    "from bs4 import BeautifulSoup as bs\n",
    "import numpy as np\n",
    "import time\n",
    "import shutil"
   ]
  },
  {
   "cell_type": "markdown",
   "metadata": {},
   "source": [
    "# 1월 여자"
   ]
  },
  {
   "cell_type": "code",
   "execution_count": 2,
   "metadata": {},
   "outputs": [
    {
     "name": "stderr",
     "output_type": "stream",
     "text": [
      "C:\\Users\\salient\\anaconda3\\envs\\pydatavenv\\lib\\site-packages\\bs4\\__init__.py:181: UserWarning: No parser was explicitly specified, so I'm using the best available HTML parser for this system (\"lxml\"). This usually isn't a problem, but if you run this code on another system, or in a different virtual environment, it may use a different parser and behave differently.\n",
      "\n",
      "The code that caused this warning is on line 193 of the file C:\\Users\\salient\\anaconda3\\envs\\pydatavenv\\lib\\runpy.py. To get rid of this warning, change code that looks like this:\n",
      "\n",
      " BeautifulSoup(YOUR_MARKUP})\n",
      "\n",
      "to this:\n",
      "\n",
      " BeautifulSoup(YOUR_MARKUP, \"lxml\")\n",
      "\n",
      "  markup_type=markup_type))\n"
     ]
    },
    {
     "name": "stdout",
     "output_type": "stream",
     "text": [
      "0 https://www.musinsa.com/index.php?m=shopstaff&_y=2020&_mon=1&gender=f&uid=109683\n",
      "1 https://www.musinsa.com/index.php?m=shopstaff&_y=2020&_mon=1&gender=f&p=1&uid=109683\n",
      "2 https://www.musinsa.com/index.php?m=shopstaff&_y=2020&_mon=1&gender=f&p=2&uid=109543\n",
      "3 https://www.musinsa.com/index.php?m=shopstaff&_y=2020&_mon=1&gender=f&p=3&uid=109403\n"
     ]
    },
    {
     "ename": "KeyboardInterrupt",
     "evalue": "",
     "output_type": "error",
     "traceback": [
      "\u001b[1;31m---------------------------------------------------------------------------\u001b[0m",
      "\u001b[1;31mKeyboardInterrupt\u001b[0m                         Traceback (most recent call last)",
      "\u001b[1;32m<ipython-input-2-f815d0ca68d0>\u001b[0m in \u001b[0;36m<module>\u001b[1;34m\u001b[0m\n\u001b[0;32m      5\u001b[0m     \u001b[0mtime\u001b[0m\u001b[1;33m.\u001b[0m\u001b[0msleep\u001b[0m\u001b[1;33m(\u001b[0m\u001b[1;36m0.5\u001b[0m\u001b[1;33m)\u001b[0m\u001b[1;33m\u001b[0m\u001b[1;33m\u001b[0m\u001b[0m\n\u001b[0;32m      6\u001b[0m     \u001b[0ms\u001b[0m \u001b[1;33m=\u001b[0m \u001b[0mbs\u001b[0m\u001b[1;33m(\u001b[0m\u001b[0mdata\u001b[0m\u001b[1;33m.\u001b[0m\u001b[0mtext\u001b[0m\u001b[1;33m,\u001b[0m\u001b[1;34m'html'\u001b[0m\u001b[1;33m)\u001b[0m\u001b[1;33m\u001b[0m\u001b[1;33m\u001b[0m\u001b[0m\n\u001b[1;32m----> 7\u001b[1;33m     \u001b[0mtime\u001b[0m\u001b[1;33m.\u001b[0m\u001b[0msleep\u001b[0m\u001b[1;33m(\u001b[0m\u001b[1;36m0.6\u001b[0m\u001b[1;33m)\u001b[0m\u001b[1;33m\u001b[0m\u001b[1;33m\u001b[0m\u001b[0m\n\u001b[0m\u001b[0;32m      8\u001b[0m     \u001b[1;32mif\u001b[0m \u001b[0mlen\u001b[0m\u001b[1;33m(\u001b[0m\u001b[1;33m[\u001b[0m\u001b[0mx\u001b[0m\u001b[1;33m.\u001b[0m\u001b[0ma\u001b[0m\u001b[1;33m[\u001b[0m\u001b[1;34m'href'\u001b[0m\u001b[1;33m]\u001b[0m \u001b[1;32mfor\u001b[0m \u001b[0mx\u001b[0m \u001b[1;32min\u001b[0m \u001b[0ms\u001b[0m\u001b[1;33m.\u001b[0m\u001b[0mfind_all\u001b[0m\u001b[1;33m(\u001b[0m\u001b[1;34m\"div\"\u001b[0m\u001b[1;33m,\u001b[0m\u001b[0mclass_\u001b[0m\u001b[1;33m=\u001b[0m\u001b[1;34m'articleImg'\u001b[0m\u001b[1;33m)\u001b[0m\u001b[1;33m]\u001b[0m\u001b[1;33m)\u001b[0m \u001b[1;33m==\u001b[0m\u001b[1;36m0\u001b[0m\u001b[1;33m:\u001b[0m\u001b[1;33m\u001b[0m\u001b[1;33m\u001b[0m\u001b[0m\n\u001b[0;32m      9\u001b[0m         \u001b[1;32mbreak\u001b[0m\u001b[1;33m\u001b[0m\u001b[1;33m\u001b[0m\u001b[0m\n",
      "\u001b[1;31mKeyboardInterrupt\u001b[0m: "
     ]
    }
   ],
   "source": [
    "total_link =[]\n",
    "\n",
    "for page_number in range(100):\n",
    "    data = requests.get('https://www.musinsa.com/index.php?m=shopstaff&_y=2020&_mon=1&gender=f&p='+str(page_number)+'#listStart')\n",
    "    time.sleep(0.5)\n",
    "    s = bs(data.text,'html')\n",
    "    time.sleep(0.6)\n",
    "    if len([x.a['href'] for x in s.find_all(\"div\",class_='articleImg')]) ==0:\n",
    "        break\n",
    "    else:\n",
    "        total_link +=['https://www.musinsa.com/' +x.a['href'][1:] for x in s.find_all(\"div\",class_='articleImg')] \n",
    "    print(page_number,total_link[-1])"
   ]
  },
  {
   "cell_type": "code",
   "execution_count": null,
   "metadata": {},
   "outputs": [],
   "source": [
    "for i,link in enumerate(total_link):\n",
    "    link = requests.get(link)\n",
    "    soup = bs(link.text,'html')\n",
    "    img_link = soup.find('div',class_='snapImg').img['src']\n",
    "    url_img = 'http:'+img_link\n",
    "    new_path ='./data_brand/2020/01/fem/'\n",
    "    response = requests.get(url_img, stream=True)\n",
    "    with open(new_path+str(i)+\".jpg\", 'wb') as out_file:\n",
    "        shutil.copyfileobj(response.raw, out_file)\n",
    "    del response"
   ]
  },
  {
   "cell_type": "markdown",
   "metadata": {},
   "source": [
    "# 1월 남자"
   ]
  },
  {
   "cell_type": "code",
   "execution_count": null,
   "metadata": {},
   "outputs": [],
   "source": [
    "total_link =[]\n",
    "\n",
    "for page_number in range(100):\n",
    "    data = requests.get('https://www.musinsa.com/index.php?m=shopstaff&_y=2020&_mon=1&gender=m&p='+str(page_number)+'#listStart')\n",
    "    time.sleep(0.5)\n",
    "    s = bs(data.text,'html')\n",
    "    time.sleep(0.6)\n",
    "    if len([x.a['href'] for x in s.find_all(\"div\",class_='articleImg')]) ==0:\n",
    "        break\n",
    "    else:\n",
    "        total_link +=['https://www.musinsa.com/' +x.a['href'][1:] for x in s.find_all(\"div\",class_='articleImg')] \n",
    "    print(page_number,total_link[-1])"
   ]
  },
  {
   "cell_type": "code",
   "execution_count": null,
   "metadata": {},
   "outputs": [],
   "source": [
    "for i,link in enumerate(total_link):\n",
    "    link = requests.get(link)\n",
    "    soup = bs(link.text,'html')\n",
    "    img_link = soup.find('div',class_='snapImg').img['src']\n",
    "    url_img = 'http:'+img_link\n",
    "    new_path ='./data_brand/2020/01/male/'\n",
    "    response = requests.get(url_img, stream=True)\n",
    "    with open(new_path+str(i)+\".jpg\", 'wb') as out_file:\n",
    "        shutil.copyfileobj(response.raw, out_file)\n",
    "    del response"
   ]
  },
  {
   "cell_type": "markdown",
   "metadata": {},
   "source": [
    "# 2월 여자"
   ]
  },
  {
   "cell_type": "code",
   "execution_count": null,
   "metadata": {},
   "outputs": [],
   "source": [
    "total_link =[]\n",
    "\n",
    "for page_number in range(100):\n",
    "    data = requests.get('https://www.musinsa.com/index.php?m=shopstaff&_y=2020&_mon=2&gender=f&p='+str(page_number)+'#listStart')\n",
    "    time.sleep(0.5)\n",
    "    s = bs(data.text,'html')\n",
    "    time.sleep(0.6)\n",
    "    if len([x.a['href'] for x in s.find_all(\"div\",class_='articleImg')]) ==0:\n",
    "        break\n",
    "    else:\n",
    "        total_link +=['https://www.musinsa.com/' +x.a['href'][1:] for x in s.find_all(\"div\",class_='articleImg')] \n",
    "    print(page_number,total_link[-1])"
   ]
  },
  {
   "cell_type": "code",
   "execution_count": null,
   "metadata": {},
   "outputs": [],
   "source": [
    "for i,link in enumerate(total_link):\n",
    "    link = requests.get(link)\n",
    "    soup = bs(link.text,'html')\n",
    "    img_link = soup.find('div',class_='snapImg').img['src']\n",
    "    url_img = 'http:'+img_link\n",
    "    new_path ='./data_brand/2020/02/fem/'\n",
    "    response = requests.get(url_img, stream=True)\n",
    "    with open(new_path+str(i)+\".jpg\", 'wb') as out_file:\n",
    "        shutil.copyfileobj(response.raw, out_file)\n",
    "    del response"
   ]
  },
  {
   "cell_type": "markdown",
   "metadata": {},
   "source": [
    "# 2월 남자"
   ]
  },
  {
   "cell_type": "code",
   "execution_count": null,
   "metadata": {},
   "outputs": [],
   "source": [
    "total_link =[]\n",
    "\n",
    "for page_number in range(100):\n",
    "    data = requests.get('https://www.musinsa.com/index.php?m=shopstaff&_y=2020&_mon=2&gender=m&p='+str(page_number)+'#listStart')\n",
    "    time.sleep(0.5)\n",
    "    s = bs(data.text,'html')\n",
    "    time.sleep(0.6)\n",
    "    if len([x.a['href'] for x in s.find_all(\"div\",class_='articleImg')]) ==0:\n",
    "        break\n",
    "    else:\n",
    "        total_link +=['https://www.musinsa.com/' +x.a['href'][1:] for x in s.find_all(\"div\",class_='articleImg')] \n",
    "    print(page_number,total_link[-1])"
   ]
  },
  {
   "cell_type": "code",
   "execution_count": null,
   "metadata": {},
   "outputs": [],
   "source": [
    "for i,link in enumerate(total_link):\n",
    "    link = requests.get(link)\n",
    "    soup = bs(link.text,'html')\n",
    "    img_link = soup.find('div',class_='snapImg').img['src']\n",
    "    url_img = 'http:'+img_link\n",
    "    new_path ='./data_brand/2020/02/male/'\n",
    "    response = requests.get(url_img, stream=True)\n",
    "    with open(new_path+str(i)+\".jpg\", 'wb') as out_file:\n",
    "        shutil.copyfileobj(response.raw, out_file)\n",
    "    del response"
   ]
  },
  {
   "cell_type": "markdown",
   "metadata": {},
   "source": [
    "# 3월 여자"
   ]
  },
  {
   "cell_type": "code",
   "execution_count": null,
   "metadata": {},
   "outputs": [],
   "source": [
    "total_link =[]\n",
    "\n",
    "for page_number in range(100):\n",
    "    data = requests.get('https://www.musinsa.com/index.php?m=shopstaff&_y=2020&_mon=3&gender=f&p='+str(page_number)+'#listStart')\n",
    "    time.sleep(0.5)\n",
    "    s = bs(data.text,'html')\n",
    "    time.sleep(0.6)\n",
    "    if len([x.a['href'] for x in s.find_all(\"div\",class_='articleImg')]) ==0:\n",
    "        break\n",
    "    else:\n",
    "        total_link +=['https://www.musinsa.com/' +x.a['href'][1:] for x in s.find_all(\"div\",class_='articleImg')] \n",
    "    print(page_number,total_link[-1])"
   ]
  },
  {
   "cell_type": "code",
   "execution_count": null,
   "metadata": {},
   "outputs": [],
   "source": [
    "for i,link in enumerate(total_link):\n",
    "    link = requests.get(link)\n",
    "    soup = bs(link.text,'html')\n",
    "    img_link = soup.find('div',class_='snapImg').img['src']\n",
    "    url_img = 'http:'+img_link\n",
    "    new_path ='./data_brand/2020/03/fem/'\n",
    "    response = requests.get(url_img, stream=True)\n",
    "    with open(new_path+str(i)+\".jpg\", 'wb') as out_file:\n",
    "        shutil.copyfileobj(response.raw, out_file)\n",
    "    del response"
   ]
  },
  {
   "cell_type": "markdown",
   "metadata": {},
   "source": [
    "# 3월 남자"
   ]
  },
  {
   "cell_type": "code",
   "execution_count": null,
   "metadata": {},
   "outputs": [],
   "source": [
    "total_link =[]\n",
    "\n",
    "for page_number in range(100):\n",
    "    data = requests.get('https://www.musinsa.com/index.php?m=shopstaff&_y=2020&_mon=3&gender=m&p='+str(page_number)+'#listStart')\n",
    "    time.sleep(0.5)\n",
    "    s = bs(data.text,'html')\n",
    "    time.sleep(0.6)\n",
    "    if len([x.a['href'] for x in s.find_all(\"div\",class_='articleImg')]) ==0:\n",
    "        break\n",
    "    else:\n",
    "        total_link +=['https://www.musinsa.com/' +x.a['href'][1:] for x in s.find_all(\"div\",class_='articleImg')] \n",
    "    print(page_number,total_link[-1])"
   ]
  },
  {
   "cell_type": "code",
   "execution_count": null,
   "metadata": {},
   "outputs": [],
   "source": [
    "for i,link in enumerate(total_link):\n",
    "    link = requests.get(link)\n",
    "    soup = bs(link.text,'html')\n",
    "    img_link = soup.find('div',class_='snapImg').img['src']\n",
    "    url_img = 'http:'+img_link\n",
    "    new_path ='./data_brand/2020/03/male/'\n",
    "    response = requests.get(url_img, stream=True)\n",
    "    with open(new_path+str(i)+\".jpg\", 'wb') as out_file:\n",
    "        shutil.copyfileobj(response.raw, out_file)\n",
    "    del response"
   ]
  },
  {
   "cell_type": "markdown",
   "metadata": {},
   "source": [
    "# 4월 여자"
   ]
  },
  {
   "cell_type": "code",
   "execution_count": null,
   "metadata": {},
   "outputs": [],
   "source": [
    "total_link =[]\n",
    "\n",
    "for page_number in range(100):\n",
    "    data = requests.get('https://www.musinsa.com/index.php?m=shopstaff&_y=2020&_mon=4&gender=f&p='+str(page_number)+'#listStart')\n",
    "    time.sleep(0.5)\n",
    "    s = bs(data.text,'html')\n",
    "    time.sleep(0.6)\n",
    "    if len([x.a['href'] for x in s.find_all(\"div\",class_='articleImg')]) ==0:\n",
    "        break\n",
    "    else:\n",
    "        total_link +=['https://www.musinsa.com/' +x.a['href'][1:] for x in s.find_all(\"div\",class_='articleImg')] \n",
    "    print(page_number,total_link[-1])"
   ]
  },
  {
   "cell_type": "code",
   "execution_count": null,
   "metadata": {},
   "outputs": [],
   "source": [
    "for i,link in enumerate(total_link):\n",
    "    link = requests.get(link)\n",
    "    soup = bs(link.text,'html')\n",
    "    img_link = soup.find('div',class_='snapImg').img['src']\n",
    "    url_img = 'http:'+img_link\n",
    "    new_path ='./data_brand/2020/04/fem/'\n",
    "    response = requests.get(url_img, stream=True)\n",
    "    with open(new_path+str(i)+\".jpg\", 'wb') as out_file:\n",
    "        shutil.copyfileobj(response.raw, out_file)\n",
    "    del response"
   ]
  },
  {
   "cell_type": "markdown",
   "metadata": {},
   "source": [
    "# 4월 남자"
   ]
  },
  {
   "cell_type": "code",
   "execution_count": null,
   "metadata": {},
   "outputs": [],
   "source": [
    "total_link =[]\n",
    "\n",
    "for page_number in range(100):\n",
    "    data = requests.get('https://www.musinsa.com/index.php?m=shopstaff&_y=2020&_mon=4&gender=m&p='+str(page_number)+'#listStart')\n",
    "    time.sleep(0.5)\n",
    "    s = bs(data.text,'html')\n",
    "    time.sleep(0.6)\n",
    "    if len([x.a['href'] for x in s.find_all(\"div\",class_='articleImg')]) ==0:\n",
    "        break\n",
    "    else:\n",
    "        total_link +=['https://www.musinsa.com/' +x.a['href'][1:] for x in s.find_all(\"div\",class_='articleImg')] \n",
    "    print(page_number,total_link[-1])"
   ]
  },
  {
   "cell_type": "code",
   "execution_count": null,
   "metadata": {},
   "outputs": [],
   "source": [
    "for i,link in enumerate(total_link):\n",
    "    link = requests.get(link)\n",
    "    soup = bs(link.text,'html')\n",
    "    img_link = soup.find('div',class_='snapImg').img['src']\n",
    "    url_img = 'http:'+img_link\n",
    "    new_path ='./data_brand/2020/04/male/'\n",
    "    response = requests.get(url_img, stream=True)\n",
    "    with open(new_path+str(i)+\".jpg\", 'wb') as out_file:\n",
    "        shutil.copyfileobj(response.raw, out_file)\n",
    "    del response"
   ]
  },
  {
   "cell_type": "markdown",
   "metadata": {},
   "source": [
    "# 5월 여자"
   ]
  },
  {
   "cell_type": "code",
   "execution_count": null,
   "metadata": {},
   "outputs": [],
   "source": [
    "total_link =[]\n",
    "\n",
    "for page_number in range(100):\n",
    "    data = requests.get('https://www.musinsa.com/index.php?m=shopstaff&_y=2020&_mon=5&gender=f&p='+str(page_number)+'#listStart')\n",
    "    time.sleep(0.5)\n",
    "    s = bs(data.text,'html')\n",
    "    time.sleep(0.6)\n",
    "    if len([x.a['href'] for x in s.find_all(\"div\",class_='articleImg')]) ==0:\n",
    "        break\n",
    "    else:\n",
    "        total_link +=['https://www.musinsa.com/' +x.a['href'][1:] for x in s.find_all(\"div\",class_='articleImg')] \n",
    "    print(page_number,total_link[-1])"
   ]
  },
  {
   "cell_type": "code",
   "execution_count": null,
   "metadata": {},
   "outputs": [],
   "source": [
    "for i,link in enumerate(total_link):\n",
    "    link = requests.get(link)\n",
    "    soup = bs(link.text,'html')\n",
    "    img_link = soup.find('div',class_='snapImg').img['src']\n",
    "    url_img = 'http:'+img_link\n",
    "    new_path ='./data_brand/2020/05/fem/'\n",
    "    response = requests.get(url_img, stream=True)\n",
    "    with open(new_path+str(i)+\".jpg\", 'wb') as out_file:\n",
    "        shutil.copyfileobj(response.raw, out_file)\n",
    "    del response"
   ]
  },
  {
   "cell_type": "markdown",
   "metadata": {},
   "source": [
    "# 5월 남자"
   ]
  },
  {
   "cell_type": "code",
   "execution_count": null,
   "metadata": {},
   "outputs": [],
   "source": [
    "total_link =[]\n",
    "\n",
    "for page_number in range(100):\n",
    "    data = requests.get('https://www.musinsa.com/index.php?m=shopstaff&_y=2020&_mon=5&gender=m&p='+str(page_number)+'#listStart')\n",
    "    time.sleep(0.5)\n",
    "    s = bs(data.text,'html')\n",
    "    time.sleep(0.6)\n",
    "    if len([x.a['href'] for x in s.find_all(\"div\",class_='articleImg')]) ==0:\n",
    "        break\n",
    "    else:\n",
    "        total_link +=['https://www.musinsa.com/' +x.a['href'][1:] for x in s.find_all(\"div\",class_='articleImg')] \n",
    "    print(page_number,total_link[-1])"
   ]
  },
  {
   "cell_type": "code",
   "execution_count": null,
   "metadata": {},
   "outputs": [],
   "source": [
    "for i,link in enumerate(total_link):\n",
    "    link = requests.get(link)\n",
    "    soup = bs(link.text,'html')\n",
    "    img_link = soup.find('div',class_='snapImg').img['src']\n",
    "    url_img = 'http:'+img_link\n",
    "    new_path ='./data_brand/2020/05/male/'\n",
    "    response = requests.get(url_img, stream=True)\n",
    "    with open(new_path+str(i)+\".jpg\", 'wb') as out_file:\n",
    "        shutil.copyfileobj(response.raw, out_file)\n",
    "    del response"
   ]
  },
  {
   "cell_type": "markdown",
   "metadata": {},
   "source": [
    "# 6월 여자"
   ]
  },
  {
   "cell_type": "code",
   "execution_count": null,
   "metadata": {},
   "outputs": [],
   "source": [
    "total_link =[]\n",
    "\n",
    "for page_number in range(100):\n",
    "    data = requests.get('https://www.musinsa.com/index.php?m=shopstaff&_y=2020&_mon=6&gender=f&p='+str(page_number)+'#listStart')\n",
    "    time.sleep(0.5)\n",
    "    s = bs(data.text,'html')\n",
    "    time.sleep(0.6)\n",
    "    if len([x.a['href'] for x in s.find_all(\"div\",class_='articleImg')]) ==0:\n",
    "        break\n",
    "    else:\n",
    "        total_link +=['https://www.musinsa.com/' +x.a['href'][1:] for x in s.find_all(\"div\",class_='articleImg')] \n",
    "    print(page_number,total_link[-1])"
   ]
  },
  {
   "cell_type": "code",
   "execution_count": null,
   "metadata": {},
   "outputs": [],
   "source": [
    "for i,link in enumerate(total_link):\n",
    "    link = requests.get(link)\n",
    "    soup = bs(link.text,'html')\n",
    "    img_link = soup.find('div',class_='snapImg').img['src']\n",
    "    url_img = 'http:'+img_link\n",
    "    new_path ='./data_brand/2020/06/fem/'\n",
    "    response = requests.get(url_img, stream=True)\n",
    "    with open(new_path+str(i)+\".jpg\", 'wb') as out_file:\n",
    "        shutil.copyfileobj(response.raw, out_file)\n",
    "    del response"
   ]
  },
  {
   "cell_type": "markdown",
   "metadata": {},
   "source": [
    "# 6월 남자"
   ]
  },
  {
   "cell_type": "code",
   "execution_count": null,
   "metadata": {},
   "outputs": [],
   "source": [
    "total_link =[]\n",
    "\n",
    "for page_number in range(100):\n",
    "    data = requests.get('https://www.musinsa.com/index.php?m=shopstaff&_y=2020&_mon=6&gender=m&p='+str(page_number)+'#listStart')\n",
    "    time.sleep(0.5)\n",
    "    s = bs(data.text,'html')\n",
    "    time.sleep(0.6)\n",
    "    if len([x.a['href'] for x in s.find_all(\"div\",class_='articleImg')]) ==0:\n",
    "        break\n",
    "    else:\n",
    "        total_link +=['https://www.musinsa.com/' +x.a['href'][1:] for x in s.find_all(\"div\",class_='articleImg')] \n",
    "    print(page_number,total_link[-1])"
   ]
  },
  {
   "cell_type": "code",
   "execution_count": null,
   "metadata": {},
   "outputs": [],
   "source": [
    "for i,link in enumerate(total_link):\n",
    "    link = requests.get(link)\n",
    "    soup = bs(link.text,'html')\n",
    "    img_link = soup.find('div',class_='snapImg').img['src']\n",
    "    url_img = 'http:'+img_link\n",
    "    new_path ='./data_brand/2020/06/male/'\n",
    "    response = requests.get(url_img, stream=True)\n",
    "    with open(new_path+str(i)+\".jpg\", 'wb') as out_file:\n",
    "        shutil.copyfileobj(response.raw, out_file)\n",
    "    del response"
   ]
  },
  {
   "cell_type": "markdown",
   "metadata": {},
   "source": [
    "# 7월 여자"
   ]
  },
  {
   "cell_type": "code",
   "execution_count": null,
   "metadata": {},
   "outputs": [],
   "source": [
    "total_link =[]\n",
    "\n",
    "for page_number in range(100):\n",
    "    data = requests.get('https://www.musinsa.com/index.php?m=shopstaff&_y=2020&_mon=7&gender=f&p='+str(page_number)+'#listStart')\n",
    "    time.sleep(0.5)\n",
    "    s = bs(data.text,'html')\n",
    "    time.sleep(0.6)\n",
    "    if len([x.a['href'] for x in s.find_all(\"div\",class_='articleImg')]) ==0:\n",
    "        break\n",
    "    else:\n",
    "        total_link +=['https://www.musinsa.com/' +x.a['href'][1:] for x in s.find_all(\"div\",class_='articleImg')] \n",
    "    print(page_number,total_link[-1])"
   ]
  },
  {
   "cell_type": "code",
   "execution_count": null,
   "metadata": {},
   "outputs": [],
   "source": [
    "for i,link in enumerate(total_link):\n",
    "    link = requests.get(link)\n",
    "    soup = bs(link.text,'html')\n",
    "    img_link = soup.find('div',class_='snapImg').img['src']\n",
    "    url_img = 'http:'+img_link\n",
    "    new_path ='./data_brand/2020/07/fem/'\n",
    "    response = requests.get(url_img, stream=True)\n",
    "    with open(new_path+str(i)+\".jpg\", 'wb') as out_file:\n",
    "        shutil.copyfileobj(response.raw, out_file)\n",
    "    del response"
   ]
  },
  {
   "cell_type": "markdown",
   "metadata": {},
   "source": [
    "# 7월 남자"
   ]
  },
  {
   "cell_type": "code",
   "execution_count": null,
   "metadata": {},
   "outputs": [],
   "source": [
    "total_link =[]\n",
    "\n",
    "for page_number in range(100):\n",
    "    data = requests.get('https://www.musinsa.com/index.php?m=shopstaff&_y=2020&_mon=7&gender=m&p='+str(page_number)+'#listStart')\n",
    "    time.sleep(0.5)\n",
    "    s = bs(data.text,'html')\n",
    "    time.sleep(0.6)\n",
    "    if len([x.a['href'] for x in s.find_all(\"div\",class_='articleImg')]) ==0:\n",
    "        break\n",
    "    else:\n",
    "        total_link +=['https://www.musinsa.com/' +x.a['href'][1:] for x in s.find_all(\"div\",class_='articleImg')] \n",
    "    print(page_number,total_link[-1])"
   ]
  },
  {
   "cell_type": "code",
   "execution_count": null,
   "metadata": {},
   "outputs": [],
   "source": [
    "for i,link in enumerate(total_link):\n",
    "    link = requests.get(link)\n",
    "    soup = bs(link.text,'html')\n",
    "    img_link = soup.find('div',class_='snapImg').img['src']\n",
    "    url_img = 'http:'+img_link\n",
    "    new_path ='./data_brand/2020/07/male/'\n",
    "    response = requests.get(url_img, stream=True)\n",
    "    with open(new_path+str(i)+\".jpg\", 'wb') as out_file:\n",
    "        shutil.copyfileobj(response.raw, out_file)\n",
    "    del response"
   ]
  },
  {
   "cell_type": "markdown",
   "metadata": {},
   "source": [
    "# 8월 여자"
   ]
  },
  {
   "cell_type": "code",
   "execution_count": null,
   "metadata": {},
   "outputs": [],
   "source": [
    "total_link =[]\n",
    "\n",
    "for page_number in range(100):\n",
    "    data = requests.get('https://www.musinsa.com/index.php?m=shopstaff&_y=2020&_mon=8&gender=f&p='+str(page_number)+'#listStart')\n",
    "    time.sleep(0.5)\n",
    "    s = bs(data.text,'html')\n",
    "    time.sleep(0.6)\n",
    "    if len([x.a['href'] for x in s.find_all(\"div\",class_='articleImg')]) ==0:\n",
    "        break\n",
    "    else:\n",
    "        total_link +=['https://www.musinsa.com/' +x.a['href'][1:] for x in s.find_all(\"div\",class_='articleImg')] \n",
    "    print(page_number,total_link[-1])"
   ]
  },
  {
   "cell_type": "code",
   "execution_count": null,
   "metadata": {},
   "outputs": [],
   "source": [
    "for i,link in enumerate(total_link):\n",
    "    link = requests.get(link)\n",
    "    soup = bs(link.text,'html')\n",
    "    img_link = soup.find('div',class_='snapImg').img['src']\n",
    "    url_img = 'http:'+img_link\n",
    "    new_path ='./data_brand/2020/08/fem/'\n",
    "    response = requests.get(url_img, stream=True)\n",
    "    with open(new_path+str(i)+\".jpg\", 'wb') as out_file:\n",
    "        shutil.copyfileobj(response.raw, out_file)\n",
    "    del response"
   ]
  },
  {
   "cell_type": "markdown",
   "metadata": {},
   "source": [
    "# 8월 남자"
   ]
  },
  {
   "cell_type": "code",
   "execution_count": null,
   "metadata": {},
   "outputs": [],
   "source": [
    "total_link =[]\n",
    "\n",
    "for page_number in range(100):\n",
    "    data = requests.get('https://www.musinsa.com/index.php?m=shopstaff&_y=2020&_mon=8&gender=m&p='+str(page_number)+'#listStart')\n",
    "    time.sleep(0.5)\n",
    "    s = bs(data.text,'html')\n",
    "    time.sleep(0.6)\n",
    "    if len([x.a['href'] for x in s.find_all(\"div\",class_='articleImg')]) ==0:\n",
    "        break\n",
    "    else:\n",
    "        total_link +=['https://www.musinsa.com/' +x.a['href'][1:] for x in s.find_all(\"div\",class_='articleImg')] \n",
    "    print(page_number,total_link[-1])"
   ]
  },
  {
   "cell_type": "code",
   "execution_count": null,
   "metadata": {},
   "outputs": [],
   "source": [
    "for i,link in enumerate(total_link):\n",
    "    link = requests.get(link)\n",
    "    soup = bs(link.text,'html')\n",
    "    img_link = soup.find('div',class_='snapImg').img['src']\n",
    "    url_img = 'http:'+img_link\n",
    "    new_path ='./data_brand/2020/08/male/'\n",
    "    response = requests.get(url_img, stream=True)\n",
    "    with open(new_path+str(i)+\".jpg\", 'wb') as out_file:\n",
    "        shutil.copyfileobj(response.raw, out_file)\n",
    "    del response"
   ]
  },
  {
   "cell_type": "markdown",
   "metadata": {},
   "source": [
    "# 9월 여자"
   ]
  },
  {
   "cell_type": "code",
   "execution_count": null,
   "metadata": {},
   "outputs": [],
   "source": [
    "total_link =[]\n",
    "\n",
    "for page_number in range(100):\n",
    "    data = requests.get('https://www.musinsa.com/index.php?m=shopstaff&_y=2020&_mon=9&gender=f&p='+str(page_number)+'#listStart')\n",
    "    time.sleep(0.5)\n",
    "    s = bs(data.text,'html')\n",
    "    time.sleep(0.6)\n",
    "    if len([x.a['href'] for x in s.find_all(\"div\",class_='articleImg')]) ==0:\n",
    "        break\n",
    "    else:\n",
    "        total_link +=['https://www.musinsa.com/' +x.a['href'][1:] for x in s.find_all(\"div\",class_='articleImg')] \n",
    "    print(page_number,total_link[-1])"
   ]
  },
  {
   "cell_type": "code",
   "execution_count": null,
   "metadata": {},
   "outputs": [],
   "source": [
    "for i,link in enumerate(total_link):\n",
    "    link = requests.get(link)\n",
    "    soup = bs(link.text,'html')\n",
    "    img_link = soup.find('div',class_='snapImg').img['src']\n",
    "    url_img = 'http:'+img_link\n",
    "    new_path ='./data_brand/2020/09/fem/'\n",
    "    response = requests.get(url_img, stream=True)\n",
    "    with open(new_path+str(i)+\".jpg\", 'wb') as out_file:\n",
    "        shutil.copyfileobj(response.raw, out_file)\n",
    "    del response"
   ]
  },
  {
   "cell_type": "markdown",
   "metadata": {},
   "source": [
    "# 9월 남자"
   ]
  },
  {
   "cell_type": "code",
   "execution_count": null,
   "metadata": {},
   "outputs": [],
   "source": [
    "total_link =[]\n",
    "\n",
    "for page_number in range(100):\n",
    "    data = requests.get('https://www.musinsa.com/index.php?m=shopstaff&_y=2020&_mon=9&gender=m&p='+str(page_number)+'#listStart')\n",
    "    time.sleep(0.5)\n",
    "    s = bs(data.text,'html')\n",
    "    time.sleep(0.6)\n",
    "    if len([x.a['href'] for x in s.find_all(\"div\",class_='articleImg')]) ==0:\n",
    "        break\n",
    "    else:\n",
    "        total_link +=['https://www.musinsa.com/' +x.a['href'][1:] for x in s.find_all(\"div\",class_='articleImg')] \n",
    "    print(page_number,total_link[-1])"
   ]
  },
  {
   "cell_type": "code",
   "execution_count": null,
   "metadata": {},
   "outputs": [],
   "source": [
    "for i,link in enumerate(total_link):\n",
    "    link = requests.get(link)\n",
    "    soup = bs(link.text,'html')\n",
    "    img_link = soup.find('div',class_='snapImg').img['src']\n",
    "    url_img = 'http:'+img_link\n",
    "    new_path ='./data_brand/2020/09/male/'\n",
    "    response = requests.get(url_img, stream=True)\n",
    "    with open(new_path+str(i)+\".jpg\", 'wb') as out_file:\n",
    "        shutil.copyfileobj(response.raw, out_file)\n",
    "    del response"
   ]
  },
  {
   "cell_type": "markdown",
   "metadata": {},
   "source": [
    "# 10월 여자"
   ]
  },
  {
   "cell_type": "code",
   "execution_count": null,
   "metadata": {},
   "outputs": [],
   "source": [
    "total_link =[]\n",
    "\n",
    "for page_number in range(100):\n",
    "    data = requests.get('https://www.musinsa.com/index.php?m=shopstaff&_y=2020&_mon=10&gender=f&p='+str(page_number)+'#listStart')\n",
    "    time.sleep(0.5)\n",
    "    s = bs(data.text,'html')\n",
    "    time.sleep(0.6)\n",
    "    if len([x.a['href'] for x in s.find_all(\"div\",class_='articleImg')]) ==0:\n",
    "        break\n",
    "    else:\n",
    "        total_link +=['https://www.musinsa.com/' +x.a['href'][1:] for x in s.find_all(\"div\",class_='articleImg')] \n",
    "    print(page_number,total_link[-1])"
   ]
  },
  {
   "cell_type": "code",
   "execution_count": null,
   "metadata": {},
   "outputs": [],
   "source": [
    "for i,link in enumerate(total_link):\n",
    "    link = requests.get(link)\n",
    "    soup = bs(link.text,'html')\n",
    "    img_link = soup.find('div',class_='snapImg').img['src']\n",
    "    url_img = 'http:'+img_link\n",
    "    new_path ='./data_brand/2020/10/fem/'\n",
    "    response = requests.get(url_img, stream=True)\n",
    "    with open(new_path+str(i)+\".jpg\", 'wb') as out_file:\n",
    "        shutil.copyfileobj(response.raw, out_file)\n",
    "    del response"
   ]
  },
  {
   "cell_type": "markdown",
   "metadata": {},
   "source": [
    "# 10월 남자"
   ]
  },
  {
   "cell_type": "code",
   "execution_count": null,
   "metadata": {},
   "outputs": [],
   "source": [
    "total_link =[]\n",
    "\n",
    "for page_number in range(100):\n",
    "    data = requests.get('https://www.musinsa.com/index.php?m=shopstaff&_y=2020&_mon=10&gender=m&p='+str(page_number)+'#listStart')\n",
    "    time.sleep(0.5)\n",
    "    s = bs(data.text,'html')\n",
    "    time.sleep(0.6)\n",
    "    if len([x.a['href'] for x in s.find_all(\"div\",class_='articleImg')]) ==0:\n",
    "        break\n",
    "    else:\n",
    "        total_link +=['https://www.musinsa.com/' +x.a['href'][1:] for x in s.find_all(\"div\",class_='articleImg')] \n",
    "    print(page_number,total_link[-1])"
   ]
  },
  {
   "cell_type": "code",
   "execution_count": null,
   "metadata": {},
   "outputs": [],
   "source": [
    "for i,link in enumerate(total_link):\n",
    "    link = requests.get(link)\n",
    "    soup = bs(link.text,'html')\n",
    "    img_link = soup.find('div',class_='snapImg').img['src']\n",
    "    url_img = 'http:'+img_link\n",
    "    new_path ='./data_brand/2020/10/male/'\n",
    "    response = requests.get(url_img, stream=True)\n",
    "    with open(new_path+str(i)+\".jpg\", 'wb') as out_file:\n",
    "        shutil.copyfileobj(response.raw, out_file)\n",
    "    del response"
   ]
  },
  {
   "cell_type": "markdown",
   "metadata": {},
   "source": [
    "# 11월 여자"
   ]
  },
  {
   "cell_type": "code",
   "execution_count": null,
   "metadata": {},
   "outputs": [],
   "source": [
    "total_link =[]\n",
    "\n",
    "for page_number in range(100):\n",
    "    data = requests.get('https://www.musinsa.com/index.php?m=shopstaff&_y=2020&_mon=11&gender=f&p='+str(page_number)+'#listStart')\n",
    "    time.sleep(0.5)\n",
    "    s = bs(data.text,'html')\n",
    "    time.sleep(0.6)\n",
    "    if len([x.a['href'] for x in s.find_all(\"div\",class_='articleImg')]) ==0:\n",
    "        break\n",
    "    else:\n",
    "        total_link +=['https://www.musinsa.com/' +x.a['href'][1:] for x in s.find_all(\"div\",class_='articleImg')] \n",
    "    print(page_number,total_link[-1])"
   ]
  },
  {
   "cell_type": "code",
   "execution_count": null,
   "metadata": {},
   "outputs": [],
   "source": [
    "for i,link in enumerate(total_link):\n",
    "    link = requests.get(link)\n",
    "    soup = bs(link.text,'html')\n",
    "    img_link = soup.find('div',class_='snapImg').img['src']\n",
    "    url_img = 'http:'+img_link\n",
    "    new_path ='./data_brand/2020/11/fem/'\n",
    "    response = requests.get(url_img, stream=True)\n",
    "    with open(new_path+str(i)+\".jpg\", 'wb') as out_file:\n",
    "        shutil.copyfileobj(response.raw, out_file)\n",
    "    del response"
   ]
  },
  {
   "cell_type": "markdown",
   "metadata": {},
   "source": [
    "# 11월 남자"
   ]
  },
  {
   "cell_type": "code",
   "execution_count": null,
   "metadata": {},
   "outputs": [],
   "source": [
    "total_link =[]\n",
    "\n",
    "for page_number in range(100):\n",
    "    data = requests.get('https://www.musinsa.com/index.php?m=shopstaff&_y=2020&_mon=11&gender=m&p='+str(page_number)+'#listStart')\n",
    "    time.sleep(0.5)\n",
    "    s = bs(data.text,'html')\n",
    "    time.sleep(0.6)\n",
    "    if len([x.a['href'] for x in s.find_all(\"div\",class_='articleImg')]) ==0:\n",
    "        break\n",
    "    else:\n",
    "        total_link +=['https://www.musinsa.com/' +x.a['href'][1:] for x in s.find_all(\"div\",class_='articleImg')] \n",
    "    print(page_number,total_link[-1])"
   ]
  },
  {
   "cell_type": "code",
   "execution_count": null,
   "metadata": {},
   "outputs": [],
   "source": [
    "for i,link in enumerate(total_link):\n",
    "    link = requests.get(link)\n",
    "    soup = bs(link.text,'html')\n",
    "    img_link = soup.find('div',class_='snapImg').img['src']\n",
    "    url_img = 'http:'+img_link\n",
    "    new_path ='./data_brand/2020/11/male/'\n",
    "    response = requests.get(url_img, stream=True)\n",
    "    with open(new_path+str(i)+\".jpg\", 'wb') as out_file:\n",
    "        shutil.copyfileobj(response.raw, out_file)\n",
    "    del response"
   ]
  },
  {
   "cell_type": "markdown",
   "metadata": {},
   "source": [
    "# 12월 여자"
   ]
  },
  {
   "cell_type": "code",
   "execution_count": null,
   "metadata": {},
   "outputs": [],
   "source": [
    "total_link =[]\n",
    "\n",
    "for page_number in range(100):\n",
    "    data = requests.get('https://www.musinsa.com/index.php?m=shopstaff&_y=2020&_mon=12&gender=f&p='+str(page_number)+'#listStart')\n",
    "    time.sleep(0.5)\n",
    "    s = bs(data.text,'html')\n",
    "    time.sleep(0.6)\n",
    "    if len([x.a['href'] for x in s.find_all(\"div\",class_='articleImg')]) ==0:\n",
    "        break\n",
    "    else:\n",
    "        total_link +=['https://www.musinsa.com/' +x.a['href'][1:] for x in s.find_all(\"div\",class_='articleImg')] \n",
    "    print(page_number,total_link[-1])"
   ]
  },
  {
   "cell_type": "code",
   "execution_count": null,
   "metadata": {},
   "outputs": [],
   "source": [
    "for i,link in enumerate(total_link):\n",
    "    link = requests.get(link)\n",
    "    soup = bs(link.text,'html')\n",
    "    img_link = soup.find('div',class_='snapImg').img['src']\n",
    "    url_img = 'http:'+img_link\n",
    "    new_path ='./data_brand/2020/12/fem/'\n",
    "    response = requests.get(url_img, stream=True)\n",
    "    with open(new_path+str(i)+\".jpg\", 'wb') as out_file:\n",
    "        shutil.copyfileobj(response.raw, out_file)\n",
    "    del response"
   ]
  },
  {
   "cell_type": "markdown",
   "metadata": {},
   "source": [
    "# 12월 남자"
   ]
  },
  {
   "cell_type": "code",
   "execution_count": null,
   "metadata": {},
   "outputs": [],
   "source": [
    "total_link =[]\n",
    "\n",
    "for page_number in range(100):\n",
    "    data = requests.get('https://www.musinsa.com/index.php?m=shopstaff&_y=2020&_mon=12&gender=m&p='+str(page_number)+'#listStart')\n",
    "    time.sleep(0.5)\n",
    "    s = bs(data.text,'html')\n",
    "    time.sleep(0.6)\n",
    "    if len([x.a['href'] for x in s.find_all(\"div\",class_='articleImg')]) ==0:\n",
    "        break\n",
    "    else:\n",
    "        total_link +=['https://www.musinsa.com/' +x.a['href'][1:] for x in s.find_all(\"div\",class_='articleImg')] \n",
    "    print(page_number,total_link[-1])"
   ]
  },
  {
   "cell_type": "code",
   "execution_count": null,
   "metadata": {},
   "outputs": [],
   "source": [
    "for i,link in enumerate(total_link):\n",
    "    link = requests.get(link)\n",
    "    soup = bs(link.text,'html')\n",
    "    img_link = soup.find('div',class_='snapImg').img['src']\n",
    "    url_img = 'http:'+img_link\n",
    "    new_path ='./data_brand/2020/12/male/'\n",
    "    response = requests.get(url_img, stream=True)\n",
    "    with open(new_path+str(i)+\".jpg\", 'wb') as out_file:\n",
    "        shutil.copyfileobj(response.raw, out_file)\n",
    "    del response"
   ]
  },
  {
   "cell_type": "code",
   "execution_count": null,
   "metadata": {},
   "outputs": [],
   "source": []
  }
 ],
 "metadata": {
  "kernelspec": {
   "display_name": "pydatavenv",
   "language": "python",
   "name": "pydatavenv"
  },
  "language_info": {
   "codemirror_mode": {
    "name": "ipython",
    "version": 3
   },
   "file_extension": ".py",
   "mimetype": "text/x-python",
   "name": "python",
   "nbconvert_exporter": "python",
   "pygments_lexer": "ipython3",
   "version": "3.7.9"
  }
 },
 "nbformat": 4,
 "nbformat_minor": 4
}
