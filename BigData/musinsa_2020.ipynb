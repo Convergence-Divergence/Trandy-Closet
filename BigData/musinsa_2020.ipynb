{
 "cells": [
  {
   "cell_type": "code",
   "execution_count": 2,
   "metadata": {},
   "outputs": [],
   "source": [
    "import requests\n",
    "import datetime\n",
    "import requests\n",
    "from bs4 import BeautifulSoup as bs\n",
    "import numpy as np\n",
    "import time\n",
    "import shutil"
   ]
  },
  {
   "cell_type": "markdown",
   "metadata": {},
   "source": [
    "### 무신사 매거진 2020.winter(10월~12월) 여자"
   ]
  },
  {
   "cell_type": "code",
   "execution_count": 3,
   "metadata": {},
   "outputs": [
    {
     "name": "stdout",
     "output_type": "stream",
     "text": [
      "0 https://www.musinsa.com/index.php?m=street&_y=2020&_mon=12%2C11%2C10&gender=f&uid=66678\n",
      "1 https://www.musinsa.com/index.php?m=street&_y=2020&_mon=12%2C11%2C10&gender=f&p=1&uid=66678\n",
      "2 https://www.musinsa.com/index.php?m=street&_y=2020&_mon=12%2C11%2C10&gender=f&p=2&uid=66494\n",
      "3 https://www.musinsa.com/index.php?m=street&_y=2020&_mon=12%2C11%2C10&gender=f&p=3&uid=66311\n",
      "4 https://www.musinsa.com/index.php?m=street&_y=2020&_mon=12%2C11%2C10&gender=f&p=4&uid=66191\n",
      "5 https://www.musinsa.com/index.php?m=street&_y=2020&_mon=12%2C11%2C10&gender=f&p=5&uid=66045\n",
      "6 https://www.musinsa.com/index.php?m=street&_y=2020&_mon=12%2C11%2C10&gender=f&p=6&uid=65781\n",
      "7 https://www.musinsa.com/index.php?m=street&_y=2020&_mon=12%2C11%2C10&gender=f&p=7&uid=65631\n",
      "8 https://www.musinsa.com/index.php?m=street&_y=2020&_mon=12%2C11%2C10&gender=f&p=8&uid=65402\n",
      "9 https://www.musinsa.com/index.php?m=street&_y=2020&_mon=12%2C11%2C10&gender=f&p=9&uid=65208\n",
      "10 https://www.musinsa.com/index.php?m=street&_y=2020&_mon=12%2C11%2C10&gender=f&p=10&uid=65023\n",
      "11 https://www.musinsa.com/index.php?m=street&_y=2020&_mon=12%2C11%2C10&gender=f&p=11&uid=64817\n",
      "12 https://www.musinsa.com/index.php?m=street&_y=2020&_mon=12%2C11%2C10&gender=f&p=12&uid=64825\n"
     ]
    }
   ],
   "source": [
    "total_link =[]\n",
    "for page_number in range(100):\n",
    "    data = requests.get('https://www.musinsa.com/index.php?m=street&_y=2020&_mon=12%2C11%2C10&gender=f&p='+str(page_number)+'#listStart')\n",
    "    time.sleep(0.5)\n",
    "    s = bs(data.text,'html')\n",
    "    time.sleep(0.6)\n",
    "    if len([x.a['href'] for x in s.find_all(\"div\",class_='articleImg')]) ==0:\n",
    "        break\n",
    "    else:\n",
    "        total_link +=['https://www.musinsa.com/' +x.a['href'][1:] for x in s.find_all(\"div\",class_='articleImg')] \n",
    "    print(page_number,total_link[-1])"
   ]
  },
  {
   "cell_type": "code",
   "execution_count": 4,
   "metadata": {},
   "outputs": [],
   "source": [
    "for i,link in enumerate(total_link):\n",
    "    link = requests.get(link)\n",
    "    soup = bs(link.text,'html')\n",
    "    img_link = soup.find('div',class_='snapImg').img['src']\n",
    "    url_img = 'http:'+img_link\n",
    "    new_path ='./data/2020/winter/fem/'\n",
    "    response = requests.get(url_img, stream=True)\n",
    "    with open(new_path+str(i)+\".jpg\", 'wb') as out_file:\n",
    "        shutil.copyfileobj(response.raw, out_file)\n",
    "    del response"
   ]
  },
  {
   "cell_type": "markdown",
   "metadata": {},
   "source": [
    "### 무신사 매거진 2020.winter(10월~12월) 남자"
   ]
  },
  {
   "cell_type": "code",
   "execution_count": 4,
   "metadata": {},
   "outputs": [
    {
     "name": "stdout",
     "output_type": "stream",
     "text": [
      "0 https://www.musinsa.com/index.php?m=street&_y=2020&_mon=12%2C11%2C10&gender=m&uid=66561\n",
      "1 https://www.musinsa.com/index.php?m=street&_y=2020&_mon=12%2C11%2C10&gender=m&p=1&uid=66561\n",
      "2 https://www.musinsa.com/index.php?m=street&_y=2020&_mon=12%2C11%2C10&gender=m&p=2&uid=66325\n",
      "3 https://www.musinsa.com/index.php?m=street&_y=2020&_mon=12%2C11%2C10&gender=m&p=3&uid=66074\n",
      "4 https://www.musinsa.com/index.php?m=street&_y=2020&_mon=12%2C11%2C10&gender=m&p=4&uid=65838\n",
      "5 https://www.musinsa.com/index.php?m=street&_y=2020&_mon=12%2C11%2C10&gender=m&p=5&uid=65556\n",
      "6 https://www.musinsa.com/index.php?m=street&_y=2020&_mon=12%2C11%2C10&gender=m&p=6&uid=65176\n",
      "7 https://www.musinsa.com/index.php?m=street&_y=2020&_mon=12%2C11%2C10&gender=m&p=7&uid=64988\n",
      "8 https://www.musinsa.com/index.php?m=street&_y=2020&_mon=12%2C11%2C10&gender=m&p=8&uid=64767\n"
     ]
    }
   ],
   "source": [
    "total_link =[]\n",
    "for page_number in range(100):\n",
    "    data = requests.get('https://www.musinsa.com/index.php?m=street&_y=2020&_mon=12%2C11%2C10&gender=m&p='+str(page_number)+'#listStart')\n",
    "    time.sleep(0.5)\n",
    "    s = bs(data.text,'html')\n",
    "    time.sleep(0.6)\n",
    "    if len([x.a['href'] for x in s.find_all(\"div\",class_='articleImg')]) ==0:\n",
    "        break\n",
    "    else:\n",
    "        total_link +=['https://www.musinsa.com/' +x.a['href'][1:] for x in s.find_all(\"div\",class_='articleImg')] \n",
    "    print(page_number,total_link[-1])"
   ]
  },
  {
   "cell_type": "code",
   "execution_count": null,
   "metadata": {},
   "outputs": [],
   "source": [
    "for i,link in enumerate(total_link):\n",
    "    link = requests.get(link)\n",
    "    soup = bs(link.text,'html')\n",
    "    img_link = soup.find('div',class_='snapImg').img['src']\n",
    "    url_img = 'http:'+img_link\n",
    "    new_path ='./data/2020/winter/man/'\n",
    "    response = requests.get(url_img, stream=True)\n",
    "    with open(new_path+str(i)+\".jpg\", 'wb') as out_file:\n",
    "        shutil.copyfileobj(response.raw, out_file)\n",
    "    del response"
   ]
  },
  {
   "cell_type": "markdown",
   "metadata": {},
   "source": [
    "### 무신사 매거진 2020.summer(7월~9월) 여자"
   ]
  },
  {
   "cell_type": "code",
   "execution_count": 9,
   "metadata": {},
   "outputs": [
    {
     "name": "stdout",
     "output_type": "stream",
     "text": [
      "0 https://www.musinsa.com/index.php?m=street&_y=2020&_mon=9%2C8%2C7&gender=f&uid=64545\n",
      "1 https://www.musinsa.com/index.php?m=street&_y=2020&_mon=9%2C8%2C7&gender=f&p=1&uid=64545\n",
      "2 https://www.musinsa.com/index.php?m=street&_y=2020&_mon=9%2C8%2C7&gender=f&p=2&uid=64424\n",
      "3 https://www.musinsa.com/index.php?m=street&_y=2020&_mon=9%2C8%2C7&gender=f&p=3&uid=64255\n",
      "4 https://www.musinsa.com/index.php?m=street&_y=2020&_mon=9%2C8%2C7&gender=f&p=4&uid=64118\n",
      "5 https://www.musinsa.com/index.php?m=street&_y=2020&_mon=9%2C8%2C7&gender=f&p=5&uid=63943\n",
      "6 https://www.musinsa.com/index.php?m=street&_y=2020&_mon=9%2C8%2C7&gender=f&p=6&uid=63078\n",
      "7 https://www.musinsa.com/index.php?m=street&_y=2020&_mon=9%2C8%2C7&gender=f&p=7&uid=63082\n",
      "8 https://www.musinsa.com/index.php?m=street&_y=2020&_mon=9%2C8%2C7&gender=f&p=8&uid=63182\n",
      "9 https://www.musinsa.com/index.php?m=street&_y=2020&_mon=9%2C8%2C7&gender=f&p=9&uid=62601\n",
      "10 https://www.musinsa.com/index.php?m=street&_y=2020&_mon=9%2C8%2C7&gender=f&p=10&uid=62609\n",
      "11 https://www.musinsa.com/index.php?m=street&_y=2020&_mon=9%2C8%2C7&gender=f&p=11&uid=63514\n",
      "12 https://www.musinsa.com/index.php?m=street&_y=2020&_mon=9%2C8%2C7&gender=f&p=12&uid=62237\n",
      "13 https://www.musinsa.com/index.php?m=street&_y=2020&_mon=9%2C8%2C7&gender=f&p=13&uid=62991\n",
      "14 https://www.musinsa.com/index.php?m=street&_y=2020&_mon=9%2C8%2C7&gender=f&p=14&uid=63339\n",
      "15 https://www.musinsa.com/index.php?m=street&_y=2020&_mon=9%2C8%2C7&gender=f&p=15&uid=63140\n",
      "16 https://www.musinsa.com/index.php?m=street&_y=2020&_mon=9%2C8%2C7&gender=f&p=16&uid=62862\n",
      "17 https://www.musinsa.com/index.php?m=street&_y=2020&_mon=9%2C8%2C7&gender=f&p=17&uid=63267\n",
      "18 https://www.musinsa.com/index.php?m=street&_y=2020&_mon=9%2C8%2C7&gender=f&p=18&uid=63717\n",
      "19 https://www.musinsa.com/index.php?m=street&_y=2020&_mon=9%2C8%2C7&gender=f&p=19&uid=62257\n"
     ]
    }
   ],
   "source": [
    "total_link =[]\n",
    "for page_number in range(100):\n",
    "    data = requests.get('https://www.musinsa.com/index.php?m=street&_y=2020&_mon=9%2C8%2C7&gender=f&p='+str(page_number)+'#listStart')\n",
    "    time.sleep(0.5)\n",
    "    s = bs(data.text,'html')\n",
    "    time.sleep(0.6)\n",
    "    if len([x.a['href'] for x in s.find_all(\"div\",class_='articleImg')]) ==0:\n",
    "        break\n",
    "    else:\n",
    "        total_link +=['https://www.musinsa.com/' +x.a['href'][1:] for x in s.find_all(\"div\",class_='articleImg')] \n",
    "    print(page_number,total_link[-1])"
   ]
  },
  {
   "cell_type": "code",
   "execution_count": 10,
   "metadata": {},
   "outputs": [],
   "source": [
    "for i,link in enumerate(total_link):\n",
    "    link = requests.get(link)\n",
    "    soup = bs(link.text,'html')\n",
    "    img_link = soup.find('div',class_='snapImg').img['src']\n",
    "    url_img = 'http:'+img_link\n",
    "    new_path ='./data/2020/summer/fem/'\n",
    "    response = requests.get(url_img, stream=True)\n",
    "    with open(new_path+str(i)+\".jpg\", 'wb') as out_file:\n",
    "        shutil.copyfileobj(response.raw, out_file)\n",
    "    del response"
   ]
  },
  {
   "cell_type": "markdown",
   "metadata": {},
   "source": [
    "### 무신사 매거진 2020.summer(7월~9월) 남자"
   ]
  },
  {
   "cell_type": "code",
   "execution_count": 5,
   "metadata": {},
   "outputs": [
    {
     "name": "stdout",
     "output_type": "stream",
     "text": [
      "0 https://www.musinsa.com/index.php?m=street&_y=2020&_mon=9%2C8%2C7&gender=m&uid=64395\n",
      "1 https://www.musinsa.com/index.php?m=street&_y=2020&_mon=9%2C8%2C7&gender=m&p=1&uid=64395\n",
      "2 https://www.musinsa.com/index.php?m=street&_y=2020&_mon=9%2C8%2C7&gender=m&p=2&uid=64098\n",
      "3 https://www.musinsa.com/index.php?m=street&_y=2020&_mon=9%2C8%2C7&gender=m&p=3&uid=63891\n",
      "4 https://www.musinsa.com/index.php?m=street&_y=2020&_mon=9%2C8%2C7&gender=m&p=4&uid=63028\n",
      "5 https://www.musinsa.com/index.php?m=street&_y=2020&_mon=9%2C8%2C7&gender=m&p=5&uid=62273\n",
      "6 https://www.musinsa.com/index.php?m=street&_y=2020&_mon=9%2C8%2C7&gender=m&p=6&uid=62518\n",
      "7 https://www.musinsa.com/index.php?m=street&_y=2020&_mon=9%2C8%2C7&gender=m&p=7&uid=62505\n",
      "8 https://www.musinsa.com/index.php?m=street&_y=2020&_mon=9%2C8%2C7&gender=m&p=8&uid=63720\n",
      "9 https://www.musinsa.com/index.php?m=street&_y=2020&_mon=9%2C8%2C7&gender=m&p=9&uid=63275\n"
     ]
    }
   ],
   "source": [
    "total_link =[]\n",
    "for page_number in range(100):\n",
    "    data = requests.get('https://www.musinsa.com/index.php?m=street&_y=2020&_mon=9%2C8%2C7&gender=m&p='+str(page_number)+'#listStart')\n",
    "    time.sleep(0.5)\n",
    "    s = bs(data.text,'html')\n",
    "    time.sleep(0.6)\n",
    "    if len([x.a['href'] for x in s.find_all(\"div\",class_='articleImg')]) ==0:\n",
    "        break\n",
    "    else:\n",
    "        total_link +=['https://www.musinsa.com/' +x.a['href'][1:] for x in s.find_all(\"div\",class_='articleImg')] \n",
    "    print(page_number,total_link[-1])"
   ]
  },
  {
   "cell_type": "code",
   "execution_count": 8,
   "metadata": {},
   "outputs": [],
   "source": [
    "for i,link in enumerate(total_link):\n",
    "    link = requests.get(link)\n",
    "    soup = bs(link.text,'html')\n",
    "    img_link = soup.find('div',class_='snapImg').img['src']\n",
    "    url_img = 'http:'+img_link\n",
    "    new_path ='./data/2020/summer/man/'\n",
    "    response = requests.get(url_img, stream=True)\n",
    "    with open(new_path+str(i)+\".jpg\", 'wb') as out_file:\n",
    "        shutil.copyfileobj(response.raw, out_file)\n",
    "    del response"
   ]
  },
  {
   "cell_type": "markdown",
   "metadata": {},
   "source": [
    "### 무신사 매거진 2020.(4월~6월) 여자"
   ]
  },
  {
   "cell_type": "code",
   "execution_count": 14,
   "metadata": {},
   "outputs": [
    {
     "name": "stdout",
     "output_type": "stream",
     "text": [
      "0 https://www.musinsa.com/index.php?m=street&_y=2020&_mon=6%2C5%2C4&gender=f&uid=61751\n",
      "1 https://www.musinsa.com/index.php?m=street&_y=2020&_mon=6%2C5%2C4&gender=f&p=1&uid=61751\n",
      "2 https://www.musinsa.com/index.php?m=street&_y=2020&_mon=6%2C5%2C4&gender=f&p=2&uid=61202\n",
      "3 https://www.musinsa.com/index.php?m=street&_y=2020&_mon=6%2C5%2C4&gender=f&p=3&uid=60929\n",
      "4 https://www.musinsa.com/index.php?m=street&_y=2020&_mon=6%2C5%2C4&gender=f&p=4&uid=61871\n",
      "5 https://www.musinsa.com/index.php?m=street&_y=2020&_mon=6%2C5%2C4&gender=f&p=5&uid=60367\n",
      "6 https://www.musinsa.com/index.php?m=street&_y=2020&_mon=6%2C5%2C4&gender=f&p=6&uid=61420\n",
      "7 https://www.musinsa.com/index.php?m=street&_y=2020&_mon=6%2C5%2C4&gender=f&p=7&uid=61093\n",
      "8 https://www.musinsa.com/index.php?m=street&_y=2020&_mon=6%2C5%2C4&gender=f&p=8&uid=60946\n",
      "9 https://www.musinsa.com/index.php?m=street&_y=2020&_mon=6%2C5%2C4&gender=f&p=9&uid=61912\n",
      "10 https://www.musinsa.com/index.php?m=street&_y=2020&_mon=6%2C5%2C4&gender=f&p=10&uid=61256\n",
      "11 https://www.musinsa.com/index.php?m=street&_y=2020&_mon=6%2C5%2C4&gender=f&p=11&uid=60744\n",
      "12 https://www.musinsa.com/index.php?m=street&_y=2020&_mon=6%2C5%2C4&gender=f&p=12&uid=62015\n",
      "13 https://www.musinsa.com/index.php?m=street&_y=2020&_mon=6%2C5%2C4&gender=f&p=13&uid=61579\n",
      "14 https://www.musinsa.com/index.php?m=street&_y=2020&_mon=6%2C5%2C4&gender=f&p=14&uid=61587\n",
      "15 https://www.musinsa.com/index.php?m=street&_y=2020&_mon=6%2C5%2C4&gender=f&p=15&uid=60159\n",
      "16 https://www.musinsa.com/index.php?m=street&_y=2020&_mon=6%2C5%2C4&gender=f&p=16&uid=62028\n",
      "17 https://www.musinsa.com/index.php?m=street&_y=2020&_mon=6%2C5%2C4&gender=f&p=17&uid=62098\n"
     ]
    }
   ],
   "source": [
    "total_link =[]\n",
    "for page_number in range(100):\n",
    "    data = requests.get('https://www.musinsa.com/index.php?m=street&_y=2020&_mon=6%2C5%2C4&gender=f&p='+str(page_number)+'#listStart')\n",
    "    time.sleep(0.5)\n",
    "    s = bs(data.text,'html')\n",
    "    time.sleep(0.6)\n",
    "    if len([x.a['href'] for x in s.find_all(\"div\",class_='articleImg')]) ==0:\n",
    "        break\n",
    "    else:\n",
    "        total_link +=['https://www.musinsa.com/' +x.a['href'][1:] for x in s.find_all(\"div\",class_='articleImg')] \n",
    "    print(page_number,total_link[-1])"
   ]
  },
  {
   "cell_type": "code",
   "execution_count": 16,
   "metadata": {},
   "outputs": [],
   "source": [
    "for i,link in enumerate(total_link):\n",
    "    link = requests.get(link)\n",
    "    soup = bs(link.text,'html')\n",
    "    img_link = soup.find('div',class_='snapImg').img['src']\n",
    "    url_img = 'http:'+img_link\n",
    "    new_path ='./data/2020/spring/fem/'\n",
    "    response = requests.get(url_img, stream=True)\n",
    "    with open(new_path+str(i)+\".jpg\", 'wb') as out_file:\n",
    "        shutil.copyfileobj(response.raw, out_file)\n",
    "    del response"
   ]
  },
  {
   "cell_type": "markdown",
   "metadata": {},
   "source": [
    "### 무신사 매거진 2020.(4월~6월) 남자"
   ]
  },
  {
   "cell_type": "code",
   "execution_count": 11,
   "metadata": {},
   "outputs": [
    {
     "name": "stdout",
     "output_type": "stream",
     "text": [
      "0 https://www.musinsa.com/index.php?m=street&_y=2020&_mon=6%2C5%2C4&gender=m&uid=61335\n",
      "1 https://www.musinsa.com/index.php?m=street&_y=2020&_mon=6%2C5%2C4&gender=m&p=1&uid=61335\n",
      "2 https://www.musinsa.com/index.php?m=street&_y=2020&_mon=6%2C5%2C4&gender=m&p=2&uid=61018\n",
      "3 https://www.musinsa.com/index.php?m=street&_y=2020&_mon=6%2C5%2C4&gender=m&p=3&uid=60251\n",
      "4 https://www.musinsa.com/index.php?m=street&_y=2020&_mon=6%2C5%2C4&gender=m&p=4&uid=60854\n",
      "5 https://www.musinsa.com/index.php?m=street&_y=2020&_mon=6%2C5%2C4&gender=m&p=5&uid=61408\n",
      "6 https://www.musinsa.com/index.php?m=street&_y=2020&_mon=6%2C5%2C4&gender=m&p=6&uid=61213\n",
      "7 https://www.musinsa.com/index.php?m=street&_y=2020&_mon=6%2C5%2C4&gender=m&p=7&uid=60595\n",
      "8 https://www.musinsa.com/index.php?m=street&_y=2020&_mon=6%2C5%2C4&gender=m&p=8&uid=60338\n",
      "9 https://www.musinsa.com/index.php?m=street&_y=2020&_mon=6%2C5%2C4&gender=m&p=9&uid=60528\n",
      "10 https://www.musinsa.com/index.php?m=street&_y=2020&_mon=6%2C5%2C4&gender=m&p=10&uid=62135\n"
     ]
    }
   ],
   "source": [
    "total_link =[]\n",
    "for page_number in range(100):\n",
    "    data = requests.get('https://www.musinsa.com/index.php?m=street&_y=2020&_mon=6%2C5%2C4&gender=m&p='+str(page_number)+'#listStart')\n",
    "    time.sleep(0.5)\n",
    "    s = bs(data.text,'html')\n",
    "    time.sleep(0.6)\n",
    "    if len([x.a['href'] for x in s.find_all(\"div\",class_='articleImg')]) ==0:\n",
    "        break\n",
    "    else:\n",
    "        total_link +=['https://www.musinsa.com/' +x.a['href'][1:] for x in s.find_all(\"div\",class_='articleImg')] \n",
    "    print(page_number,total_link[-1])"
   ]
  },
  {
   "cell_type": "code",
   "execution_count": 13,
   "metadata": {},
   "outputs": [],
   "source": [
    "for i,link in enumerate(total_link):\n",
    "    link = requests.get(link)\n",
    "    soup = bs(link.text,'html')\n",
    "    img_link = soup.find('div',class_='snapImg').img['src']\n",
    "    url_img = 'http:'+img_link\n",
    "    new_path ='./data/2020/spring/man/'\n",
    "    response = requests.get(url_img, stream=True)\n",
    "    with open(new_path+str(i)+\".jpg\", 'wb') as out_file:\n",
    "        shutil.copyfileobj(response.raw, out_file)\n",
    "    del response"
   ]
  },
  {
   "cell_type": "markdown",
   "metadata": {},
   "source": [
    "### 무신사 매거진 2020.(1월~3월) 여자"
   ]
  },
  {
   "cell_type": "code",
   "execution_count": 18,
   "metadata": {},
   "outputs": [
    {
     "name": "stdout",
     "output_type": "stream",
     "text": [
      "0 https://www.musinsa.com/index.php?m=street&_y=2020&_mon=3%2C2%2C1&gender=f&uid=59965\n",
      "1 https://www.musinsa.com/index.php?m=street&_y=2020&_mon=3%2C2%2C1&gender=f&p=1&uid=59965\n",
      "2 https://www.musinsa.com/index.php?m=street&_y=2020&_mon=3%2C2%2C1&gender=f&p=2&uid=59996\n",
      "3 https://www.musinsa.com/index.php?m=street&_y=2020&_mon=3%2C2%2C1&gender=f&p=3&uid=58344\n",
      "4 https://www.musinsa.com/index.php?m=street&_y=2020&_mon=3%2C2%2C1&gender=f&p=4&uid=59998\n",
      "5 https://www.musinsa.com/index.php?m=street&_y=2020&_mon=3%2C2%2C1&gender=f&p=5&uid=58941\n",
      "6 https://www.musinsa.com/index.php?m=street&_y=2020&_mon=3%2C2%2C1&gender=f&p=6&uid=58842\n",
      "7 https://www.musinsa.com/index.php?m=street&_y=2020&_mon=3%2C2%2C1&gender=f&p=7&uid=59595\n",
      "8 https://www.musinsa.com/index.php?m=street&_y=2020&_mon=3%2C2%2C1&gender=f&p=8&uid=59121\n",
      "9 https://www.musinsa.com/index.php?m=street&_y=2020&_mon=3%2C2%2C1&gender=f&p=9&uid=59356\n",
      "10 https://www.musinsa.com/index.php?m=street&_y=2020&_mon=3%2C2%2C1&gender=f&p=10&uid=59123\n",
      "11 https://www.musinsa.com/index.php?m=street&_y=2020&_mon=3%2C2%2C1&gender=f&p=11&uid=58606\n",
      "12 https://www.musinsa.com/index.php?m=street&_y=2020&_mon=3%2C2%2C1&gender=f&p=12&uid=59791\n",
      "13 https://www.musinsa.com/index.php?m=street&_y=2020&_mon=3%2C2%2C1&gender=f&p=13&uid=59305\n",
      "14 https://www.musinsa.com/index.php?m=street&_y=2020&_mon=3%2C2%2C1&gender=f&p=14&uid=59561\n",
      "15 https://www.musinsa.com/index.php?m=street&_y=2020&_mon=3%2C2%2C1&gender=f&p=15&uid=59578\n",
      "16 https://www.musinsa.com/index.php?m=street&_y=2020&_mon=3%2C2%2C1&gender=f&p=16&uid=59116\n"
     ]
    }
   ],
   "source": [
    "total_link =[]\n",
    "for page_number in range(100):\n",
    "    data = requests.get('https://www.musinsa.com/index.php?m=street&_y=2020&_mon=3%2C2%2C1&gender=f&p='+str(page_number)+'#listStart')\n",
    "    time.sleep(0.5)\n",
    "    s = bs(data.text,'html')\n",
    "    time.sleep(0.6)\n",
    "    if len([x.a['href'] for x in s.find_all(\"div\",class_='articleImg')]) ==0:\n",
    "        break\n",
    "    else:\n",
    "        total_link +=['https://www.musinsa.com/' +x.a['href'][1:] for x in s.find_all(\"div\",class_='articleImg')] \n",
    "    print(page_number,total_link[-1])"
   ]
  },
  {
   "cell_type": "code",
   "execution_count": null,
   "metadata": {},
   "outputs": [],
   "source": [
    "for i,link in enumerate(total_link):\n",
    "    link = requests.get(link)\n",
    "    soup = bs(link.text,'html')\n",
    "    img_link = soup.find('div',class_='snapImg').img['src']\n",
    "    url_img = 'http:'+img_link\n",
    "    new_path ='./data/2020/1_3/fem/'\n",
    "    response = requests.get(url_img, stream=True)\n",
    "    with open(new_path+str(i)+\".jpg\", 'wb') as out_file:\n",
    "        shutil.copyfileobj(response.raw, out_file)\n",
    "    del response"
   ]
  },
  {
   "cell_type": "markdown",
   "metadata": {},
   "source": [
    "### 무신사 매거진 2020.(1월~3월) 남자"
   ]
  },
  {
   "cell_type": "code",
   "execution_count": null,
   "metadata": {},
   "outputs": [],
   "source": [
    "total_link =[]\n",
    "for page_number in range(100):\n",
    "    data = requests.get('https://www.musinsa.com/index.php?m=street&_y=2020&_mon=3%2C2%2C1&gender=m&p='+str(page_number)+'#listStart')\n",
    "    time.sleep(0.5)\n",
    "    s = bs(data.text,'html')\n",
    "    time.sleep(0.6)\n",
    "    if len([x.a['href'] for x in s.find_all(\"div\",class_='articleImg')]) ==0:\n",
    "        break\n",
    "    else:\n",
    "        total_link +=['https://www.musinsa.com/' +x.a['href'][1:] for x in s.find_all(\"div\",class_='articleImg')] \n",
    "    print(page_number,total_link[-1])"
   ]
  },
  {
   "cell_type": "code",
   "execution_count": null,
   "metadata": {},
   "outputs": [],
   "source": [
    "for i,link in enumerate(total_link):\n",
    "    link = requests.get(link)\n",
    "    soup = bs(link.text,'html')\n",
    "    img_link = soup.find('div',class_='snapImg').img['src']\n",
    "    url_img = 'http:'+img_link\n",
    "    new_path ='./data/2020/1_3/man/'\n",
    "    response = requests.get(url_img, stream=True)\n",
    "    with open(new_path+str(i)+\".jpg\", 'wb') as out_file:\n",
    "        shutil.copyfileobj(response.raw, out_file)\n",
    "    del response"
   ]
  }
 ],
 "metadata": {
  "kernelspec": {
   "display_name": "Python 3",
   "language": "python",
   "name": "python3"
  },
  "language_info": {
   "codemirror_mode": {
    "name": "ipython",
    "version": 3
   },
   "file_extension": ".py",
   "mimetype": "text/x-python",
   "name": "python",
   "nbconvert_exporter": "python",
   "pygments_lexer": "ipython3",
   "version": "3.8.3"
  }
 },
 "nbformat": 4,
 "nbformat_minor": 4
}
