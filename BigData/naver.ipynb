{
 "cells": [
  {
   "cell_type": "code",
   "execution_count": null,
   "metadata": {},
   "outputs": [],
   "source": [
    "from bs4 import BeautifulSoup\n",
    "import requests\n",
    "import csv\n",
    "\n",
    "csv_filename = \"naver_news_스타일링.csv\"\n",
    "csv_open = open(csv_filename, \"w+\", encoding='utf-8')\n",
    "csv_writer = csv.writer(csv_open)\n",
    "csv_writer.writerow( ('Title', 'Date', 'Source') )  #제목 입력\n",
    "\n",
    "# 총 100까지, 10페이지간의 간격으로 진행\n",
    "for n in range(1,4000,10):\n",
    "    req = requests.get(\"https://search.naver.com/search.naver?where=news&sm=tab_jum&query=스타일링&start=\"+str(n), \n",
    "                        headers={'User-Agent':'Chrome/51.0.2704.103'})\n",
    "    html = req.text\n",
    "    soup = BeautifulSoup(html, 'html.parser')\n",
    "\n",
    "    articles = soup.select('ul.list_news > li')\n",
    "\n",
    "    for article in articles:\n",
    "        title = article.select_one(\"a.news_tit\").text          \n",
    "        # 기사 제목\n",
    "        others = article.select_one(\"span.info\").text          \n",
    "        # date 추출을 위해 여러 정보를 불러옴\n",
    "        agency = article.select_one(\"a.api_txt_lines.dsc_txt_wrap\").text     \n",
    "        # 언론사\n",
    "        \n",
    "        agency = agency.rstrip(\"언론사 선정\")                           \n",
    "        # 불필요한 문자 삭제\n",
    "        \n",
    "        start = others.find('2')\n",
    "        end = start + 10\n",
    "        article_date = others[start:end]\n",
    "\n",
    "        csv_writer.writerow ( (title, article_date, agency) )\n",
    "\n",
    "csv_open.close()"
   ]
  },
  {
   "cell_type": "code",
   "execution_count": null,
   "metadata": {},
   "outputs": [],
   "source": []
  }
 ],
 "metadata": {
  "kernelspec": {
   "display_name": "pydatavenv",
   "language": "python",
   "name": "pydatavenv"
  },
  "language_info": {
   "codemirror_mode": {
    "name": "ipython",
    "version": 3
   },
   "file_extension": ".py",
   "mimetype": "text/x-python",
   "name": "python",
   "nbconvert_exporter": "python",
   "pygments_lexer": "ipython3",
   "version": "3.7.9"
  }
 },
 "nbformat": 4,
 "nbformat_minor": 4
}
